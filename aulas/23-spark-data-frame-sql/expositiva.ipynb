{
 "cells": [
  {
   "cell_type": "code",
   "execution_count": 1,
   "metadata": {},
   "outputs": [
    {
     "name": "stderr",
     "output_type": "stream",
     "text": [
      "25/05/15 15:54:25 WARN Utils: Your hostname, sg resolves to a loopback address: 127.0.1.1; using 10.100.25.210 instead (on interface wlo1)\n",
      "25/05/15 15:54:25 WARN Utils: Set SPARK_LOCAL_IP if you need to bind to another address\n",
      "Setting default log level to \"WARN\".\n",
      "To adjust logging level use sc.setLogLevel(newLevel). For SparkR, use setLogLevel(newLevel).\n",
      "25/05/15 15:54:25 WARN NativeCodeLoader: Unable to load native-hadoop library for your platform... using builtin-java classes where applicable\n"
     ]
    }
   ],
   "source": [
    "from pyspark.sql import SparkSession\n",
    "spark = SparkSession.builder.appName(\"MinhaAplicacao\").getOrCreate()\n",
    "sc = spark.sparkContext"
   ]
  },
  {
   "cell_type": "code",
   "execution_count": 2,
   "metadata": {},
   "outputs": [
    {
     "data": {
      "text/html": [
       "\n",
       "        <div>\n",
       "            <p><b>SparkContext</b></p>\n",
       "\n",
       "            <p><a href=\"http://10.100.25.210:4040\">Spark UI</a></p>\n",
       "\n",
       "            <dl>\n",
       "              <dt>Version</dt>\n",
       "                <dd><code>v3.5.0</code></dd>\n",
       "              <dt>Master</dt>\n",
       "                <dd><code>local[*]</code></dd>\n",
       "              <dt>AppName</dt>\n",
       "                <dd><code>MinhaAplicacao</code></dd>\n",
       "            </dl>\n",
       "        </div>\n",
       "        "
      ],
      "text/plain": [
       "<SparkContext master=local[*] appName=MinhaAplicacao>"
      ]
     },
     "execution_count": 2,
     "metadata": {},
     "output_type": "execute_result"
    }
   ],
   "source": [
    "sc"
   ]
  },
  {
   "cell_type": "code",
   "execution_count": 3,
   "metadata": {},
   "outputs": [],
   "source": [
    "rdd = sc.textFile(\"pacientes.csv\")"
   ]
  },
  {
   "cell_type": "code",
   "execution_count": 7,
   "metadata": {},
   "outputs": [
    {
     "data": {
      "text/plain": [
       "['PatientId,AppointmentID,Gender,ScheduledDay,AppointmentDay,Age,Neighbourhood,Scholarship,Hipertension,Diabetes,Alcoholism,Handcap,SMS_received,No-show']"
      ]
     },
     "execution_count": 7,
     "metadata": {},
     "output_type": "execute_result"
    }
   ],
   "source": [
    "rdd.take(1)"
   ]
  },
  {
   "cell_type": "code",
   "execution_count": 5,
   "metadata": {},
   "outputs": [
    {
     "name": "stderr",
     "output_type": "stream",
     "text": [
      "[Stage 1:>                                                          (0 + 2) / 2]\r"
     ]
    },
    {
     "name": "stdout",
     "output_type": "stream",
     "text": [
      "CPU times: user 11.2 ms, sys: 5.91 ms, total: 17.2 ms\n",
      "Wall time: 1.48 s\n"
     ]
    },
    {
     "name": "stderr",
     "output_type": "stream",
     "text": [
      "                                                                                \r"
     ]
    },
    {
     "data": {
      "text/plain": [
       "110528"
      ]
     },
     "execution_count": 5,
     "metadata": {},
     "output_type": "execute_result"
    }
   ],
   "source": [
    "%%time\n",
    "rdd.count()"
   ]
  },
  {
   "cell_type": "code",
   "execution_count": 8,
   "metadata": {},
   "outputs": [
    {
     "name": "stderr",
     "output_type": "stream",
     "text": [
      "[Stage 7:===================>                                       (1 + 2) / 3]\r"
     ]
    },
    {
     "name": "stdout",
     "output_type": "stream",
     "text": [
      "+-------------------+-------------+------+-------------------+-------------------+---+-----------------+-----------+------------+--------+----------+-------+------------+-------+\n",
      "|          PatientId|AppointmentID|Gender|       ScheduledDay|     AppointmentDay|Age|    Neighbourhood|Scholarship|Hipertension|Diabetes|Alcoholism|Handcap|SMS_received|No-show|\n",
      "+-------------------+-------------+------+-------------------+-------------------+---+-----------------+-----------+------------+--------+----------+-------+------------+-------+\n",
      "| 2.9872499824296E13|      5642903|     F|2016-04-29 15:38:08|2016-04-28 21:00:00| 62|  JARDIM DA PENHA|          0|           1|       0|         0|      0|           0|     No|\n",
      "|5.58997776694438E14|      5642503|     M|2016-04-29 13:08:27|2016-04-28 21:00:00| 56|  JARDIM DA PENHA|          0|           0|       0|         0|      0|           0|     No|\n",
      "|  4.262962299951E12|      5642549|     F|2016-04-29 13:19:04|2016-04-28 21:00:00| 62|    MATA DA PRAIA|          0|           0|       0|         0|      0|           0|     No|\n",
      "|   8.67951213174E11|      5642828|     F|2016-04-29 14:29:31|2016-04-28 21:00:00|  8|PONTAL DE CAMBURI|          0|           0|       0|         0|      0|           0|     No|\n",
      "|  8.841186448183E12|      5642494|     F|2016-04-29 13:07:23|2016-04-28 21:00:00| 56|  JARDIM DA PENHA|          0|           1|       1|         0|      0|           0|     No|\n",
      "+-------------------+-------------+------+-------------------+-------------------+---+-----------------+-----------+------------+--------+----------+-------+------------+-------+\n",
      "only showing top 5 rows\n",
      "\n"
     ]
    },
    {
     "name": "stderr",
     "output_type": "stream",
     "text": [
      "                                                                                \r"
     ]
    }
   ],
   "source": [
    "df = spark.read.csv(\"pacientes.csv\", header=True, inferSchema=True)\n",
    "df.show(5)"
   ]
  },
  {
   "cell_type": "code",
   "execution_count": 10,
   "metadata": {},
   "outputs": [],
   "source": [
    "from pyspark.sql.functions import col\n",
    "\n",
    "df = df.withColumn(\"PatientId\", col(\"PatientId\").cast(\"long\"))"
   ]
  },
  {
   "cell_type": "code",
   "execution_count": 11,
   "metadata": {},
   "outputs": [
    {
     "name": "stdout",
     "output_type": "stream",
     "text": [
      "+---------------+-------------+------+-------------------+-------------------+---+-----------------+-----------+------------+--------+----------+-------+------------+-------+\n",
      "|      PatientId|AppointmentID|Gender|       ScheduledDay|     AppointmentDay|Age|    Neighbourhood|Scholarship|Hipertension|Diabetes|Alcoholism|Handcap|SMS_received|No-show|\n",
      "+---------------+-------------+------+-------------------+-------------------+---+-----------------+-----------+------------+--------+----------+-------+------------+-------+\n",
      "| 29872499824296|      5642903|     F|2016-04-29 15:38:08|2016-04-28 21:00:00| 62|  JARDIM DA PENHA|          0|           1|       0|         0|      0|           0|     No|\n",
      "|558997776694438|      5642503|     M|2016-04-29 13:08:27|2016-04-28 21:00:00| 56|  JARDIM DA PENHA|          0|           0|       0|         0|      0|           0|     No|\n",
      "|  4262962299951|      5642549|     F|2016-04-29 13:19:04|2016-04-28 21:00:00| 62|    MATA DA PRAIA|          0|           0|       0|         0|      0|           0|     No|\n",
      "|   867951213174|      5642828|     F|2016-04-29 14:29:31|2016-04-28 21:00:00|  8|PONTAL DE CAMBURI|          0|           0|       0|         0|      0|           0|     No|\n",
      "|  8841186448183|      5642494|     F|2016-04-29 13:07:23|2016-04-28 21:00:00| 56|  JARDIM DA PENHA|          0|           1|       1|         0|      0|           0|     No|\n",
      "| 95985133231274|      5626772|     F|2016-04-27 05:36:51|2016-04-28 21:00:00| 76|        REPÚBLICA|          0|           1|       0|         0|      0|           0|     No|\n",
      "|733688164476661|      5630279|     F|2016-04-27 12:05:12|2016-04-28 21:00:00| 23|       GOIABEIRAS|          0|           0|       0|         0|      0|           0|    Yes|\n",
      "|  3449833394123|      5630575|     F|2016-04-27 12:39:58|2016-04-28 21:00:00| 39|       GOIABEIRAS|          0|           0|       0|         0|      0|           0|    Yes|\n",
      "| 56394729949972|      5638447|     F|2016-04-29 05:02:16|2016-04-28 21:00:00| 21|       ANDORINHAS|          0|           0|       0|         0|      0|           0|     No|\n",
      "| 78124564369297|      5629123|     F|2016-04-27 09:48:25|2016-04-28 21:00:00| 19|        CONQUISTA|          0|           0|       0|         0|      0|           0|     No|\n",
      "|734536231958495|      5630213|     F|2016-04-27 11:58:11|2016-04-28 21:00:00| 30|   NOVA PALESTINA|          0|           0|       0|         0|      0|           0|     No|\n",
      "|  7542951368435|      5620163|     M|2016-04-26 05:44:12|2016-04-28 21:00:00| 29|   NOVA PALESTINA|          0|           0|       0|         0|      0|           1|    Yes|\n",
      "|566654781423437|      5634718|     F|2016-04-28 08:33:51|2016-04-28 21:00:00| 22|   NOVA PALESTINA|          1|           0|       0|         0|      0|           0|     No|\n",
      "|911394617215919|      5636249|     M|2016-04-28 11:52:07|2016-04-28 21:00:00| 28|   NOVA PALESTINA|          0|           0|       0|         0|      0|           0|     No|\n",
      "| 99884723334928|      5633951|     F|2016-04-28 07:06:24|2016-04-28 21:00:00| 54|   NOVA PALESTINA|          0|           0|       0|         0|      0|           0|     No|\n",
      "|    99948393975|      5620206|     F|2016-04-26 05:47:27|2016-04-28 21:00:00| 15|   NOVA PALESTINA|          0|           0|       0|         0|      0|           1|     No|\n",
      "| 84574392942817|      5633121|     M|2016-04-28 05:51:47|2016-04-28 21:00:00| 50|   NOVA PALESTINA|          0|           0|       0|         0|      0|           0|     No|\n",
      "| 14794966191172|      5633460|     F|2016-04-28 06:28:57|2016-04-28 21:00:00| 40|        CONQUISTA|          1|           0|       0|         0|      0|           0|    Yes|\n",
      "| 17135378245248|      5621836|     F|2016-04-26 07:54:18|2016-04-28 21:00:00| 30|   NOVA PALESTINA|          1|           0|       0|         0|      0|           1|     No|\n",
      "|  7223289184215|      5640433|     F|2016-04-29 07:43:14|2016-04-28 21:00:00| 46|         DA PENHA|          0|           0|       0|         0|      0|           0|     No|\n",
      "|622257462899397|      5626083|     F|2016-04-27 04:51:14|2016-04-28 21:00:00| 30|   NOVA PALESTINA|          0|           0|       0|         0|      0|           0|    Yes|\n",
      "| 12154843752835|      5628338|     F|2016-04-27 07:50:45|2016-04-28 21:00:00|  4|        CONQUISTA|          0|           0|       0|         0|      0|           0|    Yes|\n",
      "|863229818887631|      5616091|     M|2016-04-25 10:29:16|2016-04-28 21:00:00| 13|        CONQUISTA|          0|           0|       0|         0|      0|           1|    Yes|\n",
      "|213753979425692|      5634142|     F|2016-04-28 07:27:05|2016-04-28 21:00:00| 46|        CONQUISTA|          0|           0|       0|         0|      0|           0|     No|\n",
      "|  8734857996885|      5641780|     F|2016-04-29 11:19:19|2016-04-28 21:00:00| 65|       TABUAZEIRO|          0|           0|       0|         0|      0|           0|     No|\n",
      "|  5819369978796|      5624020|     M|2016-04-26 12:04:17|2016-04-28 21:00:00| 46|        CONQUISTA|          0|           1|       0|         0|      0|           1|     No|\n",
      "|    25787851512|      5641781|     F|2016-04-29 11:19:42|2016-04-28 21:00:00| 45|   BENTO FERREIRA|          0|           1|       0|         0|      0|           0|     No|\n",
      "| 12154843752835|      5628345|     F|2016-04-27 07:51:45|2016-04-28 21:00:00|  4|        CONQUISTA|          0|           0|       0|         0|      0|           0|     No|\n",
      "|  5926171692527|      5642400|     M|2016-04-29 12:48:02|2016-04-28 21:00:00| 51|        SÃO PEDRO|          0|           0|       0|         0|      0|           0|     No|\n",
      "|  1225776163665|      5642186|     F|2016-04-29 12:16:29|2016-04-28 21:00:00| 32|     SANTA MARTHA|          0|           0|       0|         0|      0|           0|     No|\n",
      "|   342815551642|      5628068|     F|2016-04-27 07:24:52|2016-04-28 21:00:00| 46|   NOVA PALESTINA|          0|           0|       0|         0|      0|           0|     No|\n",
      "|   311284853849|      5628907|     M|2016-04-27 09:07:14|2016-04-28 21:00:00| 12|   NOVA PALESTINA|          1|           0|       0|         0|      0|           0|    Yes|\n",
      "| 52883562769472|      5637908|     M|2016-04-29 04:30:27|2016-04-28 21:00:00| 61|    SÃO CRISTÓVÃO|          0|           1|       0|         0|      0|           0|     No|\n",
      "|  7653516999712|      5616921|     F|2016-04-25 12:01:04|2016-04-28 21:00:00| 38|    SÃO CRISTÓVÃO|          1|           0|       0|         0|      0|           1|     No|\n",
      "| 19999756532994|      5637963|     F|2016-04-29 04:34:30|2016-04-28 21:00:00| 79|    SÃO CRISTÓVÃO|          0|           1|       0|         0|      0|           0|     No|\n",
      "| 78162635161611|      5637968|     M|2016-04-29 04:34:42|2016-04-28 21:00:00| 18|    SÃO CRISTÓVÃO|          0|           0|       0|         0|      0|           0|     No|\n",
      "| 72984587621439|      5637975|     F|2016-04-29 04:35:19|2016-04-28 21:00:00| 63|    SÃO CRISTÓVÃO|          0|           1|       1|         0|      0|           0|     No|\n",
      "|  1578131861739|      5637986|     F|2016-04-29 04:35:56|2016-04-28 21:00:00| 64|       TABUAZEIRO|          1|           1|       1|         0|      0|           0|     No|\n",
      "|  5873315843778|      5609446|     M|2016-04-20 12:54:18|2016-04-28 21:00:00| 85|    SÃO CRISTÓVÃO|          0|           1|       0|         0|      0|           1|     No|\n",
      "| 14556231793236|      5639644|     F|2016-04-29 06:21:13|2016-04-28 21:00:00| 59|    SÃO CRISTÓVÃO|          0|           0|       0|         0|      0|           0|     No|\n",
      "|996868412638744|      5635881|     F|2016-04-28 11:14:16|2016-04-28 21:00:00| 55|       TABUAZEIRO|          0|           0|       0|         0|      0|           0|     No|\n",
      "|822432466381793|      5633339|     F|2016-04-28 06:20:36|2016-04-28 21:00:00| 71|          MARUÍPE|          0|           0|       1|         0|      0|           0|     No|\n",
      "| 25965426543339|      5632906|     F|2016-04-28 05:34:54|2016-04-28 21:00:00| 50|    SÃO CRISTÓVÃO|          0|           0|       0|         0|      0|           0|     No|\n",
      "| 71558956872246|      5641620|     F|2016-04-29 11:02:16|2016-04-28 21:00:00| 49|    SÃO CRISTÓVÃO|          0|           1|       0|         0|      0|           0|     No|\n",
      "|   274164858852|      5635414|     F|2016-04-28 10:27:27|2016-04-28 21:00:00| 78|    SÃO CRISTÓVÃO|          0|           1|       1|         0|      0|           0|    Yes|\n",
      "|  4982378572899|      5635842|     F|2016-04-28 11:11:24|2016-04-28 21:00:00| 31|    SÃO CRISTÓVÃO|          0|           0|       0|         0|      0|           0|     No|\n",
      "|   137943696338|      5615608|     M|2016-04-25 09:44:36|2016-04-28 21:00:00| 58|    SÃO CRISTÓVÃO|          0|           1|       0|         1|      0|           1|     No|\n",
      "|   589458459955|      5633116|     F|2016-04-28 05:51:26|2016-04-28 21:00:00| 39|          MARUÍPE|          0|           1|       1|         0|      0|           0|     No|\n",
      "|  8545415176986|      5618643|     F|2016-04-26 04:19:49|2016-04-28 21:00:00| 58|    SÃO CRISTÓVÃO|          0|           0|       0|         0|      0|           1|    Yes|\n",
      "| 92235587471561|      5534656|     F|2016-03-31 14:11:17|2016-04-28 21:00:00| 27|   GRANDE VITÓRIA|          0|           0|       0|         0|      0|           1|    Yes|\n",
      "+---------------+-------------+------+-------------------+-------------------+---+-----------------+-----------+------------+--------+----------+-------+------------+-------+\n",
      "only showing top 50 rows\n",
      "\n"
     ]
    }
   ],
   "source": [
    "df.show(50)"
   ]
  },
  {
   "cell_type": "code",
   "execution_count": 12,
   "metadata": {},
   "outputs": [
    {
     "name": "stdout",
     "output_type": "stream",
     "text": [
      "root\n",
      " |-- PatientId: long (nullable = true)\n",
      " |-- AppointmentID: integer (nullable = true)\n",
      " |-- Gender: string (nullable = true)\n",
      " |-- ScheduledDay: timestamp (nullable = true)\n",
      " |-- AppointmentDay: timestamp (nullable = true)\n",
      " |-- Age: integer (nullable = true)\n",
      " |-- Neighbourhood: string (nullable = true)\n",
      " |-- Scholarship: integer (nullable = true)\n",
      " |-- Hipertension: integer (nullable = true)\n",
      " |-- Diabetes: integer (nullable = true)\n",
      " |-- Alcoholism: integer (nullable = true)\n",
      " |-- Handcap: integer (nullable = true)\n",
      " |-- SMS_received: integer (nullable = true)\n",
      " |-- No-show: string (nullable = true)\n",
      "\n"
     ]
    }
   ],
   "source": [
    "df.printSchema()"
   ]
  },
  {
   "cell_type": "code",
   "execution_count": 13,
   "metadata": {},
   "outputs": [
    {
     "data": {
      "text/plain": [
       "DataFrame[]"
      ]
     },
     "execution_count": 13,
     "metadata": {},
     "output_type": "execute_result"
    }
   ],
   "source": [
    "spark.sql(\"DROP DATABASE IF EXISTS hospital\")"
   ]
  },
  {
   "cell_type": "code",
   "execution_count": 14,
   "metadata": {},
   "outputs": [
    {
     "data": {
      "text/plain": [
       "DataFrame[]"
      ]
     },
     "execution_count": 14,
     "metadata": {},
     "output_type": "execute_result"
    }
   ],
   "source": [
    "spark.sql(\"CREATE DATABASE IF NOT EXISTS hospital\")"
   ]
  },
  {
   "cell_type": "code",
   "execution_count": 15,
   "metadata": {},
   "outputs": [
    {
     "name": "stderr",
     "output_type": "stream",
     "text": [
      "                                                                                \r"
     ]
    }
   ],
   "source": [
    "df.write.mode(\"overwrite\").saveAsTable(\"hospital.pacientes\")"
   ]
  },
  {
   "cell_type": "code",
   "execution_count": 17,
   "metadata": {},
   "outputs": [
    {
     "name": "stdout",
     "output_type": "stream",
     "text": [
      "CPU times: user 950 μs, sys: 991 μs, total: 1.94 ms\n",
      "Wall time: 671 ms\n"
     ]
    },
    {
     "data": {
      "text/plain": [
       "110527"
      ]
     },
     "execution_count": 17,
     "metadata": {},
     "output_type": "execute_result"
    }
   ],
   "source": [
    "%%time\n",
    "df_pac = spark.read.table(\"hospital.pacientes\")\n",
    "df_pac.count()"
   ]
  },
  {
   "cell_type": "code",
   "execution_count": null,
   "metadata": {},
   "outputs": [],
   "source": [
    "df_pac.show(3)"
   ]
  },
  {
   "cell_type": "code",
   "execution_count": null,
   "metadata": {},
   "outputs": [],
   "source": [
    "df_pac.show(5)"
   ]
  },
  {
   "cell_type": "code",
   "execution_count": 20,
   "metadata": {},
   "outputs": [
    {
     "name": "stdout",
     "output_type": "stream",
     "text": [
      "+------+-----+\n",
      "|Gender|count|\n",
      "+------+-----+\n",
      "|     F|71840|\n",
      "|     M|38687|\n",
      "+------+-----+\n",
      "\n"
     ]
    }
   ],
   "source": [
    "query = \"\"\"\n",
    "-- Contar pacientes por Gender\n",
    "SELECT Gender,\n",
    "        count(*) AS count\n",
    "FROM hospital.pacientes\n",
    "GROUP BY Gender\n",
    "\"\"\"\n",
    "df2 = spark.sql(query)\n",
    "df2.show(5)"
   ]
  },
  {
   "cell_type": "code",
   "execution_count": null,
   "metadata": {},
   "outputs": [],
   "source": []
  }
 ],
 "metadata": {
  "kernelspec": {
   "display_name": "md",
   "language": "python",
   "name": "python3"
  },
  "language_info": {
   "codemirror_mode": {
    "name": "ipython",
    "version": 3
   },
   "file_extension": ".py",
   "mimetype": "text/x-python",
   "name": "python",
   "nbconvert_exporter": "python",
   "pygments_lexer": "ipython3",
   "version": "3.10.12"
  }
 },
 "nbformat": 4,
 "nbformat_minor": 2
}
