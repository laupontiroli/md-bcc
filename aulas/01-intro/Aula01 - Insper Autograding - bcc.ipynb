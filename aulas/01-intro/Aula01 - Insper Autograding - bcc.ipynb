{
 "cells": [
  {
   "cell_type": "markdown",
   "id": "f988376d-f69e-4c7c-994d-ebacf9aa4137",
   "metadata": {},
   "source": [
    "# PARTE 1:Instalar MySQL\n",
    "\n",
    "Umas das tarefas iniciais na primeira etapa da disciplina de Megadados é a preparação do MySQL Community Server.\n",
    "\n",
    "Uma opção é efetuar a instalação direta em seu sistema operacional. No entanto é um processo que pode ser mais oneroso e com maior dificuldade em casos de modificação ou remoção do serviço. Uma opção prática e que resulta em maior flexibilidade e otimização do uso do SGBD é a instalação através do Docker.\n",
    "\n",
    "Escolha entre as opções **A** e **B** e faça apenas uma!\n",
    "\n",
    "## Opção A: instalar direto no sistema.\n",
    "\n",
    "Link para download do Instalador: https://dev.mysql.com/downloads/mysql/\n",
    "\n",
    "Utilize a versão `8.0.41`.\n",
    "\n",
    "Se solicitar VS 2019 https://learn.microsoft.com/en-us/cpp/windows/latest-supported-vc-redist?view=msvc-170\n",
    "\n",
    "Na instalação, selecione como produtos pelo menos o **MySQL Server** e o **MySQL Workbench**.\n",
    "\n",
    "**Obs**: anote a senha escolhida durante a configuração do servidor!\n",
    "\n",
    "Usuários Ubuntu Linux podem instalar o MySQL Server com:\n",
    "\n",
    "```console\n",
    "sudo apt update\n",
    "sudo apt install mysql-server\n",
    "sudo systemctl start mysql.service\n",
    "```"
   ]
  },
  {
   "cell_type": "markdown",
   "id": "22134624",
   "metadata": {},
   "source": [
    "Apenas para quem fez a instalação pelo comando `apt` no Ubuntu, você pode definir a senha do usuário `root` do **MySQL** com:\n",
    "\n",
    "- Rode o comando:\n",
    "```console\n",
    "sudo mysql\n",
    "```\n",
    "\n",
    "- E então, rode os comandos (altere `'sua_senha'` e a anote, esta é a senha de conexão com o banco com o usuário `root`):\n",
    "\n",
    "```console\n",
    "ALTER USER 'root'@'localhost' IDENTIFIED WITH mysql_native_password BY 'sua_senha';\n",
    "\n",
    "FLUSH PRIVILEGES;\n",
    "\n",
    "EXIT;\n",
    "```"
   ]
  },
  {
   "cell_type": "markdown",
   "id": "b872d44c",
   "metadata": {},
   "source": [
    "E para a  instalação do Workbench, apenas quem estiver no Linux, pode utilizar:\n",
    "\n",
    "```console\n",
    "sudo apt update\n",
    "sudo apt install snapd\n",
    "sudo snap install mysql-workbench-community\n",
    "```"
   ]
  },
  {
   "cell_type": "markdown",
   "id": "5fe79a08-c199-4798-a08c-d0af6422f078",
   "metadata": {},
   "source": [
    "## Opção B: utilizar Docker.\n",
    "\n",
    "### Instalando o Docker Desktop\n",
    "\n",
    "O Docker Desktop é compatível com os sistemas operacionais Windows, distribuições Linux e também para Mac com chip Intel ou Apple.\n",
    "\n",
    "Para baixar, basta acessar o portal https://www.docker.com/products/docker-desktop/, efetuar o download e seguir com a instalação.\n",
    "\n",
    "Para a instalação em sistemas operacionais Windows, fique atento ao uso do componente WSL (*Windows Subsystem for Linux*). A própria instalação do Docker Desktop fará um alerta sobre isso \n",
    "\n",
    "Durante a instalação, será recomendado que você faça uma conta para o acesso ao Docker. Você precisa estar logado no Docker Hub para o passo de donwload da imagem do MySQL.\n",
    "\n",
    "Recomendamos que passe pelos tutoriais iniciais do Docker, o qual oferece as noções básicas para o uso.\n",
    "\n",
    "Depois de instalado, você pode abrir seu terminal no seu sistema operacional e verificar se o docker está funcionamento pelo comando \n",
    "\n",
    "```console\n",
    "docker info\n",
    "```"
   ]
  },
  {
   "cell_type": "markdown",
   "id": "7250815b-1116-483f-8d89-5a8ac833670f",
   "metadata": {},
   "source": [
    "### Como baixar a imagem e instanciar o container do SGBD?\n",
    "\n",
    "Para preparar o SGBD, precisamos de sua instância em execução. Você pode imaginar que faremos uma extensa instalação e demorar horas para a configuração. Mas graças a nossa tecnologia de containers conseguimos estabelecer este SGBD em um tempo incrível.\n",
    "\n",
    "Para nossa experiência vamos usar o Docker, um dos gerenciadores de containers mais utilizados para serviços. Partindo do pressuposto que o Docker está instalado em seu host, abra um terminal e execute o seguinte comando:\n",
    "\n",
    "```console\n",
    "docker pull mysql:8.0.41\n",
    "```\n",
    "\n",
    "Caso você não tenha esta imagem do MySQL disponível o Docker fará o download da mesma. Com a imagem disponível, vamos criar um container e disponibilizar um serviço para nosso uso executando o seguinte comando (tudo em uma única linha).\n",
    "\n",
    "```console\n",
    "docker run --name sgbd-mysql -e MYSQL_ROOT_PASSWORD=insper -p 3306:3306 -d mysql:8.0.41 --default-authentication-plugin=mysql_native_password\n",
    "```\n",
    "\n",
    "Você pode definir o nome do seu container (no comando acima, `sgbd-mysql`), a senha para acesso inicial (aqui a palavra `insper` foi escolhida) a porta de operação (`3306`) e qual a imagem que será usada (`mysql:8.0.41`). Com isso, seu serviço de banco de dados está disponível na versão disponível `8.0.41`.\n",
    "\n",
    "Depois de instanciado você pode verificar se o seu serviço está listado e como está seu estado através do comando\n",
    "\n",
    "```console\n",
    "docker ps -a\n",
    "```\n",
    "\n",
    "Podemos também se certificar que conseguimos autenticar em nosso SGBD com as credenciais estabelecidas no momento criação da instância. Acesse o terminal do container que contém seu SGBD através do comando\n",
    "\n",
    "```console\n",
    "docker exec -it sgbd-mysql bash\n",
    "```\n",
    "\n",
    "Agora estamos no terminal do nosso container. Para acessar o terminal do nossso SGBD mySQL, execute\n",
    "\n",
    "```console\n",
    "mysql -uroot -p\n",
    "```\n",
    "\n",
    "\n",
    "Estando autenticado no banco de dados com o prompt \"mysql\" disponível. Você pode verificar os bancos de dados de sistema através do comando.\n",
    "\n",
    "```console\n",
    "show databases;\n",
    "```\n",
    "\n",
    "Ainda não temos nenhum banco de dados criado ou ao menos tabelas! Chegaremos lá nas próximas aulas! Para sair do prompt do SGBD basta digitar o comando \n",
    "\n",
    "```console\n",
    "quit;\n",
    "```\n",
    "\n",
    "E para sair do terminal do seu container, basta digitar\n",
    "\n",
    "```console\n",
    "exit\n",
    "```\n",
    "\n",
    "Para parar ou reiniciar o seu SGBD, você também pode fazer isso do painel de controle do Docker Desktop. Caso queira fazer isso pelo terminal, para iniciar o serviço basta usar o comando\n",
    "\n",
    "```console\n",
    "docker restart sgbd-mysql\n",
    "```\n",
    "\n",
    "E para parar o serviço\n",
    "\n",
    "```console\n",
    "docker stop sgbd-mysql\n",
    "```\n",
    "\n",
    "Agora, crie uma conexão no MySQL Workbench (https://dev.mysql.com/downloads/workbench/) para ter acesso a uma melhor interface!"
   ]
  },
  {
   "cell_type": "markdown",
   "id": "eccb9973",
   "metadata": {},
   "source": [
    "# PARTE 2: Insper Autograding\n",
    "\n",
    "Siga os passos deste notebook para realizar a instalação da biblioteca de correção de exercícios nos notebooks da disciplina de Megadados!\n",
    "\n",
    "## Instalação\n",
    "\n",
    "Vamos instalar a biblioteca:"
   ]
  },
  {
   "cell_type": "code",
   "execution_count": 1,
   "id": "f8da2455",
   "metadata": {},
   "outputs": [
    {
     "name": "stdout",
     "output_type": "stream",
     "text": [
      "Collecting git+https://github.com/macielcalebe/insperautograding.git\n",
      "  Cloning https://github.com/macielcalebe/insperautograding.git to /private/var/folders/8b/dzkbr3jd2_73wfgltgsvxsmr0000gq/T/pip-req-build-ul8ubx2i\n",
      "  Running command git clone --filter=blob:none --quiet https://github.com/macielcalebe/insperautograding.git /private/var/folders/8b/dzkbr3jd2_73wfgltgsvxsmr0000gq/T/pip-req-build-ul8ubx2i\n",
      "  Resolved https://github.com/macielcalebe/insperautograding.git to commit 0d68e50930abe8460efbb43864132ffec30c862b\n",
      "  Installing build dependencies ... \u001b[?25ldone\n",
      "\u001b[?25h  Getting requirements to build wheel ... \u001b[?25ldone\n",
      "\u001b[?25h  Preparing metadata (pyproject.toml) ... \u001b[?25ldone\n",
      "\u001b[?25hCollecting python-dotenv (from insperautograder==0.2.2)\n",
      "  Using cached python_dotenv-1.1.0-py3-none-any.whl.metadata (24 kB)\n",
      "Collecting requests (from insperautograder==0.2.2)\n",
      "  Using cached requests-2.32.3-py3-none-any.whl.metadata (4.6 kB)\n",
      "Requirement already satisfied: ipython in /Users/laurapontiroli/Desktop/Mesa - MacBook Air de Laura/insper/quinto_semestre/megadados/md-bcc/.venv/lib/python3.13/site-packages (from insperautograder==0.2.2) (9.1.0)\n",
      "Collecting ipywidgets<=7.8.5 (from insperautograder==0.2.2)\n",
      "  Using cached ipywidgets-7.8.5-py2.py3-none-any.whl.metadata (1.9 kB)\n",
      "Requirement already satisfied: comm>=0.1.3 in /Users/laurapontiroli/Desktop/Mesa - MacBook Air de Laura/insper/quinto_semestre/megadados/md-bcc/.venv/lib/python3.13/site-packages (from ipywidgets<=7.8.5->insperautograder==0.2.2) (0.2.2)\n",
      "Collecting ipython-genutils~=0.2.0 (from ipywidgets<=7.8.5->insperautograder==0.2.2)\n",
      "  Using cached ipython_genutils-0.2.0-py2.py3-none-any.whl.metadata (755 bytes)\n",
      "Requirement already satisfied: traitlets>=4.3.1 in /Users/laurapontiroli/Desktop/Mesa - MacBook Air de Laura/insper/quinto_semestre/megadados/md-bcc/.venv/lib/python3.13/site-packages (from ipywidgets<=7.8.5->insperautograder==0.2.2) (5.14.3)\n",
      "Collecting widgetsnbextension~=3.6.10 (from ipywidgets<=7.8.5->insperautograder==0.2.2)\n",
      "  Using cached widgetsnbextension-3.6.10-py2.py3-none-any.whl.metadata (1.3 kB)\n",
      "Collecting jupyterlab-widgets<3,>=1.0.0 (from ipywidgets<=7.8.5->insperautograder==0.2.2)\n",
      "  Using cached jupyterlab_widgets-1.1.11-py3-none-any.whl.metadata (3.7 kB)\n",
      "Requirement already satisfied: decorator in /Users/laurapontiroli/Desktop/Mesa - MacBook Air de Laura/insper/quinto_semestre/megadados/md-bcc/.venv/lib/python3.13/site-packages (from ipython->insperautograder==0.2.2) (5.2.1)\n",
      "Requirement already satisfied: ipython-pygments-lexers in /Users/laurapontiroli/Desktop/Mesa - MacBook Air de Laura/insper/quinto_semestre/megadados/md-bcc/.venv/lib/python3.13/site-packages (from ipython->insperautograder==0.2.2) (1.1.1)\n",
      "Requirement already satisfied: jedi>=0.16 in /Users/laurapontiroli/Desktop/Mesa - MacBook Air de Laura/insper/quinto_semestre/megadados/md-bcc/.venv/lib/python3.13/site-packages (from ipython->insperautograder==0.2.2) (0.19.2)\n",
      "Requirement already satisfied: matplotlib-inline in /Users/laurapontiroli/Desktop/Mesa - MacBook Air de Laura/insper/quinto_semestre/megadados/md-bcc/.venv/lib/python3.13/site-packages (from ipython->insperautograder==0.2.2) (0.1.7)\n",
      "Requirement already satisfied: pexpect>4.3 in /Users/laurapontiroli/Desktop/Mesa - MacBook Air de Laura/insper/quinto_semestre/megadados/md-bcc/.venv/lib/python3.13/site-packages (from ipython->insperautograder==0.2.2) (4.9.0)\n",
      "Requirement already satisfied: prompt_toolkit<3.1.0,>=3.0.41 in /Users/laurapontiroli/Desktop/Mesa - MacBook Air de Laura/insper/quinto_semestre/megadados/md-bcc/.venv/lib/python3.13/site-packages (from ipython->insperautograder==0.2.2) (3.0.50)\n",
      "Requirement already satisfied: pygments>=2.4.0 in /Users/laurapontiroli/Desktop/Mesa - MacBook Air de Laura/insper/quinto_semestre/megadados/md-bcc/.venv/lib/python3.13/site-packages (from ipython->insperautograder==0.2.2) (2.19.1)\n",
      "Requirement already satisfied: stack_data in /Users/laurapontiroli/Desktop/Mesa - MacBook Air de Laura/insper/quinto_semestre/megadados/md-bcc/.venv/lib/python3.13/site-packages (from ipython->insperautograder==0.2.2) (0.6.3)\n",
      "Collecting charset-normalizer<4,>=2 (from requests->insperautograder==0.2.2)\n",
      "  Using cached charset_normalizer-3.4.1-cp313-cp313-macosx_10_13_universal2.whl.metadata (35 kB)\n",
      "Collecting idna<4,>=2.5 (from requests->insperautograder==0.2.2)\n",
      "  Using cached idna-3.10-py3-none-any.whl.metadata (10 kB)\n",
      "Collecting urllib3<3,>=1.21.1 (from requests->insperautograder==0.2.2)\n",
      "  Using cached urllib3-2.3.0-py3-none-any.whl.metadata (6.5 kB)\n",
      "Collecting certifi>=2017.4.17 (from requests->insperautograder==0.2.2)\n",
      "  Using cached certifi-2025.1.31-py3-none-any.whl.metadata (2.5 kB)\n",
      "Requirement already satisfied: parso<0.9.0,>=0.8.4 in /Users/laurapontiroli/Desktop/Mesa - MacBook Air de Laura/insper/quinto_semestre/megadados/md-bcc/.venv/lib/python3.13/site-packages (from jedi>=0.16->ipython->insperautograder==0.2.2) (0.8.4)\n",
      "Requirement already satisfied: ptyprocess>=0.5 in /Users/laurapontiroli/Desktop/Mesa - MacBook Air de Laura/insper/quinto_semestre/megadados/md-bcc/.venv/lib/python3.13/site-packages (from pexpect>4.3->ipython->insperautograder==0.2.2) (0.7.0)\n",
      "Requirement already satisfied: wcwidth in /Users/laurapontiroli/Desktop/Mesa - MacBook Air de Laura/insper/quinto_semestre/megadados/md-bcc/.venv/lib/python3.13/site-packages (from prompt_toolkit<3.1.0,>=3.0.41->ipython->insperautograder==0.2.2) (0.2.13)\n",
      "Collecting notebook>=4.4.1 (from widgetsnbextension~=3.6.10->ipywidgets<=7.8.5->insperautograder==0.2.2)\n",
      "  Downloading notebook-7.3.3-py3-none-any.whl.metadata (10 kB)\n",
      "Requirement already satisfied: executing>=1.2.0 in /Users/laurapontiroli/Desktop/Mesa - MacBook Air de Laura/insper/quinto_semestre/megadados/md-bcc/.venv/lib/python3.13/site-packages (from stack_data->ipython->insperautograder==0.2.2) (2.2.0)\n",
      "Requirement already satisfied: asttokens>=2.1.0 in /Users/laurapontiroli/Desktop/Mesa - MacBook Air de Laura/insper/quinto_semestre/megadados/md-bcc/.venv/lib/python3.13/site-packages (from stack_data->ipython->insperautograder==0.2.2) (3.0.0)\n",
      "Requirement already satisfied: pure-eval in /Users/laurapontiroli/Desktop/Mesa - MacBook Air de Laura/insper/quinto_semestre/megadados/md-bcc/.venv/lib/python3.13/site-packages (from stack_data->ipython->insperautograder==0.2.2) (0.2.3)\n",
      "Collecting jupyter-server<3,>=2.4.0 (from notebook>=4.4.1->widgetsnbextension~=3.6.10->ipywidgets<=7.8.5->insperautograder==0.2.2)\n",
      "  Using cached jupyter_server-2.15.0-py3-none-any.whl.metadata (8.4 kB)\n",
      "Collecting jupyterlab-server<3,>=2.27.1 (from notebook>=4.4.1->widgetsnbextension~=3.6.10->ipywidgets<=7.8.5->insperautograder==0.2.2)\n",
      "  Using cached jupyterlab_server-2.27.3-py3-none-any.whl.metadata (5.9 kB)\n",
      "Collecting jupyterlab<4.4,>=4.3.6 (from notebook>=4.4.1->widgetsnbextension~=3.6.10->ipywidgets<=7.8.5->insperautograder==0.2.2)\n",
      "  Downloading jupyterlab-4.3.6-py3-none-any.whl.metadata (16 kB)\n",
      "Collecting notebook-shim<0.3,>=0.2 (from notebook>=4.4.1->widgetsnbextension~=3.6.10->ipywidgets<=7.8.5->insperautograder==0.2.2)\n",
      "  Using cached notebook_shim-0.2.4-py3-none-any.whl.metadata (4.0 kB)\n",
      "Requirement already satisfied: tornado>=6.2.0 in /Users/laurapontiroli/Desktop/Mesa - MacBook Air de Laura/insper/quinto_semestre/megadados/md-bcc/.venv/lib/python3.13/site-packages (from notebook>=4.4.1->widgetsnbextension~=3.6.10->ipywidgets<=7.8.5->insperautograder==0.2.2) (6.4.2)\n",
      "Collecting anyio>=3.1.0 (from jupyter-server<3,>=2.4.0->notebook>=4.4.1->widgetsnbextension~=3.6.10->ipywidgets<=7.8.5->insperautograder==0.2.2)\n",
      "  Using cached anyio-4.9.0-py3-none-any.whl.metadata (4.7 kB)\n",
      "Collecting argon2-cffi>=21.1 (from jupyter-server<3,>=2.4.0->notebook>=4.4.1->widgetsnbextension~=3.6.10->ipywidgets<=7.8.5->insperautograder==0.2.2)\n",
      "  Using cached argon2_cffi-23.1.0-py3-none-any.whl.metadata (5.2 kB)\n",
      "Collecting jinja2>=3.0.3 (from jupyter-server<3,>=2.4.0->notebook>=4.4.1->widgetsnbextension~=3.6.10->ipywidgets<=7.8.5->insperautograder==0.2.2)\n",
      "  Using cached jinja2-3.1.6-py3-none-any.whl.metadata (2.9 kB)\n",
      "Requirement already satisfied: jupyter-client>=7.4.4 in /Users/laurapontiroli/Desktop/Mesa - MacBook Air de Laura/insper/quinto_semestre/megadados/md-bcc/.venv/lib/python3.13/site-packages (from jupyter-server<3,>=2.4.0->notebook>=4.4.1->widgetsnbextension~=3.6.10->ipywidgets<=7.8.5->insperautograder==0.2.2) (8.6.3)\n",
      "Requirement already satisfied: jupyter-core!=5.0.*,>=4.12 in /Users/laurapontiroli/Desktop/Mesa - MacBook Air de Laura/insper/quinto_semestre/megadados/md-bcc/.venv/lib/python3.13/site-packages (from jupyter-server<3,>=2.4.0->notebook>=4.4.1->widgetsnbextension~=3.6.10->ipywidgets<=7.8.5->insperautograder==0.2.2) (5.7.2)\n",
      "Collecting jupyter-events>=0.11.0 (from jupyter-server<3,>=2.4.0->notebook>=4.4.1->widgetsnbextension~=3.6.10->ipywidgets<=7.8.5->insperautograder==0.2.2)\n",
      "  Using cached jupyter_events-0.12.0-py3-none-any.whl.metadata (5.8 kB)\n",
      "Collecting jupyter-server-terminals>=0.4.4 (from jupyter-server<3,>=2.4.0->notebook>=4.4.1->widgetsnbextension~=3.6.10->ipywidgets<=7.8.5->insperautograder==0.2.2)\n",
      "  Using cached jupyter_server_terminals-0.5.3-py3-none-any.whl.metadata (5.6 kB)\n",
      "Collecting nbconvert>=6.4.4 (from jupyter-server<3,>=2.4.0->notebook>=4.4.1->widgetsnbextension~=3.6.10->ipywidgets<=7.8.5->insperautograder==0.2.2)\n",
      "  Using cached nbconvert-7.16.6-py3-none-any.whl.metadata (8.5 kB)\n",
      "Collecting nbformat>=5.3.0 (from jupyter-server<3,>=2.4.0->notebook>=4.4.1->widgetsnbextension~=3.6.10->ipywidgets<=7.8.5->insperautograder==0.2.2)\n",
      "  Using cached nbformat-5.10.4-py3-none-any.whl.metadata (3.6 kB)\n",
      "Collecting overrides>=5.0 (from jupyter-server<3,>=2.4.0->notebook>=4.4.1->widgetsnbextension~=3.6.10->ipywidgets<=7.8.5->insperautograder==0.2.2)\n",
      "  Using cached overrides-7.7.0-py3-none-any.whl.metadata (5.8 kB)\n",
      "Requirement already satisfied: packaging>=22.0 in /Users/laurapontiroli/Desktop/Mesa - MacBook Air de Laura/insper/quinto_semestre/megadados/md-bcc/.venv/lib/python3.13/site-packages (from jupyter-server<3,>=2.4.0->notebook>=4.4.1->widgetsnbextension~=3.6.10->ipywidgets<=7.8.5->insperautograder==0.2.2) (24.2)\n",
      "Collecting prometheus-client>=0.9 (from jupyter-server<3,>=2.4.0->notebook>=4.4.1->widgetsnbextension~=3.6.10->ipywidgets<=7.8.5->insperautograder==0.2.2)\n",
      "  Using cached prometheus_client-0.21.1-py3-none-any.whl.metadata (1.8 kB)\n",
      "Requirement already satisfied: pyzmq>=24 in /Users/laurapontiroli/Desktop/Mesa - MacBook Air de Laura/insper/quinto_semestre/megadados/md-bcc/.venv/lib/python3.13/site-packages (from jupyter-server<3,>=2.4.0->notebook>=4.4.1->widgetsnbextension~=3.6.10->ipywidgets<=7.8.5->insperautograder==0.2.2) (26.4.0)\n",
      "Collecting send2trash>=1.8.2 (from jupyter-server<3,>=2.4.0->notebook>=4.4.1->widgetsnbextension~=3.6.10->ipywidgets<=7.8.5->insperautograder==0.2.2)\n",
      "  Using cached Send2Trash-1.8.3-py3-none-any.whl.metadata (4.0 kB)\n",
      "Collecting terminado>=0.8.3 (from jupyter-server<3,>=2.4.0->notebook>=4.4.1->widgetsnbextension~=3.6.10->ipywidgets<=7.8.5->insperautograder==0.2.2)\n",
      "  Using cached terminado-0.18.1-py3-none-any.whl.metadata (5.8 kB)\n",
      "Collecting websocket-client>=1.7 (from jupyter-server<3,>=2.4.0->notebook>=4.4.1->widgetsnbextension~=3.6.10->ipywidgets<=7.8.5->insperautograder==0.2.2)\n",
      "  Using cached websocket_client-1.8.0-py3-none-any.whl.metadata (8.0 kB)\n",
      "Collecting async-lru>=1.0.0 (from jupyterlab<4.4,>=4.3.6->notebook>=4.4.1->widgetsnbextension~=3.6.10->ipywidgets<=7.8.5->insperautograder==0.2.2)\n",
      "  Downloading async_lru-2.0.5-py3-none-any.whl.metadata (4.5 kB)\n",
      "Collecting httpx>=0.25.0 (from jupyterlab<4.4,>=4.3.6->notebook>=4.4.1->widgetsnbextension~=3.6.10->ipywidgets<=7.8.5->insperautograder==0.2.2)\n",
      "  Using cached httpx-0.28.1-py3-none-any.whl.metadata (7.1 kB)\n",
      "Requirement already satisfied: ipykernel>=6.5.0 in /Users/laurapontiroli/Desktop/Mesa - MacBook Air de Laura/insper/quinto_semestre/megadados/md-bcc/.venv/lib/python3.13/site-packages (from jupyterlab<4.4,>=4.3.6->notebook>=4.4.1->widgetsnbextension~=3.6.10->ipywidgets<=7.8.5->insperautograder==0.2.2) (6.29.5)\n",
      "Collecting jupyter-lsp>=2.0.0 (from jupyterlab<4.4,>=4.3.6->notebook>=4.4.1->widgetsnbextension~=3.6.10->ipywidgets<=7.8.5->insperautograder==0.2.2)\n",
      "  Using cached jupyter_lsp-2.2.5-py3-none-any.whl.metadata (1.8 kB)\n",
      "Collecting setuptools>=40.8.0 (from jupyterlab<4.4,>=4.3.6->notebook>=4.4.1->widgetsnbextension~=3.6.10->ipywidgets<=7.8.5->insperautograder==0.2.2)\n",
      "  Using cached setuptools-78.1.0-py3-none-any.whl.metadata (6.6 kB)\n",
      "Collecting babel>=2.10 (from jupyterlab-server<3,>=2.27.1->notebook>=4.4.1->widgetsnbextension~=3.6.10->ipywidgets<=7.8.5->insperautograder==0.2.2)\n",
      "  Using cached babel-2.17.0-py3-none-any.whl.metadata (2.0 kB)\n",
      "Collecting json5>=0.9.0 (from jupyterlab-server<3,>=2.27.1->notebook>=4.4.1->widgetsnbextension~=3.6.10->ipywidgets<=7.8.5->insperautograder==0.2.2)\n",
      "  Downloading json5-0.12.0-py3-none-any.whl.metadata (36 kB)\n",
      "Collecting jsonschema>=4.18.0 (from jupyterlab-server<3,>=2.27.1->notebook>=4.4.1->widgetsnbextension~=3.6.10->ipywidgets<=7.8.5->insperautograder==0.2.2)\n",
      "  Using cached jsonschema-4.23.0-py3-none-any.whl.metadata (7.9 kB)\n",
      "Collecting sniffio>=1.1 (from anyio>=3.1.0->jupyter-server<3,>=2.4.0->notebook>=4.4.1->widgetsnbextension~=3.6.10->ipywidgets<=7.8.5->insperautograder==0.2.2)\n",
      "  Using cached sniffio-1.3.1-py3-none-any.whl.metadata (3.9 kB)\n",
      "Collecting argon2-cffi-bindings (from argon2-cffi>=21.1->jupyter-server<3,>=2.4.0->notebook>=4.4.1->widgetsnbextension~=3.6.10->ipywidgets<=7.8.5->insperautograder==0.2.2)\n",
      "  Using cached argon2_cffi_bindings-21.2.0-cp38-abi3-macosx_10_9_universal2.whl.metadata (6.7 kB)\n",
      "Collecting httpcore==1.* (from httpx>=0.25.0->jupyterlab<4.4,>=4.3.6->notebook>=4.4.1->widgetsnbextension~=3.6.10->ipywidgets<=7.8.5->insperautograder==0.2.2)\n",
      "  Using cached httpcore-1.0.7-py3-none-any.whl.metadata (21 kB)\n",
      "Collecting h11<0.15,>=0.13 (from httpcore==1.*->httpx>=0.25.0->jupyterlab<4.4,>=4.3.6->notebook>=4.4.1->widgetsnbextension~=3.6.10->ipywidgets<=7.8.5->insperautograder==0.2.2)\n",
      "  Using cached h11-0.14.0-py3-none-any.whl.metadata (8.2 kB)\n",
      "Requirement already satisfied: appnope in /Users/laurapontiroli/Desktop/Mesa - MacBook Air de Laura/insper/quinto_semestre/megadados/md-bcc/.venv/lib/python3.13/site-packages (from ipykernel>=6.5.0->jupyterlab<4.4,>=4.3.6->notebook>=4.4.1->widgetsnbextension~=3.6.10->ipywidgets<=7.8.5->insperautograder==0.2.2) (0.1.4)\n",
      "Requirement already satisfied: debugpy>=1.6.5 in /Users/laurapontiroli/Desktop/Mesa - MacBook Air de Laura/insper/quinto_semestre/megadados/md-bcc/.venv/lib/python3.13/site-packages (from ipykernel>=6.5.0->jupyterlab<4.4,>=4.3.6->notebook>=4.4.1->widgetsnbextension~=3.6.10->ipywidgets<=7.8.5->insperautograder==0.2.2) (1.8.13)\n",
      "Requirement already satisfied: nest-asyncio in /Users/laurapontiroli/Desktop/Mesa - MacBook Air de Laura/insper/quinto_semestre/megadados/md-bcc/.venv/lib/python3.13/site-packages (from ipykernel>=6.5.0->jupyterlab<4.4,>=4.3.6->notebook>=4.4.1->widgetsnbextension~=3.6.10->ipywidgets<=7.8.5->insperautograder==0.2.2) (1.6.0)\n",
      "Requirement already satisfied: psutil in /Users/laurapontiroli/Desktop/Mesa - MacBook Air de Laura/insper/quinto_semestre/megadados/md-bcc/.venv/lib/python3.13/site-packages (from ipykernel>=6.5.0->jupyterlab<4.4,>=4.3.6->notebook>=4.4.1->widgetsnbextension~=3.6.10->ipywidgets<=7.8.5->insperautograder==0.2.2) (7.0.0)\n",
      "Collecting MarkupSafe>=2.0 (from jinja2>=3.0.3->jupyter-server<3,>=2.4.0->notebook>=4.4.1->widgetsnbextension~=3.6.10->ipywidgets<=7.8.5->insperautograder==0.2.2)\n",
      "  Using cached MarkupSafe-3.0.2-cp313-cp313-macosx_11_0_arm64.whl.metadata (4.0 kB)\n",
      "Collecting attrs>=22.2.0 (from jsonschema>=4.18.0->jupyterlab-server<3,>=2.27.1->notebook>=4.4.1->widgetsnbextension~=3.6.10->ipywidgets<=7.8.5->insperautograder==0.2.2)\n",
      "  Downloading attrs-25.3.0-py3-none-any.whl.metadata (10 kB)\n",
      "Collecting jsonschema-specifications>=2023.03.6 (from jsonschema>=4.18.0->jupyterlab-server<3,>=2.27.1->notebook>=4.4.1->widgetsnbextension~=3.6.10->ipywidgets<=7.8.5->insperautograder==0.2.2)\n",
      "  Using cached jsonschema_specifications-2024.10.1-py3-none-any.whl.metadata (3.0 kB)\n",
      "Collecting referencing>=0.28.4 (from jsonschema>=4.18.0->jupyterlab-server<3,>=2.27.1->notebook>=4.4.1->widgetsnbextension~=3.6.10->ipywidgets<=7.8.5->insperautograder==0.2.2)\n",
      "  Using cached referencing-0.36.2-py3-none-any.whl.metadata (2.8 kB)\n",
      "Collecting rpds-py>=0.7.1 (from jsonschema>=4.18.0->jupyterlab-server<3,>=2.27.1->notebook>=4.4.1->widgetsnbextension~=3.6.10->ipywidgets<=7.8.5->insperautograder==0.2.2)\n",
      "  Downloading rpds_py-0.24.0-cp313-cp313-macosx_11_0_arm64.whl.metadata (4.1 kB)\n",
      "Requirement already satisfied: python-dateutil>=2.8.2 in /Users/laurapontiroli/Desktop/Mesa - MacBook Air de Laura/insper/quinto_semestre/megadados/md-bcc/.venv/lib/python3.13/site-packages (from jupyter-client>=7.4.4->jupyter-server<3,>=2.4.0->notebook>=4.4.1->widgetsnbextension~=3.6.10->ipywidgets<=7.8.5->insperautograder==0.2.2) (2.9.0.post0)\n",
      "Requirement already satisfied: platformdirs>=2.5 in /Users/laurapontiroli/Desktop/Mesa - MacBook Air de Laura/insper/quinto_semestre/megadados/md-bcc/.venv/lib/python3.13/site-packages (from jupyter-core!=5.0.*,>=4.12->jupyter-server<3,>=2.4.0->notebook>=4.4.1->widgetsnbextension~=3.6.10->ipywidgets<=7.8.5->insperautograder==0.2.2) (4.3.7)\n",
      "Collecting python-json-logger>=2.0.4 (from jupyter-events>=0.11.0->jupyter-server<3,>=2.4.0->notebook>=4.4.1->widgetsnbextension~=3.6.10->ipywidgets<=7.8.5->insperautograder==0.2.2)\n",
      "  Downloading python_json_logger-3.3.0-py3-none-any.whl.metadata (4.0 kB)\n",
      "Collecting pyyaml>=5.3 (from jupyter-events>=0.11.0->jupyter-server<3,>=2.4.0->notebook>=4.4.1->widgetsnbextension~=3.6.10->ipywidgets<=7.8.5->insperautograder==0.2.2)\n",
      "  Using cached PyYAML-6.0.2-cp313-cp313-macosx_11_0_arm64.whl.metadata (2.1 kB)\n",
      "Collecting rfc3339-validator (from jupyter-events>=0.11.0->jupyter-server<3,>=2.4.0->notebook>=4.4.1->widgetsnbextension~=3.6.10->ipywidgets<=7.8.5->insperautograder==0.2.2)\n",
      "  Using cached rfc3339_validator-0.1.4-py2.py3-none-any.whl.metadata (1.5 kB)\n",
      "Collecting rfc3986-validator>=0.1.1 (from jupyter-events>=0.11.0->jupyter-server<3,>=2.4.0->notebook>=4.4.1->widgetsnbextension~=3.6.10->ipywidgets<=7.8.5->insperautograder==0.2.2)\n",
      "  Using cached rfc3986_validator-0.1.1-py2.py3-none-any.whl.metadata (1.7 kB)\n",
      "Collecting beautifulsoup4 (from nbconvert>=6.4.4->jupyter-server<3,>=2.4.0->notebook>=4.4.1->widgetsnbextension~=3.6.10->ipywidgets<=7.8.5->insperautograder==0.2.2)\n",
      "  Using cached beautifulsoup4-4.13.3-py3-none-any.whl.metadata (3.8 kB)\n",
      "Collecting bleach!=5.0.0 (from bleach[css]!=5.0.0->nbconvert>=6.4.4->jupyter-server<3,>=2.4.0->notebook>=4.4.1->widgetsnbextension~=3.6.10->ipywidgets<=7.8.5->insperautograder==0.2.2)\n",
      "  Using cached bleach-6.2.0-py3-none-any.whl.metadata (30 kB)\n",
      "Collecting defusedxml (from nbconvert>=6.4.4->jupyter-server<3,>=2.4.0->notebook>=4.4.1->widgetsnbextension~=3.6.10->ipywidgets<=7.8.5->insperautograder==0.2.2)\n",
      "  Using cached defusedxml-0.7.1-py2.py3-none-any.whl.metadata (32 kB)\n",
      "Collecting jupyterlab-pygments (from nbconvert>=6.4.4->jupyter-server<3,>=2.4.0->notebook>=4.4.1->widgetsnbextension~=3.6.10->ipywidgets<=7.8.5->insperautograder==0.2.2)\n",
      "  Using cached jupyterlab_pygments-0.3.0-py3-none-any.whl.metadata (4.4 kB)\n",
      "Collecting mistune<4,>=2.0.3 (from nbconvert>=6.4.4->jupyter-server<3,>=2.4.0->notebook>=4.4.1->widgetsnbextension~=3.6.10->ipywidgets<=7.8.5->insperautograder==0.2.2)\n",
      "  Downloading mistune-3.1.3-py3-none-any.whl.metadata (1.8 kB)\n",
      "Collecting nbclient>=0.5.0 (from nbconvert>=6.4.4->jupyter-server<3,>=2.4.0->notebook>=4.4.1->widgetsnbextension~=3.6.10->ipywidgets<=7.8.5->insperautograder==0.2.2)\n",
      "  Using cached nbclient-0.10.2-py3-none-any.whl.metadata (8.3 kB)\n",
      "Collecting pandocfilters>=1.4.1 (from nbconvert>=6.4.4->jupyter-server<3,>=2.4.0->notebook>=4.4.1->widgetsnbextension~=3.6.10->ipywidgets<=7.8.5->insperautograder==0.2.2)\n",
      "  Using cached pandocfilters-1.5.1-py2.py3-none-any.whl.metadata (9.0 kB)\n",
      "Collecting fastjsonschema>=2.15 (from nbformat>=5.3.0->jupyter-server<3,>=2.4.0->notebook>=4.4.1->widgetsnbextension~=3.6.10->ipywidgets<=7.8.5->insperautograder==0.2.2)\n",
      "  Using cached fastjsonschema-2.21.1-py3-none-any.whl.metadata (2.2 kB)\n",
      "Collecting webencodings (from bleach!=5.0.0->bleach[css]!=5.0.0->nbconvert>=6.4.4->jupyter-server<3,>=2.4.0->notebook>=4.4.1->widgetsnbextension~=3.6.10->ipywidgets<=7.8.5->insperautograder==0.2.2)\n",
      "  Using cached webencodings-0.5.1-py2.py3-none-any.whl.metadata (2.1 kB)\n",
      "Collecting tinycss2<1.5,>=1.1.0 (from bleach[css]!=5.0.0->nbconvert>=6.4.4->jupyter-server<3,>=2.4.0->notebook>=4.4.1->widgetsnbextension~=3.6.10->ipywidgets<=7.8.5->insperautograder==0.2.2)\n",
      "  Using cached tinycss2-1.4.0-py3-none-any.whl.metadata (3.0 kB)\n",
      "Collecting fqdn (from jsonschema[format-nongpl]>=4.18.0->jupyter-events>=0.11.0->jupyter-server<3,>=2.4.0->notebook>=4.4.1->widgetsnbextension~=3.6.10->ipywidgets<=7.8.5->insperautograder==0.2.2)\n",
      "  Using cached fqdn-1.5.1-py3-none-any.whl.metadata (1.4 kB)\n",
      "Collecting isoduration (from jsonschema[format-nongpl]>=4.18.0->jupyter-events>=0.11.0->jupyter-server<3,>=2.4.0->notebook>=4.4.1->widgetsnbextension~=3.6.10->ipywidgets<=7.8.5->insperautograder==0.2.2)\n",
      "  Using cached isoduration-20.11.0-py3-none-any.whl.metadata (5.7 kB)\n",
      "Collecting jsonpointer>1.13 (from jsonschema[format-nongpl]>=4.18.0->jupyter-events>=0.11.0->jupyter-server<3,>=2.4.0->notebook>=4.4.1->widgetsnbextension~=3.6.10->ipywidgets<=7.8.5->insperautograder==0.2.2)\n",
      "  Using cached jsonpointer-3.0.0-py2.py3-none-any.whl.metadata (2.3 kB)\n",
      "Collecting uri-template (from jsonschema[format-nongpl]>=4.18.0->jupyter-events>=0.11.0->jupyter-server<3,>=2.4.0->notebook>=4.4.1->widgetsnbextension~=3.6.10->ipywidgets<=7.8.5->insperautograder==0.2.2)\n",
      "  Using cached uri_template-1.3.0-py3-none-any.whl.metadata (8.8 kB)\n",
      "Collecting webcolors>=24.6.0 (from jsonschema[format-nongpl]>=4.18.0->jupyter-events>=0.11.0->jupyter-server<3,>=2.4.0->notebook>=4.4.1->widgetsnbextension~=3.6.10->ipywidgets<=7.8.5->insperautograder==0.2.2)\n",
      "  Using cached webcolors-24.11.1-py3-none-any.whl.metadata (2.2 kB)\n",
      "Requirement already satisfied: six>=1.5 in /Users/laurapontiroli/Desktop/Mesa - MacBook Air de Laura/insper/quinto_semestre/megadados/md-bcc/.venv/lib/python3.13/site-packages (from python-dateutil>=2.8.2->jupyter-client>=7.4.4->jupyter-server<3,>=2.4.0->notebook>=4.4.1->widgetsnbextension~=3.6.10->ipywidgets<=7.8.5->insperautograder==0.2.2) (1.17.0)\n",
      "Collecting cffi>=1.0.1 (from argon2-cffi-bindings->argon2-cffi>=21.1->jupyter-server<3,>=2.4.0->notebook>=4.4.1->widgetsnbextension~=3.6.10->ipywidgets<=7.8.5->insperautograder==0.2.2)\n",
      "  Using cached cffi-1.17.1-cp313-cp313-macosx_11_0_arm64.whl.metadata (1.5 kB)\n",
      "Collecting soupsieve>1.2 (from beautifulsoup4->nbconvert>=6.4.4->jupyter-server<3,>=2.4.0->notebook>=4.4.1->widgetsnbextension~=3.6.10->ipywidgets<=7.8.5->insperautograder==0.2.2)\n",
      "  Using cached soupsieve-2.6-py3-none-any.whl.metadata (4.6 kB)\n",
      "Collecting typing-extensions>=4.0.0 (from beautifulsoup4->nbconvert>=6.4.4->jupyter-server<3,>=2.4.0->notebook>=4.4.1->widgetsnbextension~=3.6.10->ipywidgets<=7.8.5->insperautograder==0.2.2)\n",
      "  Using cached typing_extensions-4.13.1-py3-none-any.whl.metadata (3.0 kB)\n",
      "Collecting pycparser (from cffi>=1.0.1->argon2-cffi-bindings->argon2-cffi>=21.1->jupyter-server<3,>=2.4.0->notebook>=4.4.1->widgetsnbextension~=3.6.10->ipywidgets<=7.8.5->insperautograder==0.2.2)\n",
      "  Using cached pycparser-2.22-py3-none-any.whl.metadata (943 bytes)\n",
      "Collecting arrow>=0.15.0 (from isoduration->jsonschema[format-nongpl]>=4.18.0->jupyter-events>=0.11.0->jupyter-server<3,>=2.4.0->notebook>=4.4.1->widgetsnbextension~=3.6.10->ipywidgets<=7.8.5->insperautograder==0.2.2)\n",
      "  Using cached arrow-1.3.0-py3-none-any.whl.metadata (7.5 kB)\n",
      "Collecting types-python-dateutil>=2.8.10 (from arrow>=0.15.0->isoduration->jsonschema[format-nongpl]>=4.18.0->jupyter-events>=0.11.0->jupyter-server<3,>=2.4.0->notebook>=4.4.1->widgetsnbextension~=3.6.10->ipywidgets<=7.8.5->insperautograder==0.2.2)\n",
      "  Using cached types_python_dateutil-2.9.0.20241206-py3-none-any.whl.metadata (2.1 kB)\n",
      "Using cached ipywidgets-7.8.5-py2.py3-none-any.whl (124 kB)\n",
      "Using cached python_dotenv-1.1.0-py3-none-any.whl (20 kB)\n",
      "Using cached requests-2.32.3-py3-none-any.whl (64 kB)\n",
      "Using cached certifi-2025.1.31-py3-none-any.whl (166 kB)\n",
      "Using cached charset_normalizer-3.4.1-cp313-cp313-macosx_10_13_universal2.whl (195 kB)\n",
      "Using cached idna-3.10-py3-none-any.whl (70 kB)\n",
      "Using cached ipython_genutils-0.2.0-py2.py3-none-any.whl (26 kB)\n",
      "Using cached jupyterlab_widgets-1.1.11-py3-none-any.whl (246 kB)\n",
      "Using cached urllib3-2.3.0-py3-none-any.whl (128 kB)\n",
      "Using cached widgetsnbextension-3.6.10-py2.py3-none-any.whl (1.6 MB)\n",
      "Downloading notebook-7.3.3-py3-none-any.whl (13.1 MB)\n",
      "\u001b[2K   \u001b[90m━━━━━━━━━━━━━━━━━━━━━━━━━━━━━━━━━━━━━━━━\u001b[0m \u001b[32m13.1/13.1 MB\u001b[0m \u001b[31m13.3 MB/s\u001b[0m eta \u001b[36m0:00:00\u001b[0ma \u001b[36m0:00:01\u001b[0m\n",
      "\u001b[?25hUsing cached jupyter_server-2.15.0-py3-none-any.whl (385 kB)\n",
      "Downloading jupyterlab-4.3.6-py3-none-any.whl (11.7 MB)\n",
      "\u001b[2K   \u001b[90m━━━━━━━━━━━━━━━━━━━━━━━━━━━━━━━━━━━━━━━━\u001b[0m \u001b[32m11.7/11.7 MB\u001b[0m \u001b[31m14.4 MB/s\u001b[0m eta \u001b[36m0:00:00\u001b[0m \u001b[36m0:00:01\u001b[0m\n",
      "\u001b[?25hUsing cached jupyterlab_server-2.27.3-py3-none-any.whl (59 kB)\n",
      "Using cached notebook_shim-0.2.4-py3-none-any.whl (13 kB)\n",
      "Using cached anyio-4.9.0-py3-none-any.whl (100 kB)\n",
      "Using cached argon2_cffi-23.1.0-py3-none-any.whl (15 kB)\n",
      "Downloading async_lru-2.0.5-py3-none-any.whl (6.1 kB)\n",
      "Using cached babel-2.17.0-py3-none-any.whl (10.2 MB)\n",
      "Using cached httpx-0.28.1-py3-none-any.whl (73 kB)\n",
      "Using cached httpcore-1.0.7-py3-none-any.whl (78 kB)\n",
      "Using cached jinja2-3.1.6-py3-none-any.whl (134 kB)\n",
      "Downloading json5-0.12.0-py3-none-any.whl (36 kB)\n",
      "Using cached jsonschema-4.23.0-py3-none-any.whl (88 kB)\n",
      "Using cached jupyter_events-0.12.0-py3-none-any.whl (19 kB)\n",
      "Using cached jupyter_lsp-2.2.5-py3-none-any.whl (69 kB)\n",
      "Using cached jupyter_server_terminals-0.5.3-py3-none-any.whl (13 kB)\n",
      "Using cached nbconvert-7.16.6-py3-none-any.whl (258 kB)\n",
      "Using cached nbformat-5.10.4-py3-none-any.whl (78 kB)\n",
      "Using cached overrides-7.7.0-py3-none-any.whl (17 kB)\n",
      "Using cached prometheus_client-0.21.1-py3-none-any.whl (54 kB)\n",
      "Using cached Send2Trash-1.8.3-py3-none-any.whl (18 kB)\n",
      "Using cached setuptools-78.1.0-py3-none-any.whl (1.3 MB)\n",
      "Using cached terminado-0.18.1-py3-none-any.whl (14 kB)\n",
      "Using cached websocket_client-1.8.0-py3-none-any.whl (58 kB)\n",
      "Downloading attrs-25.3.0-py3-none-any.whl (63 kB)\n",
      "Using cached bleach-6.2.0-py3-none-any.whl (163 kB)\n",
      "Using cached fastjsonschema-2.21.1-py3-none-any.whl (23 kB)\n",
      "Using cached jsonschema_specifications-2024.10.1-py3-none-any.whl (18 kB)\n",
      "Using cached MarkupSafe-3.0.2-cp313-cp313-macosx_11_0_arm64.whl (12 kB)\n",
      "Downloading mistune-3.1.3-py3-none-any.whl (53 kB)\n",
      "Using cached nbclient-0.10.2-py3-none-any.whl (25 kB)\n",
      "Using cached pandocfilters-1.5.1-py2.py3-none-any.whl (8.7 kB)\n",
      "Downloading python_json_logger-3.3.0-py3-none-any.whl (15 kB)\n",
      "Using cached PyYAML-6.0.2-cp313-cp313-macosx_11_0_arm64.whl (171 kB)\n",
      "Using cached referencing-0.36.2-py3-none-any.whl (26 kB)\n",
      "Using cached rfc3986_validator-0.1.1-py2.py3-none-any.whl (4.2 kB)\n",
      "Downloading rpds_py-0.24.0-cp313-cp313-macosx_11_0_arm64.whl (351 kB)\n",
      "Using cached sniffio-1.3.1-py3-none-any.whl (10 kB)\n",
      "Using cached argon2_cffi_bindings-21.2.0-cp38-abi3-macosx_10_9_universal2.whl (53 kB)\n",
      "Using cached beautifulsoup4-4.13.3-py3-none-any.whl (186 kB)\n",
      "Using cached defusedxml-0.7.1-py2.py3-none-any.whl (25 kB)\n",
      "Using cached jupyterlab_pygments-0.3.0-py3-none-any.whl (15 kB)\n",
      "Using cached rfc3339_validator-0.1.4-py2.py3-none-any.whl (3.5 kB)\n",
      "Using cached cffi-1.17.1-cp313-cp313-macosx_11_0_arm64.whl (178 kB)\n",
      "Using cached h11-0.14.0-py3-none-any.whl (58 kB)\n",
      "Using cached jsonpointer-3.0.0-py2.py3-none-any.whl (7.6 kB)\n",
      "Using cached soupsieve-2.6-py3-none-any.whl (36 kB)\n",
      "Using cached tinycss2-1.4.0-py3-none-any.whl (26 kB)\n",
      "Using cached typing_extensions-4.13.1-py3-none-any.whl (45 kB)\n",
      "Using cached webcolors-24.11.1-py3-none-any.whl (14 kB)\n",
      "Using cached webencodings-0.5.1-py2.py3-none-any.whl (11 kB)\n",
      "Using cached fqdn-1.5.1-py3-none-any.whl (9.1 kB)\n",
      "Using cached isoduration-20.11.0-py3-none-any.whl (11 kB)\n",
      "Using cached uri_template-1.3.0-py3-none-any.whl (11 kB)\n",
      "Using cached arrow-1.3.0-py3-none-any.whl (66 kB)\n",
      "Using cached pycparser-2.22-py3-none-any.whl (117 kB)\n",
      "Using cached types_python_dateutil-2.9.0.20241206-py3-none-any.whl (14 kB)\n",
      "Building wheels for collected packages: insperautograder\n",
      "  Building wheel for insperautograder (pyproject.toml) ... \u001b[?25ldone\n",
      "\u001b[?25h  Created wheel for insperautograder: filename=insperautograder-0.2.2-py3-none-any.whl size=4510 sha256=a21692823fdd22065e80e0bc5a59e25855bf324d9bd950387e7caf05b4251dea\n",
      "  Stored in directory: /private/var/folders/8b/dzkbr3jd2_73wfgltgsvxsmr0000gq/T/pip-ephem-wheel-cache-fet402ep/wheels/c4/b5/52/f0f3fd4ba61da820494be07fe66f101a0576f0ec8202950891\n",
      "Successfully built insperautograder\n",
      "Installing collected packages: webencodings, ipython-genutils, fastjsonschema, websocket-client, webcolors, urllib3, uri-template, typing-extensions, types-python-dateutil, tinycss2, terminado, soupsieve, sniffio, setuptools, send2trash, rpds-py, rfc3986-validator, rfc3339-validator, pyyaml, python-json-logger, python-dotenv, pycparser, prometheus-client, pandocfilters, overrides, mistune, MarkupSafe, jupyterlab-widgets, jupyterlab-pygments, jsonpointer, json5, idna, h11, fqdn, defusedxml, charset-normalizer, certifi, bleach, babel, attrs, async-lru, requests, referencing, jupyter-server-terminals, jinja2, httpcore, cffi, beautifulsoup4, arrow, anyio, jsonschema-specifications, isoduration, httpx, argon2-cffi-bindings, jsonschema, argon2-cffi, nbformat, nbclient, jupyter-events, nbconvert, jupyter-server, notebook-shim, jupyterlab-server, jupyter-lsp, jupyterlab, notebook, widgetsnbextension, ipywidgets, insperautograder\n",
      "Successfully installed MarkupSafe-3.0.2 anyio-4.9.0 argon2-cffi-23.1.0 argon2-cffi-bindings-21.2.0 arrow-1.3.0 async-lru-2.0.5 attrs-25.3.0 babel-2.17.0 beautifulsoup4-4.13.3 bleach-6.2.0 certifi-2025.1.31 cffi-1.17.1 charset-normalizer-3.4.1 defusedxml-0.7.1 fastjsonschema-2.21.1 fqdn-1.5.1 h11-0.14.0 httpcore-1.0.7 httpx-0.28.1 idna-3.10 insperautograder-0.2.2 ipython-genutils-0.2.0 ipywidgets-7.8.5 isoduration-20.11.0 jinja2-3.1.6 json5-0.12.0 jsonpointer-3.0.0 jsonschema-4.23.0 jsonschema-specifications-2024.10.1 jupyter-events-0.12.0 jupyter-lsp-2.2.5 jupyter-server-2.15.0 jupyter-server-terminals-0.5.3 jupyterlab-4.3.6 jupyterlab-pygments-0.3.0 jupyterlab-server-2.27.3 jupyterlab-widgets-1.1.11 mistune-3.1.3 nbclient-0.10.2 nbconvert-7.16.6 nbformat-5.10.4 notebook-7.3.3 notebook-shim-0.2.4 overrides-7.7.0 pandocfilters-1.5.1 prometheus-client-0.21.1 pycparser-2.22 python-dotenv-1.1.0 python-json-logger-3.3.0 pyyaml-6.0.2 referencing-0.36.2 requests-2.32.3 rfc3339-validator-0.1.4 rfc3986-validator-0.1.1 rpds-py-0.24.0 send2trash-1.8.3 setuptools-78.1.0 sniffio-1.3.1 soupsieve-2.6 terminado-0.18.1 tinycss2-1.4.0 types-python-dateutil-2.9.0.20241206 typing-extensions-4.13.1 uri-template-1.3.0 urllib3-2.3.0 webcolors-24.11.1 webencodings-0.5.1 websocket-client-1.8.0 widgetsnbextension-3.6.10\n",
      "\n",
      "\u001b[1m[\u001b[0m\u001b[34;49mnotice\u001b[0m\u001b[1;39;49m]\u001b[0m\u001b[39;49m A new release of pip is available: \u001b[0m\u001b[31;49m25.0\u001b[0m\u001b[39;49m -> \u001b[0m\u001b[32;49m25.0.1\u001b[0m\n",
      "\u001b[1m[\u001b[0m\u001b[34;49mnotice\u001b[0m\u001b[1;39;49m]\u001b[0m\u001b[39;49m To update, run: \u001b[0m\u001b[32;49mpip install --upgrade pip\u001b[0m\n"
     ]
    }
   ],
   "source": [
    "!pip install -U git+https://github.com/macielcalebe/insperautograding.git"
   ]
  },
  {
   "cell_type": "markdown",
   "id": "2ae5f5f3",
   "metadata": {},
   "source": [
    "## Criar o `.env`\n",
    "\n",
    "Os arquivos `.env` são arquivos de configuração usados no desenvolvimento de software para armazenar variáveis de ambiente. **Variáveis de ambiente** são valores definidos **fora do código-fonte** e usados para configurar diferentes aspectos de um aplicativo, como strings de conexão de banco de dados, chaves de API e outras **informações confidenciais**.\n",
    "\n",
    "Arquivos `.env` **jamais** (EU DISSE JAMAAAAIS) devem ser enviados para o github, isto pode representar sérios riscos pois pode prover acesso indevidos, como:\n",
    "- O hacker acessa e apaga toda sua base de dados\n",
    "- O hacker usa sua chave de API da AWS para minerar criptomoedas ou enviar spam (pode gastar milhares de dólares em minutos ou horas)\n",
    "\n",
    "Vamos instalar a biblioteca"
   ]
  },
  {
   "cell_type": "code",
   "execution_count": 2,
   "id": "1e82ba3a",
   "metadata": {},
   "outputs": [
    {
     "name": "stdout",
     "output_type": "stream",
     "text": [
      "Requirement already satisfied: python-dotenv in /Users/laurapontiroli/Desktop/insper/quinto_semestre/megadados/md-bcc/.venv/lib/python3.12/site-packages (1.0.1)\n",
      "\n",
      "\u001b[1m[\u001b[0m\u001b[34;49mnotice\u001b[0m\u001b[1;39;49m]\u001b[0m\u001b[39;49m A new release of pip is available: \u001b[0m\u001b[31;49m24.2\u001b[0m\u001b[39;49m -> \u001b[0m\u001b[32;49m25.0\u001b[0m\n",
      "\u001b[1m[\u001b[0m\u001b[34;49mnotice\u001b[0m\u001b[1;39;49m]\u001b[0m\u001b[39;49m To update, run: \u001b[0m\u001b[32;49mpip install --upgrade pip\u001b[0m\n"
     ]
    }
   ],
   "source": [
    "!pip install python-dotenv"
   ]
  },
  {
   "cell_type": "markdown",
   "id": "19d99af9",
   "metadata": {},
   "source": [
    "e escrever um `.env` na pasta pai (supondo que você tem uma pasta para a disciplina e nela cria uma pasta por aula).\n",
    "\n",
    "<img src=\"https://megadados-insper.s3.us-east-2.amazonaws.com/img/env_local.png\">\n",
    "\n",
    "O comando abaixo já deve escrever no local adequado. Você também pode utilizar um editor de textos para criar o `.env`."
   ]
  },
  {
   "cell_type": "code",
   "execution_count": 3,
   "id": "06ddf3ec",
   "metadata": {},
   "outputs": [
    {
     "name": "stdout",
     "output_type": "stream",
     "text": [
      "Overwriting ../.env\n"
     ]
    }
   ],
   "source": [
    "%%writefile ../.env\n",
    "IAG_SERVER_URL=\"https://bigdata.insper-comp.com.br/iag\"\n",
    "IAG_SUBJECT=\"megadados\"\n",
    "IAG_OFFERING=\"25-1-bcc\"\n",
    "IAG_TOKEN=\"iagtok_xxxxxxxxxxxxxxxxxxxxxxxxxxxxxxxxxxxxxxx\""
   ]
  },
  {
   "cell_type": "markdown",
   "id": "fde705c2",
   "metadata": {},
   "source": [
    "Confira pelo navegador de arquivos se o `.env` foi gerado corretamente!\n",
    "\n",
    "Como uma segunda confirmação, vamos tentar ler o endereço do servidor:"
   ]
  },
  {
   "cell_type": "code",
   "execution_count": 4,
   "id": "f0fab0af",
   "metadata": {},
   "outputs": [
    {
     "name": "stdout",
     "output_type": "stream",
     "text": [
      "https://bigdata.insper-comp.com.br/iag\n"
     ]
    }
   ],
   "source": [
    "import os\n",
    "from dotenv import load_dotenv\n",
    "\n",
    "load_dotenv(override=True)\n",
    "\n",
    "# Se aparecer o mesmo conteúdo definido na variável no .env, então é sucesso!\n",
    "print(os.getenv(\"IAG_SERVER_URL\"))"
   ]
  },
  {
   "cell_type": "markdown",
   "id": "86fb92f7",
   "metadata": {},
   "source": [
    "## Gerar um token\n",
    "\n",
    "Vamos fazer uma requisição para gerar um token que será utilizado para identificar você nos envios da disciplina.\n",
    "\n",
    "Caso algum import falhe, faça `pip install`"
   ]
  },
  {
   "cell_type": "code",
   "execution_count": 5,
   "id": "6b279e82",
   "metadata": {},
   "outputs": [],
   "source": [
    "import insperautograder.token as iat\n",
    "import insperautograder.jupyter as iaj"
   ]
  },
  {
   "cell_type": "code",
   "execution_count": 6,
   "id": "05bbb306",
   "metadata": {},
   "outputs": [
    {
     "data": {
      "text/markdown": [
       "\"Sending token in background! Check your Insper E-mail!\""
      ],
      "text/plain": [
       "<IPython.core.display.Markdown object>"
      ]
     },
     "metadata": {},
     "output_type": "display_data"
    }
   ],
   "source": [
    "# Descomente as linhas abaixo!\n",
    "username = \"laurapm\" # Informe aqui seu usuário Insper ex: mariana5 (sem @al....)\n",
    "iat.get_new_token(username=username)"
   ]
  },
  {
   "cell_type": "markdown",
   "id": "843b7c66",
   "metadata": {},
   "source": [
    "Confira seu email. Copie o token e cole no arquivo `.env` gerado no passo anterior. Como o token é a única informação sensível no `.env`, ao invés de atualizar pelo jupyter notebook, abra em algum editor de textos.\n",
    "\n",
    "Após a edição, execute a próxima célula para atualizar as variáveis de ambiente:"
   ]
  },
  {
   "cell_type": "code",
   "execution_count": 14,
   "id": "fc14c654",
   "metadata": {},
   "outputs": [
    {
     "data": {
      "text/plain": [
       "True"
      ]
     },
     "execution_count": 14,
     "metadata": {},
     "output_type": "execute_result"
    }
   ],
   "source": [
    "load_dotenv(override=True)"
   ]
  },
  {
   "cell_type": "markdown",
   "id": "2bc4a562",
   "metadata": {},
   "source": [
    "## Testando a API!\n",
    "\n",
    "Vamos conferir se temos atividades disponíveis! Preste atenção nas chamadas, elas serão úteis nas próximas aulas!"
   ]
  },
  {
   "cell_type": "code",
   "execution_count": 15,
   "id": "193cddad-0eec-4be5-923a-65a380bed853",
   "metadata": {},
   "outputs": [
    {
     "data": {
      "text/markdown": [
       "|    | Atividade   | De                  | Até                 |\n",
       "|---:|:------------|:--------------------|:--------------------|\n",
       "|  0 | newborn     | 2025-02-01 00:00:00 | 2025-05-30 00:00:00 |\n",
       "|  1 | select01    | 2025-02-06 16:00:00 | 2025-02-13 23:59:59 |"
      ],
      "text/plain": [
       "<IPython.core.display.Markdown object>"
      ]
     },
     "metadata": {},
     "output_type": "display_data"
    }
   ],
   "source": [
    "iaj.tasks()"
   ]
  },
  {
   "cell_type": "markdown",
   "id": "b0a4d890-374a-4ef9-8b7b-be9c9d800fbf",
   "metadata": {},
   "source": [
    "Vamos resolver o exercício da atividade!\n",
    "\n",
    "**Exercício exemplo**: Qual o nome desta disciplina?! Responda como string na variável `resp` (próxima célula).\n",
    "\n",
    "Considere que a seguinte resposta está correta, vamos fazer seu envio!"
   ]
  },
  {
   "cell_type": "code",
   "execution_count": 20,
   "id": "00349bb1",
   "metadata": {},
   "outputs": [],
   "source": [
    "resp = \"\"\"\n",
    "    MEGADADOS\n",
    "\"\"\""
   ]
  },
  {
   "cell_type": "markdown",
   "id": "c62541f0",
   "metadata": {},
   "source": [
    "Para enviar, clique no botão:"
   ]
  },
  {
   "cell_type": "code",
   "execution_count": 21,
   "id": "74b1b637",
   "metadata": {},
   "outputs": [
    {
     "data": {
      "application/vnd.jupyter.widget-view+json": {
       "model_id": "ecc9d29407d543b49ad1ef90526939eb",
       "version_major": 2,
       "version_minor": 0
      },
      "text/plain": [
       "interactive(children=(Button(description='Enviar ex01', style=ButtonStyle()), Output()), _dom_classes=('widget…"
      ]
     },
     "metadata": {},
     "output_type": "display_data"
    }
   ],
   "source": [
    "iaj.sender(answer=\"resp\", task=\"newborn\", question=\"ex01\", answer_type=\"pyvar\")"
   ]
  },
  {
   "cell_type": "markdown",
   "id": "c4e9ea47",
   "metadata": {},
   "source": [
    "A resposta pode possuir erros, que serão indicados pela API. Faça a correção, e, após sua última modificação, faça o envio clicando novamente no botão de envio! Ele automaticamente irá ler a variável `resp` (pega o valor atual dela, definido na última vez que você rodou a célula) e enviar para o servidor de testes!"
   ]
  },
  {
   "cell_type": "markdown",
   "id": "29321d76",
   "metadata": {},
   "source": [
    "## Atividades e Notas\n",
    "\n",
    "Podemos utilizar as chamadas para recuperar as atividades disponíveis, prazos e notas obtidas:"
   ]
  },
  {
   "cell_type": "code",
   "execution_count": 22,
   "id": "f421d0b2",
   "metadata": {},
   "outputs": [
    {
     "data": {
      "text/markdown": [
       "|    | Atividade   | De                  | Até                 |\n",
       "|---:|:------------|:--------------------|:--------------------|\n",
       "|  0 | newborn     | 2025-02-01 00:00:00 | 2025-05-30 00:00:00 |\n",
       "|  1 | select01    | 2025-02-06 16:00:00 | 2025-02-13 23:59:59 |"
      ],
      "text/plain": [
       "<IPython.core.display.Markdown object>"
      ]
     },
     "metadata": {},
     "output_type": "display_data"
    }
   ],
   "source": [
    "iaj.tasks()"
   ]
  },
  {
   "cell_type": "code",
   "execution_count": 23,
   "id": "31a41719-9f4a-4ea3-bbf1-d2b146c36fe2",
   "metadata": {},
   "outputs": [
    {
     "data": {
      "text/markdown": [
       "|    | Atividade   | Exercício   |   Peso |   Nota |\n",
       "|---:|:------------|:------------|-------:|-------:|\n",
       "|  0 | newborn     | ex01        |      1 |     10 |"
      ],
      "text/plain": [
       "<IPython.core.display.Markdown object>"
      ]
     },
     "metadata": {},
     "output_type": "display_data"
    }
   ],
   "source": [
    "iaj.grades(task=\"newborn\")"
   ]
  },
  {
   "cell_type": "code",
   "execution_count": 24,
   "id": "3367239a",
   "metadata": {},
   "outputs": [
    {
     "data": {
      "text/markdown": [
       "|    | Tarefa   |   Nota |\n",
       "|---:|:---------|-------:|\n",
       "|  0 | newborn  |     10 |"
      ],
      "text/plain": [
       "<IPython.core.display.Markdown object>"
      ]
     },
     "metadata": {},
     "output_type": "display_data"
    }
   ],
   "source": [
    "iaj.grades(by=\"TASK\", task=\"newborn\")"
   ]
  }
 ],
 "metadata": {
  "kernelspec": {
   "display_name": ".venv",
   "language": "python",
   "name": "python3"
  },
  "language_info": {
   "codemirror_mode": {
    "name": "ipython",
    "version": 3
   },
   "file_extension": ".py",
   "mimetype": "text/x-python",
   "name": "python",
   "nbconvert_exporter": "python",
   "pygments_lexer": "ipython3",
   "version": "3.13.2"
  }
 },
 "nbformat": 4,
 "nbformat_minor": 5
}
