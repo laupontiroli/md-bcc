{
 "cells": [
  {
   "cell_type": "markdown",
   "metadata": {
    "tags": []
   },
   "source": [
    "# Experimentando com bancos de dados em Python"
   ]
  },
  {
   "cell_type": "markdown",
   "metadata": {},
   "source": [
    "## Conectando com a base de dados"
   ]
  },
  {
   "cell_type": "markdown",
   "metadata": {},
   "source": [
    "Existem sistemas de gerenciamento de bancos de dados que operam no mesmo processo da aplicação cliente - ou seja, são bibliotecas que você pode importar diretamente no seu programa. Por exemplo: a biblioteca ``sqlite3`` (https://docs.python.org/3/library/sqlite3.html) é parte do conjunto de bibliotecas padrão da linguagem Python, e permite criar bases de dados diretamente em arquivo ou memória, sem a necessidade de um programa em separado. Eis um exemplo de uso de sqlite3:"
   ]
  },
  {
   "cell_type": "code",
   "execution_count": 102,
   "metadata": {},
   "outputs": [],
   "source": [
    "import sqlite3\n",
    "\n",
    "db = sqlite3.connect(\"teste.db\")\n",
    "# Para criar a base em memória (base temporária) use o nome de arquivo\n",
    "# \":memory:\""
   ]
  },
  {
   "cell_type": "markdown",
   "metadata": {},
   "source": [
    "Note que o arquivo ``teste.db`` foi criado. "
   ]
  },
  {
   "cell_type": "code",
   "execution_count": 103,
   "metadata": {},
   "outputs": [
    {
     "name": "stdout",
     "output_type": "stream",
     "text": [
      "True\n"
     ]
    }
   ],
   "source": [
    "import os\n",
    "\n",
    "print(\"teste.db\" in os.listdir())"
   ]
  },
  {
   "cell_type": "markdown",
   "metadata": {},
   "source": [
    "Apesar do ``sqlite3`` criar o sistema de gerenciamento de banco de dados (SGBD) SQLite diretamente no nosso processo (neste caso, o kernel Python que está sendo executado por esse notebook), o objeto de acesso ainda é uma \"conexão\". Isso se deve ao fato de que SGBDs \"normais\" - aqueles que realmente usamos em produção - são geralmente *sistemas cliente-servidor*, onde o SGBD é um processo separado da aplicação cliente e a comunicação entre eles acontece através de uma conexão de rede.\n",
    "\n",
    "<center><img src='imgs/client-server.png'></center>\n",
    "\n",
    "**Atividade:**\n",
    "\n",
    "Na figura acima, quem é o cliente do sistema de gerenciamento de banco de dados?"
   ]
  },
  {
   "cell_type": "markdown",
   "metadata": {},
   "source": [
    "<div class=\"alert alert-success\">\n",
    "\n",
    "Sua resposta aqui! Dê dois cliques e edite.\n",
    "    \n",
    "    Escreva AQUI!\n",
    "\n",
    "</div>"
   ]
  },
  {
   "cell_type": "markdown",
   "metadata": {},
   "source": [
    "Uma conexão é simplesmente o conduíte entre o cliente e o SGBD. Em Python, a especificação PEP 249 (https://www.python.org/dev/peps/pep-0249/) define que uma conexão deve ter os métodos ``.close()`` (para fechar a conexão), ``.cursor()`` (para obter um *cursor*, que é o objeto para realmente interagir com o banco de dados), e o par ``.commit()``/``.rollback()`` (para gerenciamento de transações).\n",
    "\n",
    "Vamos fechar essa conexão e trabalhar com o MySQL daqui em diante."
   ]
  },
  {
   "cell_type": "code",
   "execution_count": 104,
   "metadata": {},
   "outputs": [],
   "source": [
    "db.close()"
   ]
  },
  {
   "cell_type": "code",
   "execution_count": 105,
   "metadata": {},
   "outputs": [],
   "source": [
    "os.remove(\"teste.db\")"
   ]
  },
  {
   "cell_type": "markdown",
   "metadata": {},
   "source": [
    "Antes de tudo vamos criar um banco de dados. Queremos criar um banco de dados para gerenciar as equipes do primeiro campeonato Insper de ninja-cowboy-urso!\n",
    "\n",
    "- Ninja, com sua velocidade e furtividade, detona o cowboy.\n",
    "- O cowboy atira no urso.\n",
    "- O urso dá uma patada no ninja e acaba com ele.\n",
    "\n",
    "Cada jogador tem um nome, uma equipe, e sua jogada favorita. As equipes tem um nome e um grito de guerra.\n",
    "\n",
    "Portanto, nosso schema será:\n",
    "\n",
    "```\n",
    "jogador (id PK, nome_equipe, nome, preferencia)\n",
    "equipe (nome PK, grito)\n",
    "```\n",
    "\n",
    "com a restrição:\n",
    "\n",
    "```\n",
    "jogador(nome_equipe) FK para equipe(nome)\n",
    "```\n",
    "\n",
    "E um dicionário de dados simples para este problema é:\n",
    "\n",
    "<center><b>jogador</b></center>\n",
    "<table>\n",
    "    <tr>\n",
    "        <th>Campo</th>\n",
    "        <th>Tipo</th>\n",
    "        <th>Significado</th>\n",
    "        <th>Chave?</th>\n",
    "        <th>Valores</th>\n",
    "    </tr>\n",
    "    <tr>\n",
    "        <td>id</td>\n",
    "        <td>int</td>\n",
    "        <td>Identificador unico do jogador</td>\n",
    "        <td>PK</td>\n",
    "        <td>sem restrições</td>\n",
    "    </tr>\n",
    "    <tr>\n",
    "        <td>nome_equipe</td>\n",
    "        <td>string</td>\n",
    "        <td>Nome da equipe na qual o jogador atua</td>\n",
    "        <td>FK equipe(nome)</td>\n",
    "        <td></td>\n",
    "    </tr>\n",
    "    <tr>\n",
    "        <td>nome</td>\n",
    "        <td>string</td>\n",
    "        <td>Nome do jogador</td>\n",
    "        <td></td>\n",
    "        <td>Pode haver dois jogadores com mesmo nome. Máximo 80 caracteres.</td>\n",
    "    </tr>\n",
    "    <tr>\n",
    "        <td>preferencia</td>\n",
    "        <td>int</td>\n",
    "        <td>Jogada preferida do jogador</td>\n",
    "        <td></td>\n",
    "        <td>0: Ninja, 1: Cowboy, 2: Urso</td>\n",
    "    </tr>\n",
    "</table>\n",
    "\n",
    "<center><b>equipe</b></center>\n",
    "<table>\n",
    "    <tr>\n",
    "        <th>Campo</th>\n",
    "        <th>Tipo</th>\n",
    "        <th>Significado</th>\n",
    "        <th>Chave?</th>\n",
    "        <th>Valores</th>\n",
    "    </tr>\n",
    "    <tr>\n",
    "        <td>nome</td>\n",
    "        <td>string</td>\n",
    "        <td>Nome da equipe</td>\n",
    "        <td>PK</td>\n",
    "        <td>Máximo 30 caracteres</td>\n",
    "    </tr>\n",
    "    <tr>\n",
    "        <td>grito</td>\n",
    "        <td>string</td>\n",
    "        <td>Grito de guerra da equipe</td>\n",
    "        <td></td>\n",
    "        <td>Maximo 80 caracteres</td>\n",
    "    </tr>\n",
    "</table>\n",
    "\n",
    "**Atividade:** Escreva e rode o script de criação do banco de dados. Chame o banco de dados de ``torneio``. Compare com o gabarito em ``script_001.sql``."
   ]
  },
  {
   "cell_type": "markdown",
   "metadata": {},
   "source": [
    "Para conectar com o MySQL precisamos da biblioteca *mysql-connector-python*. \n",
    "Para instalar esta biblioteca:\n",
    "\n",
    "**`pip install mysql-connector-python`**"
   ]
  },
  {
   "cell_type": "code",
   "execution_count": 106,
   "metadata": {},
   "outputs": [],
   "source": [
    "from dotenv import load_dotenv\n",
    "import insperautograder.jupyter as ia\n",
    "import os"
   ]
  },
  {
   "cell_type": "code",
   "execution_count": 107,
   "metadata": {},
   "outputs": [],
   "source": [
    "import mysql.connector"
   ]
  },
  {
   "cell_type": "code",
   "execution_count": 108,
   "metadata": {},
   "outputs": [
    {
     "data": {
      "text/plain": [
       "True"
      ]
     },
     "execution_count": 108,
     "metadata": {},
     "output_type": "execute_result"
    }
   ],
   "source": [
    "load_dotenv(override=True)"
   ]
  },
  {
   "cell_type": "markdown",
   "metadata": {},
   "source": [
    "Vamos agora abrir uma conexão com o MySQL. Como agora temos realmente um sistema cliente-servidor, precisamos definir onde está o servidor, e precisamos também de informações de autenticação."
   ]
  },
  {
   "cell_type": "code",
   "execution_count": 109,
   "metadata": {},
   "outputs": [],
   "source": [
    "connection_options = {\n",
    "    \"host\": \"localhost\",\n",
    "    \"user\": \"root\",\n",
    "    \"password\": \"insper\",\n",
    "    \"database\": \"torneio\"\n",
    "}"
   ]
  },
  {
   "cell_type": "markdown",
   "metadata": {},
   "source": [
    "**Pergunta**: Faz sentido guardar o *user* e *password* dentro do próprio código fonte? Qual o jeito correto de lidar com username e password no seu produto?"
   ]
  },
  {
   "cell_type": "markdown",
   "metadata": {},
   "source": [
    "<div class=\"alert alert-success\">\n",
    "\n",
    "Sua resposta aqui! Dê dois cliques e edite.\n",
    "    \n",
    "    Escreva AQUI!\n",
    "\n",
    "</div>"
   ]
  },
  {
   "cell_type": "markdown",
   "metadata": {},
   "source": [
    "**Resposta**: \n",
    "\n",
    "Não se deve guardar *user* e *password* dentro do código fonte, pois trata-se de:\n",
    "- Informação sensível e que não deve ser acessada pelos programadores.\n",
    "- Informação que muda com frequência - ou pelo menos deveria mudar!\n",
    "- Dado puro, que deve ser separado do código.\n",
    "\n",
    "Algumas alternativas populares para resolver esse problema são:\n",
    "- Use um arquivo de configuração na conta que será usada para rodar a aplicação. Este arquivo deve ter todas as permissões de acesso negadas, exceto permissão de leitura para o próprio usuário da conta de execução da aplicação. O arquivo deverá ser lido então pela aplicação no momento da inicialização.\n",
    "- Use uma variável de ambiente com essas credenciais. É a mesma coisa que no ítem anterior, só ao invés de ter um arquivo de configuração da aplicação, temos o arquivo de configuração da conta em si, com os mesmos requisitos em relação às restrições de permissão."
   ]
  },
  {
   "cell_type": "markdown",
   "metadata": {},
   "source": [
    "## Atualizando `.env`\n",
    "\n",
    "### Tarefa:\n",
    "\n",
    "Atualize o arquivo `.env`. Por enquanto ele provavelmente contém apenas as variáveis criadas para a API de correção automática:\n",
    "\n",
    "```python\n",
    "IAG_SERVER_URL=\"https://bigdata.insper-comp.com.br/iag\"\n",
    "IAG_SUBJECT=\"megadados\"\n",
    "IAG_OFFERING=\"xxxx\"\n",
    "IAG_TOKEN=\"iagtok_xxxxxxxxxxxxxxxxxxxxxxxxxxxxxxxxxxxxxxxxxxxxxxxxx\"\n",
    "```\n",
    "\n",
    "Vamos adicionar três novas variáveis:\n",
    "\n",
    "- `MD_DB_SERVER`: o endereço para o host onde o mysql está instalado (provavelmente `\"localhost\"`)\n",
    "- `MD_DB_USERNAME`: o usuário para acesso ao banco (provavelmente `\"root\"`)\n",
    "- `MD_DB_PASSWORD`: a senha do usuário."
   ]
  },
  {
   "cell_type": "markdown",
   "metadata": {},
   "source": [
    "\n",
    "O `.env` ficará neste formato (veja as três novas variáveis ao final):\n",
    "\n",
    "```python\n",
    "IAG_SERVER_URL=\"https://bigdata.xxxxxxx\"\n",
    "IAG_SUBJECT=\"alguma_disciplina\"\n",
    "IAG_OFFERING=\"xxx\"\n",
    "IAG_TOKEN=\"iagtok_xxxxxxxxxxxxxxxxxxxxxxxxxxxxxxxxxxxxxxxxxxxxxxxxx\"\n",
    "MD_DB_SERVER=\"localhost\"\n",
    "MD_DB_USERNAME=\"root\"\n",
    "MD_DB_PASSWORD=\"alguma_senha\"\n",
    "```"
   ]
  },
  {
   "cell_type": "code",
   "execution_count": 110,
   "metadata": {},
   "outputs": [],
   "source": [
    "load_dotenv(override=True)\n",
    "\n",
    "connection_options = {\n",
    "    \"host\": os.getenv(\"MD_DB_SERVER\"),\n",
    "    \"user\": os.getenv(\"MD_DB_USERNAME\"),\n",
    "    \"password\": os.getenv(\"MD_DB_PASSWORD\"),\n",
    "    \"database\": \"torneio\"\n",
    "}"
   ]
  },
  {
   "cell_type": "markdown",
   "metadata": {},
   "source": [
    "**Abrindo a conexão:**"
   ]
  },
  {
   "cell_type": "code",
   "execution_count": 111,
   "metadata": {},
   "outputs": [],
   "source": [
    "# A notação de duplo asterisco em Python permite usar um dicionário \n",
    "# no lugar de argumentos nomeados. A linha a ser executada abaixo equivale á:\n",
    "#\n",
    "# connection = mysql.connector.connect(\n",
    "#     host=os.getenv(\"MD_DB_SERVER\"),\n",
    "#     user=os.getenv(\"MD_DB_USERNAME\"),\n",
    "#     password=os.getenv(\"MD_DB_PASSWORD\"),\n",
    "#     database=\"torneio\"\n",
    "# )\n",
    "#\n",
    "connection = mysql.connector.connect(**connection_options)"
   ]
  },
  {
   "cell_type": "markdown",
   "metadata": {},
   "source": [
    "<div class=\"alert alert-info\">\n",
    "\n",
    "**IMPORTANTE:**\n",
    "\n",
    "TODAS AS OPERAÇÕES REALIZADAS NESTA CONEXÃO SÃO TEMPORÁRIAS, ATÉ QUE O COMANDO `connection.commit()` seja executado!\n",
    "\n",
    "</div>\n",
    "\n",
    "<div class=\"alert alert-warning\" role=\"alert\">\n",
    "    \n",
    "**MAIS IMPORTANTE AINDA:**\n",
    "\n",
    "ISSO NÃO VALE SE `AUTOCOMMIT` ESTIVER LIGADO!\n",
    "\n",
    "</div>\n",
    "\n",
    "\n",
    "Estudaremos melhor essa questão quando discutirmos transações em maiores detalhes.\n",
    "\n",
    "Vamos criar alguns dados iniciais:"
   ]
  },
  {
   "cell_type": "code",
   "execution_count": 112,
   "metadata": {},
   "outputs": [],
   "source": [
    "T1 = \"Raposas Nerds\"\n",
    "T2 = \"É nois\"\n",
    "\n",
    "NINJA = 0\n",
    "COWBOY = 1\n",
    "URSO = 2\n",
    "\n",
    "times = {\n",
    "    T1: \"sudo vencer!\",\n",
    "    T2: \"Olha eu mamãe!\",\n",
    "}\n",
    "\n",
    "jogadores = [\n",
    "    (\"Raul Ayres\", T1, NINJA),\n",
    "    (\"Luciano Hashimoto\", T1, COWBOY),\n",
    "    (\"Rafael Montaigner\", T1, URSO),\n",
    "    (\"Igor Miranda\", T2, URSO),\n",
    "    (\"Andrew Ikeda\", T2, COWBOY),\n",
    "    (\"Fábio Kurauchi\", T2, NINJA),\n",
    "]"
   ]
  },
  {
   "cell_type": "markdown",
   "metadata": {},
   "source": [
    "Vamos inserir os dados dos times.\n",
    "\n",
    "**Atividade:** Quem devemos inserir primeiro: dados na tabela `equipe` ou na tabela `jogador`?"
   ]
  },
  {
   "cell_type": "markdown",
   "metadata": {},
   "source": [
    "<div class=\"alert alert-success\">\n",
    "\n",
    "Sua resposta aqui! Dê dois cliques e edite.\n",
    "    \n",
    "    Escreva AQUI!\n",
    "\n",
    "</div>"
   ]
  },
  {
   "cell_type": "markdown",
   "metadata": {},
   "source": [
    "Quando uma tabela tem chave estrangeira para outra tabela dizemos que ela é filha (*child*) da outra tabela, e que a outra tabela é a pai (*parent*).\n",
    "\n",
    "Um *cursor* é o objeto que permite executar queries SQL e interagir com os resultados obtidos.\n",
    "\n",
    "### Tentando inserir um jogador\n",
    "\n",
    "Vamos tentar inserir um jogador:"
   ]
  },
  {
   "cell_type": "code",
   "execution_count": 113,
   "metadata": {},
   "outputs": [
    {
     "ename": "ProgrammingError",
     "evalue": "1146 (42S02): Table 'torneio.jogador' doesn't exist",
     "output_type": "error",
     "traceback": [
      "\u001b[0;31m---------------------------------------------------------------------------\u001b[0m",
      "\u001b[0;31mMySQLInterfaceError\u001b[0m                       Traceback (most recent call last)",
      "File \u001b[0;32m~/Desktop/Mesa - MacBook Air de Laura/insper/quinto_semestre/megadados/md-bcc/.venv/lib/python3.12/site-packages/mysql/connector/connection_cext.py:755\u001b[0m, in \u001b[0;36mCMySQLConnection.cmd_query\u001b[0;34m(self, query, raw, buffered, raw_as_string, **kwargs)\u001b[0m\n\u001b[1;32m    754\u001b[0m         query \u001b[38;5;241m=\u001b[39m query\u001b[38;5;241m.\u001b[39mencode(\u001b[38;5;124m\"\u001b[39m\u001b[38;5;124mutf-8\u001b[39m\u001b[38;5;124m\"\u001b[39m)\n\u001b[0;32m--> 755\u001b[0m     \u001b[38;5;28;43mself\u001b[39;49m\u001b[38;5;241;43m.\u001b[39;49m\u001b[43m_cmysql\u001b[49m\u001b[38;5;241;43m.\u001b[39;49m\u001b[43mquery\u001b[49m\u001b[43m(\u001b[49m\n\u001b[1;32m    756\u001b[0m \u001b[43m        \u001b[49m\u001b[43mquery\u001b[49m\u001b[43m,\u001b[49m\n\u001b[1;32m    757\u001b[0m \u001b[43m        \u001b[49m\u001b[43mraw\u001b[49m\u001b[38;5;241;43m=\u001b[39;49m\u001b[43mraw\u001b[49m\u001b[43m,\u001b[49m\n\u001b[1;32m    758\u001b[0m \u001b[43m        \u001b[49m\u001b[43mbuffered\u001b[49m\u001b[38;5;241;43m=\u001b[39;49m\u001b[43mbuffered\u001b[49m\u001b[43m,\u001b[49m\n\u001b[1;32m    759\u001b[0m \u001b[43m        \u001b[49m\u001b[43mraw_as_string\u001b[49m\u001b[38;5;241;43m=\u001b[39;49m\u001b[43mraw_as_string\u001b[49m\u001b[43m,\u001b[49m\n\u001b[1;32m    760\u001b[0m \u001b[43m        \u001b[49m\u001b[43mquery_attrs\u001b[49m\u001b[38;5;241;43m=\u001b[39;49m\u001b[38;5;28;43mself\u001b[39;49m\u001b[38;5;241;43m.\u001b[39;49m\u001b[43mquery_attrs\u001b[49m\u001b[43m,\u001b[49m\n\u001b[1;32m    761\u001b[0m \u001b[43m    \u001b[49m\u001b[43m)\u001b[49m\n\u001b[1;32m    762\u001b[0m \u001b[38;5;28;01mexcept\u001b[39;00m MySQLInterfaceError \u001b[38;5;28;01mas\u001b[39;00m err:\n",
      "\u001b[0;31mMySQLInterfaceError\u001b[0m: Table 'torneio.jogador' doesn't exist",
      "\nThe above exception was the direct cause of the following exception:\n",
      "\u001b[0;31mProgrammingError\u001b[0m                          Traceback (most recent call last)",
      "Cell \u001b[0;32mIn[113], line 3\u001b[0m\n\u001b[1;32m      1\u001b[0m \u001b[38;5;28;01mtry\u001b[39;00m:\n\u001b[1;32m      2\u001b[0m     \u001b[38;5;28;01mwith\u001b[39;00m connection\u001b[38;5;241m.\u001b[39mcursor() \u001b[38;5;28;01mas\u001b[39;00m cursor:\n\u001b[0;32m----> 3\u001b[0m         \u001b[43mcursor\u001b[49m\u001b[38;5;241;43m.\u001b[39;49m\u001b[43mexecute\u001b[49m\u001b[43m(\u001b[49m\u001b[38;5;124;43m\"\u001b[39;49m\u001b[38;5;124;43mINSERT INTO jogador (nome, nome_equipe, preferencia) VALUES (\u001b[39;49m\u001b[38;5;124;43m'\u001b[39;49m\u001b[38;5;124;43mJoao\u001b[39;49m\u001b[38;5;124;43m'\u001b[39;49m\u001b[38;5;124;43m, \u001b[39;49m\u001b[38;5;124;43m'\u001b[39;49m\u001b[38;5;124;43msete e meia\u001b[39;49m\u001b[38;5;124;43m'\u001b[39;49m\u001b[38;5;124;43m, 0)\u001b[39;49m\u001b[38;5;124;43m\"\u001b[39;49m\u001b[43m)\u001b[49m\n\u001b[1;32m      4\u001b[0m     connection\u001b[38;5;241m.\u001b[39mcommit()\n\u001b[1;32m      5\u001b[0m \u001b[38;5;28;01mexcept\u001b[39;00m mysql\u001b[38;5;241m.\u001b[39mconnector\u001b[38;5;241m.\u001b[39mIntegrityError \u001b[38;5;28;01mas\u001b[39;00m exception:\n",
      "File \u001b[0;32m~/Desktop/Mesa - MacBook Air de Laura/insper/quinto_semestre/megadados/md-bcc/.venv/lib/python3.12/site-packages/mysql/connector/cursor_cext.py:351\u001b[0m, in \u001b[0;36mCMySQLCursor.execute\u001b[0;34m(self, operation, params, map_results)\u001b[0m\n\u001b[1;32m    343\u001b[0m \u001b[38;5;28mself\u001b[39m\u001b[38;5;241m.\u001b[39m_executed \u001b[38;5;241m=\u001b[39m (\n\u001b[1;32m    344\u001b[0m     \u001b[38;5;28mself\u001b[39m\u001b[38;5;241m.\u001b[39m_stmt_partition[\u001b[38;5;124m\"\u001b[39m\u001b[38;5;124msingle_stmts\u001b[39m\u001b[38;5;124m\"\u001b[39m]\u001b[38;5;241m.\u001b[39mpopleft()\n\u001b[1;32m    345\u001b[0m     \u001b[38;5;28;01mif\u001b[39;00m map_results\n\u001b[1;32m    346\u001b[0m     \u001b[38;5;28;01melse\u001b[39;00m \u001b[38;5;28mself\u001b[39m\u001b[38;5;241m.\u001b[39m_stmt_partition[\u001b[38;5;124m\"\u001b[39m\u001b[38;5;124mmappable_stmt\u001b[39m\u001b[38;5;124m\"\u001b[39m]\n\u001b[1;32m    347\u001b[0m )\n\u001b[1;32m    349\u001b[0m \u001b[38;5;28;01mtry\u001b[39;00m:\n\u001b[1;32m    350\u001b[0m     \u001b[38;5;28mself\u001b[39m\u001b[38;5;241m.\u001b[39m_handle_result(\n\u001b[0;32m--> 351\u001b[0m         \u001b[38;5;28;43mself\u001b[39;49m\u001b[38;5;241;43m.\u001b[39;49m\u001b[43m_connection\u001b[49m\u001b[38;5;241;43m.\u001b[39;49m\u001b[43mcmd_query\u001b[49m\u001b[43m(\u001b[49m\n\u001b[1;32m    352\u001b[0m \u001b[43m            \u001b[49m\u001b[38;5;28;43mself\u001b[39;49m\u001b[38;5;241;43m.\u001b[39;49m\u001b[43m_stmt_partition\u001b[49m\u001b[43m[\u001b[49m\u001b[38;5;124;43m\"\u001b[39;49m\u001b[38;5;124;43mmappable_stmt\u001b[39;49m\u001b[38;5;124;43m\"\u001b[39;49m\u001b[43m]\u001b[49m\u001b[43m,\u001b[49m\n\u001b[1;32m    353\u001b[0m \u001b[43m            \u001b[49m\u001b[43mraw\u001b[49m\u001b[38;5;241;43m=\u001b[39;49m\u001b[38;5;28;43mself\u001b[39;49m\u001b[38;5;241;43m.\u001b[39;49m\u001b[43m_raw\u001b[49m\u001b[43m,\u001b[49m\n\u001b[1;32m    354\u001b[0m \u001b[43m            \u001b[49m\u001b[43mbuffered\u001b[49m\u001b[38;5;241;43m=\u001b[39;49m\u001b[38;5;28;43mself\u001b[39;49m\u001b[38;5;241;43m.\u001b[39;49m\u001b[43m_buffered\u001b[49m\u001b[43m,\u001b[49m\n\u001b[1;32m    355\u001b[0m \u001b[43m            \u001b[49m\u001b[43mraw_as_string\u001b[49m\u001b[38;5;241;43m=\u001b[39;49m\u001b[38;5;28;43mself\u001b[39;49m\u001b[38;5;241;43m.\u001b[39;49m\u001b[43m_raw_as_string\u001b[49m\u001b[43m,\u001b[49m\n\u001b[1;32m    356\u001b[0m \u001b[43m        \u001b[49m\u001b[43m)\u001b[49m\n\u001b[1;32m    357\u001b[0m     )\n\u001b[1;32m    358\u001b[0m \u001b[38;5;28;01mexcept\u001b[39;00m MySQLInterfaceError \u001b[38;5;28;01mas\u001b[39;00m err:\n\u001b[1;32m    359\u001b[0m     \u001b[38;5;28;01mraise\u001b[39;00m get_mysql_exception(\n\u001b[1;32m    360\u001b[0m         msg\u001b[38;5;241m=\u001b[39merr\u001b[38;5;241m.\u001b[39mmsg, errno\u001b[38;5;241m=\u001b[39merr\u001b[38;5;241m.\u001b[39merrno, sqlstate\u001b[38;5;241m=\u001b[39merr\u001b[38;5;241m.\u001b[39msqlstate\n\u001b[1;32m    361\u001b[0m     ) \u001b[38;5;28;01mfrom\u001b[39;00m\u001b[38;5;250m \u001b[39m\u001b[38;5;21;01merr\u001b[39;00m\n",
      "File \u001b[0;32m~/Desktop/Mesa - MacBook Air de Laura/insper/quinto_semestre/megadados/md-bcc/.venv/lib/python3.12/site-packages/mysql/connector/opentelemetry/context_propagation.py:97\u001b[0m, in \u001b[0;36mwith_context_propagation.<locals>.wrapper\u001b[0;34m(cnx, *args, **kwargs)\u001b[0m\n\u001b[1;32m     95\u001b[0m \u001b[38;5;66;03m# pylint: disable=possibly-used-before-assignment\u001b[39;00m\n\u001b[1;32m     96\u001b[0m \u001b[38;5;28;01mif\u001b[39;00m \u001b[38;5;129;01mnot\u001b[39;00m OTEL_ENABLED \u001b[38;5;129;01mor\u001b[39;00m \u001b[38;5;129;01mnot\u001b[39;00m cnx\u001b[38;5;241m.\u001b[39motel_context_propagation:\n\u001b[0;32m---> 97\u001b[0m     \u001b[38;5;28;01mreturn\u001b[39;00m \u001b[43mmethod\u001b[49m\u001b[43m(\u001b[49m\u001b[43mcnx\u001b[49m\u001b[43m,\u001b[49m\u001b[43m \u001b[49m\u001b[38;5;241;43m*\u001b[39;49m\u001b[43margs\u001b[49m\u001b[43m,\u001b[49m\u001b[43m \u001b[49m\u001b[38;5;241;43m*\u001b[39;49m\u001b[38;5;241;43m*\u001b[39;49m\u001b[43mkwargs\u001b[49m\u001b[43m)\u001b[49m\n\u001b[1;32m     99\u001b[0m current_span \u001b[38;5;241m=\u001b[39m trace\u001b[38;5;241m.\u001b[39mget_current_span()\n\u001b[1;32m    100\u001b[0m tp_header \u001b[38;5;241m=\u001b[39m \u001b[38;5;28;01mNone\u001b[39;00m\n",
      "File \u001b[0;32m~/Desktop/Mesa - MacBook Air de Laura/insper/quinto_semestre/megadados/md-bcc/.venv/lib/python3.12/site-packages/mysql/connector/connection_cext.py:763\u001b[0m, in \u001b[0;36mCMySQLConnection.cmd_query\u001b[0;34m(self, query, raw, buffered, raw_as_string, **kwargs)\u001b[0m\n\u001b[1;32m    755\u001b[0m     \u001b[38;5;28mself\u001b[39m\u001b[38;5;241m.\u001b[39m_cmysql\u001b[38;5;241m.\u001b[39mquery(\n\u001b[1;32m    756\u001b[0m         query,\n\u001b[1;32m    757\u001b[0m         raw\u001b[38;5;241m=\u001b[39mraw,\n\u001b[0;32m   (...)\u001b[0m\n\u001b[1;32m    760\u001b[0m         query_attrs\u001b[38;5;241m=\u001b[39m\u001b[38;5;28mself\u001b[39m\u001b[38;5;241m.\u001b[39mquery_attrs,\n\u001b[1;32m    761\u001b[0m     )\n\u001b[1;32m    762\u001b[0m \u001b[38;5;28;01mexcept\u001b[39;00m MySQLInterfaceError \u001b[38;5;28;01mas\u001b[39;00m err:\n\u001b[0;32m--> 763\u001b[0m     \u001b[38;5;28;01mraise\u001b[39;00m get_mysql_exception(\n\u001b[1;32m    764\u001b[0m         err\u001b[38;5;241m.\u001b[39merrno, msg\u001b[38;5;241m=\u001b[39merr\u001b[38;5;241m.\u001b[39mmsg, sqlstate\u001b[38;5;241m=\u001b[39merr\u001b[38;5;241m.\u001b[39msqlstate\n\u001b[1;32m    765\u001b[0m     ) \u001b[38;5;28;01mfrom\u001b[39;00m\u001b[38;5;250m \u001b[39m\u001b[38;5;21;01merr\u001b[39;00m\n\u001b[1;32m    766\u001b[0m \u001b[38;5;28;01mexcept\u001b[39;00m \u001b[38;5;167;01mAttributeError\u001b[39;00m \u001b[38;5;28;01mas\u001b[39;00m err:\n\u001b[1;32m    767\u001b[0m     addr \u001b[38;5;241m=\u001b[39m (\n\u001b[1;32m    768\u001b[0m         \u001b[38;5;28mself\u001b[39m\u001b[38;5;241m.\u001b[39m_unix_socket \u001b[38;5;28;01mif\u001b[39;00m \u001b[38;5;28mself\u001b[39m\u001b[38;5;241m.\u001b[39m_unix_socket \u001b[38;5;28;01melse\u001b[39;00m \u001b[38;5;124mf\u001b[39m\u001b[38;5;124m\"\u001b[39m\u001b[38;5;132;01m{\u001b[39;00m\u001b[38;5;28mself\u001b[39m\u001b[38;5;241m.\u001b[39m_host\u001b[38;5;132;01m}\u001b[39;00m\u001b[38;5;124m:\u001b[39m\u001b[38;5;132;01m{\u001b[39;00m\u001b[38;5;28mself\u001b[39m\u001b[38;5;241m.\u001b[39m_port\u001b[38;5;132;01m}\u001b[39;00m\u001b[38;5;124m\"\u001b[39m\n\u001b[1;32m    769\u001b[0m     )\n",
      "\u001b[0;31mProgrammingError\u001b[0m: 1146 (42S02): Table 'torneio.jogador' doesn't exist"
     ]
    }
   ],
   "source": [
    "try:\n",
    "    with connection.cursor() as cursor:\n",
    "        cursor.execute(\"INSERT INTO jogador (nome, nome_equipe, preferencia) VALUES ('Joao', 'sete e meia', 0)\")\n",
    "    connection.commit()\n",
    "except mysql.connector.IntegrityError as exception:\n",
    "    print(f\"IntegrityError: {exception}\")\n",
    "    connection.rollback()"
   ]
  },
  {
   "cell_type": "markdown",
   "metadata": {},
   "source": [
    "Perceba que obtemos uma exceção, pois estamos tentando utilizar uma equipe inexistente na tabela de `equipe`.\n",
    "\n",
    "Isto responde nossa pergunta anterior: precisamos inserir primeiro as equipes. Vamos fazer isto utilizando um laço que fará todas as inserções:"
   ]
  },
  {
   "cell_type": "code",
   "execution_count": null,
   "metadata": {},
   "outputs": [
    {
     "ename": "ProgrammingError",
     "evalue": "1146 (42S02): Table 'torneio.equipe' doesn't exist",
     "output_type": "error",
     "traceback": [
      "\u001b[0;31m---------------------------------------------------------------------------\u001b[0m",
      "\u001b[0;31mMySQLInterfaceError\u001b[0m                       Traceback (most recent call last)",
      "File \u001b[0;32m~/Desktop/Mesa - MacBook Air de Laura/insper/quinto_semestre/megadados/md-bcc/.venv/lib/python3.12/site-packages/mysql/connector/connection_cext.py:755\u001b[0m, in \u001b[0;36mCMySQLConnection.cmd_query\u001b[0;34m(self, query, raw, buffered, raw_as_string, **kwargs)\u001b[0m\n\u001b[1;32m    754\u001b[0m         query \u001b[38;5;241m=\u001b[39m query\u001b[38;5;241m.\u001b[39mencode(\u001b[38;5;124m\"\u001b[39m\u001b[38;5;124mutf-8\u001b[39m\u001b[38;5;124m\"\u001b[39m)\n\u001b[0;32m--> 755\u001b[0m     \u001b[38;5;28;43mself\u001b[39;49m\u001b[38;5;241;43m.\u001b[39;49m\u001b[43m_cmysql\u001b[49m\u001b[38;5;241;43m.\u001b[39;49m\u001b[43mquery\u001b[49m\u001b[43m(\u001b[49m\n\u001b[1;32m    756\u001b[0m \u001b[43m        \u001b[49m\u001b[43mquery\u001b[49m\u001b[43m,\u001b[49m\n\u001b[1;32m    757\u001b[0m \u001b[43m        \u001b[49m\u001b[43mraw\u001b[49m\u001b[38;5;241;43m=\u001b[39;49m\u001b[43mraw\u001b[49m\u001b[43m,\u001b[49m\n\u001b[1;32m    758\u001b[0m \u001b[43m        \u001b[49m\u001b[43mbuffered\u001b[49m\u001b[38;5;241;43m=\u001b[39;49m\u001b[43mbuffered\u001b[49m\u001b[43m,\u001b[49m\n\u001b[1;32m    759\u001b[0m \u001b[43m        \u001b[49m\u001b[43mraw_as_string\u001b[49m\u001b[38;5;241;43m=\u001b[39;49m\u001b[43mraw_as_string\u001b[49m\u001b[43m,\u001b[49m\n\u001b[1;32m    760\u001b[0m \u001b[43m        \u001b[49m\u001b[43mquery_attrs\u001b[49m\u001b[38;5;241;43m=\u001b[39;49m\u001b[38;5;28;43mself\u001b[39;49m\u001b[38;5;241;43m.\u001b[39;49m\u001b[43mquery_attrs\u001b[49m\u001b[43m,\u001b[49m\n\u001b[1;32m    761\u001b[0m \u001b[43m    \u001b[49m\u001b[43m)\u001b[49m\n\u001b[1;32m    762\u001b[0m \u001b[38;5;28;01mexcept\u001b[39;00m MySQLInterfaceError \u001b[38;5;28;01mas\u001b[39;00m err:\n",
      "\u001b[0;31mMySQLInterfaceError\u001b[0m: Table 'torneio.equipe' doesn't exist",
      "\nThe above exception was the direct cause of the following exception:\n",
      "\u001b[0;31mProgrammingError\u001b[0m                          Traceback (most recent call last)",
      "Cell \u001b[0;32mIn[47], line 5\u001b[0m\n\u001b[1;32m      2\u001b[0m     \u001b[38;5;28;01mwith\u001b[39;00m connection\u001b[38;5;241m.\u001b[39mcursor() \u001b[38;5;28;01mas\u001b[39;00m cursor:\n\u001b[1;32m      3\u001b[0m         \u001b[38;5;66;03m# Outra opção aqui seria o uso de cursor.executemany()\u001b[39;00m\n\u001b[1;32m      4\u001b[0m         \u001b[38;5;28;01mfor\u001b[39;00m time, grito \u001b[38;5;129;01min\u001b[39;00m times\u001b[38;5;241m.\u001b[39mitems():\n\u001b[0;32m----> 5\u001b[0m             \u001b[43mcursor\u001b[49m\u001b[38;5;241;43m.\u001b[39;49m\u001b[43mexecute\u001b[49m\u001b[43m(\u001b[49m\u001b[38;5;124;43m\"\u001b[39;49m\u001b[38;5;124;43mINSERT INTO equipe VALUES (\u001b[39;49m\u001b[38;5;132;43;01m%s\u001b[39;49;00m\u001b[38;5;124;43m, \u001b[39;49m\u001b[38;5;132;43;01m%s\u001b[39;49;00m\u001b[38;5;124;43m)\u001b[39;49m\u001b[38;5;124;43m\"\u001b[39;49m\u001b[43m,\u001b[49m\u001b[43m \u001b[49m\u001b[43m(\u001b[49m\u001b[43mtime\u001b[49m\u001b[43m,\u001b[49m\u001b[43m \u001b[49m\u001b[43mgrito\u001b[49m\u001b[43m)\u001b[49m\u001b[43m)\u001b[49m\n\u001b[1;32m      6\u001b[0m     connection\u001b[38;5;241m.\u001b[39mcommit()\n\u001b[1;32m      7\u001b[0m \u001b[38;5;28;01mexcept\u001b[39;00m mysql\u001b[38;5;241m.\u001b[39mconnector\u001b[38;5;241m.\u001b[39mIntegrityError \u001b[38;5;28;01mas\u001b[39;00m exception:\n",
      "File \u001b[0;32m~/Desktop/Mesa - MacBook Air de Laura/insper/quinto_semestre/megadados/md-bcc/.venv/lib/python3.12/site-packages/mysql/connector/cursor_cext.py:351\u001b[0m, in \u001b[0;36mCMySQLCursor.execute\u001b[0;34m(self, operation, params, map_results)\u001b[0m\n\u001b[1;32m    343\u001b[0m \u001b[38;5;28mself\u001b[39m\u001b[38;5;241m.\u001b[39m_executed \u001b[38;5;241m=\u001b[39m (\n\u001b[1;32m    344\u001b[0m     \u001b[38;5;28mself\u001b[39m\u001b[38;5;241m.\u001b[39m_stmt_partition[\u001b[38;5;124m\"\u001b[39m\u001b[38;5;124msingle_stmts\u001b[39m\u001b[38;5;124m\"\u001b[39m]\u001b[38;5;241m.\u001b[39mpopleft()\n\u001b[1;32m    345\u001b[0m     \u001b[38;5;28;01mif\u001b[39;00m map_results\n\u001b[1;32m    346\u001b[0m     \u001b[38;5;28;01melse\u001b[39;00m \u001b[38;5;28mself\u001b[39m\u001b[38;5;241m.\u001b[39m_stmt_partition[\u001b[38;5;124m\"\u001b[39m\u001b[38;5;124mmappable_stmt\u001b[39m\u001b[38;5;124m\"\u001b[39m]\n\u001b[1;32m    347\u001b[0m )\n\u001b[1;32m    349\u001b[0m \u001b[38;5;28;01mtry\u001b[39;00m:\n\u001b[1;32m    350\u001b[0m     \u001b[38;5;28mself\u001b[39m\u001b[38;5;241m.\u001b[39m_handle_result(\n\u001b[0;32m--> 351\u001b[0m         \u001b[38;5;28;43mself\u001b[39;49m\u001b[38;5;241;43m.\u001b[39;49m\u001b[43m_connection\u001b[49m\u001b[38;5;241;43m.\u001b[39;49m\u001b[43mcmd_query\u001b[49m\u001b[43m(\u001b[49m\n\u001b[1;32m    352\u001b[0m \u001b[43m            \u001b[49m\u001b[38;5;28;43mself\u001b[39;49m\u001b[38;5;241;43m.\u001b[39;49m\u001b[43m_stmt_partition\u001b[49m\u001b[43m[\u001b[49m\u001b[38;5;124;43m\"\u001b[39;49m\u001b[38;5;124;43mmappable_stmt\u001b[39;49m\u001b[38;5;124;43m\"\u001b[39;49m\u001b[43m]\u001b[49m\u001b[43m,\u001b[49m\n\u001b[1;32m    353\u001b[0m \u001b[43m            \u001b[49m\u001b[43mraw\u001b[49m\u001b[38;5;241;43m=\u001b[39;49m\u001b[38;5;28;43mself\u001b[39;49m\u001b[38;5;241;43m.\u001b[39;49m\u001b[43m_raw\u001b[49m\u001b[43m,\u001b[49m\n\u001b[1;32m    354\u001b[0m \u001b[43m            \u001b[49m\u001b[43mbuffered\u001b[49m\u001b[38;5;241;43m=\u001b[39;49m\u001b[38;5;28;43mself\u001b[39;49m\u001b[38;5;241;43m.\u001b[39;49m\u001b[43m_buffered\u001b[49m\u001b[43m,\u001b[49m\n\u001b[1;32m    355\u001b[0m \u001b[43m            \u001b[49m\u001b[43mraw_as_string\u001b[49m\u001b[38;5;241;43m=\u001b[39;49m\u001b[38;5;28;43mself\u001b[39;49m\u001b[38;5;241;43m.\u001b[39;49m\u001b[43m_raw_as_string\u001b[49m\u001b[43m,\u001b[49m\n\u001b[1;32m    356\u001b[0m \u001b[43m        \u001b[49m\u001b[43m)\u001b[49m\n\u001b[1;32m    357\u001b[0m     )\n\u001b[1;32m    358\u001b[0m \u001b[38;5;28;01mexcept\u001b[39;00m MySQLInterfaceError \u001b[38;5;28;01mas\u001b[39;00m err:\n\u001b[1;32m    359\u001b[0m     \u001b[38;5;28;01mraise\u001b[39;00m get_mysql_exception(\n\u001b[1;32m    360\u001b[0m         msg\u001b[38;5;241m=\u001b[39merr\u001b[38;5;241m.\u001b[39mmsg, errno\u001b[38;5;241m=\u001b[39merr\u001b[38;5;241m.\u001b[39merrno, sqlstate\u001b[38;5;241m=\u001b[39merr\u001b[38;5;241m.\u001b[39msqlstate\n\u001b[1;32m    361\u001b[0m     ) \u001b[38;5;28;01mfrom\u001b[39;00m\u001b[38;5;250m \u001b[39m\u001b[38;5;21;01merr\u001b[39;00m\n",
      "File \u001b[0;32m~/Desktop/Mesa - MacBook Air de Laura/insper/quinto_semestre/megadados/md-bcc/.venv/lib/python3.12/site-packages/mysql/connector/opentelemetry/context_propagation.py:97\u001b[0m, in \u001b[0;36mwith_context_propagation.<locals>.wrapper\u001b[0;34m(cnx, *args, **kwargs)\u001b[0m\n\u001b[1;32m     95\u001b[0m \u001b[38;5;66;03m# pylint: disable=possibly-used-before-assignment\u001b[39;00m\n\u001b[1;32m     96\u001b[0m \u001b[38;5;28;01mif\u001b[39;00m \u001b[38;5;129;01mnot\u001b[39;00m OTEL_ENABLED \u001b[38;5;129;01mor\u001b[39;00m \u001b[38;5;129;01mnot\u001b[39;00m cnx\u001b[38;5;241m.\u001b[39motel_context_propagation:\n\u001b[0;32m---> 97\u001b[0m     \u001b[38;5;28;01mreturn\u001b[39;00m \u001b[43mmethod\u001b[49m\u001b[43m(\u001b[49m\u001b[43mcnx\u001b[49m\u001b[43m,\u001b[49m\u001b[43m \u001b[49m\u001b[38;5;241;43m*\u001b[39;49m\u001b[43margs\u001b[49m\u001b[43m,\u001b[49m\u001b[43m \u001b[49m\u001b[38;5;241;43m*\u001b[39;49m\u001b[38;5;241;43m*\u001b[39;49m\u001b[43mkwargs\u001b[49m\u001b[43m)\u001b[49m\n\u001b[1;32m     99\u001b[0m current_span \u001b[38;5;241m=\u001b[39m trace\u001b[38;5;241m.\u001b[39mget_current_span()\n\u001b[1;32m    100\u001b[0m tp_header \u001b[38;5;241m=\u001b[39m \u001b[38;5;28;01mNone\u001b[39;00m\n",
      "File \u001b[0;32m~/Desktop/Mesa - MacBook Air de Laura/insper/quinto_semestre/megadados/md-bcc/.venv/lib/python3.12/site-packages/mysql/connector/connection_cext.py:763\u001b[0m, in \u001b[0;36mCMySQLConnection.cmd_query\u001b[0;34m(self, query, raw, buffered, raw_as_string, **kwargs)\u001b[0m\n\u001b[1;32m    755\u001b[0m     \u001b[38;5;28mself\u001b[39m\u001b[38;5;241m.\u001b[39m_cmysql\u001b[38;5;241m.\u001b[39mquery(\n\u001b[1;32m    756\u001b[0m         query,\n\u001b[1;32m    757\u001b[0m         raw\u001b[38;5;241m=\u001b[39mraw,\n\u001b[0;32m   (...)\u001b[0m\n\u001b[1;32m    760\u001b[0m         query_attrs\u001b[38;5;241m=\u001b[39m\u001b[38;5;28mself\u001b[39m\u001b[38;5;241m.\u001b[39mquery_attrs,\n\u001b[1;32m    761\u001b[0m     )\n\u001b[1;32m    762\u001b[0m \u001b[38;5;28;01mexcept\u001b[39;00m MySQLInterfaceError \u001b[38;5;28;01mas\u001b[39;00m err:\n\u001b[0;32m--> 763\u001b[0m     \u001b[38;5;28;01mraise\u001b[39;00m get_mysql_exception(\n\u001b[1;32m    764\u001b[0m         err\u001b[38;5;241m.\u001b[39merrno, msg\u001b[38;5;241m=\u001b[39merr\u001b[38;5;241m.\u001b[39mmsg, sqlstate\u001b[38;5;241m=\u001b[39merr\u001b[38;5;241m.\u001b[39msqlstate\n\u001b[1;32m    765\u001b[0m     ) \u001b[38;5;28;01mfrom\u001b[39;00m\u001b[38;5;250m \u001b[39m\u001b[38;5;21;01merr\u001b[39;00m\n\u001b[1;32m    766\u001b[0m \u001b[38;5;28;01mexcept\u001b[39;00m \u001b[38;5;167;01mAttributeError\u001b[39;00m \u001b[38;5;28;01mas\u001b[39;00m err:\n\u001b[1;32m    767\u001b[0m     addr \u001b[38;5;241m=\u001b[39m (\n\u001b[1;32m    768\u001b[0m         \u001b[38;5;28mself\u001b[39m\u001b[38;5;241m.\u001b[39m_unix_socket \u001b[38;5;28;01mif\u001b[39;00m \u001b[38;5;28mself\u001b[39m\u001b[38;5;241m.\u001b[39m_unix_socket \u001b[38;5;28;01melse\u001b[39;00m \u001b[38;5;124mf\u001b[39m\u001b[38;5;124m\"\u001b[39m\u001b[38;5;132;01m{\u001b[39;00m\u001b[38;5;28mself\u001b[39m\u001b[38;5;241m.\u001b[39m_host\u001b[38;5;132;01m}\u001b[39;00m\u001b[38;5;124m:\u001b[39m\u001b[38;5;132;01m{\u001b[39;00m\u001b[38;5;28mself\u001b[39m\u001b[38;5;241m.\u001b[39m_port\u001b[38;5;132;01m}\u001b[39;00m\u001b[38;5;124m\"\u001b[39m\n\u001b[1;32m    769\u001b[0m     )\n",
      "\u001b[0;31mProgrammingError\u001b[0m: 1146 (42S02): Table 'torneio.equipe' doesn't exist"
     ]
    }
   ],
   "source": [
    "try:\n",
    "    with connection.cursor() as cursor:\n",
    "        # Outra opção aqui seria o uso de cursor.executemany()\n",
    "        for time, grito in times.items():\n",
    "            cursor.execute(\"INSERT INTO equipe VALUES (%s, %s)\", (time, grito))\n",
    "    connection.commit()\n",
    "except mysql.connector.IntegrityError as exception:\n",
    "    print(f\"IntegrityError: {exception}\")\n",
    "    connection.rollback()"
   ]
  },
  {
   "cell_type": "markdown",
   "metadata": {},
   "source": [
    "Note o comando ``commit`` acima: ele serve para efetivar a operação no banco de dados. Verifique no MySQL Workbench que a operação foi bem sucedida.\n",
    "\n",
    "**Atividade:** Perceba que desta vez não especificamos os nomes das colunas no `INSERT`. É necessário deixar claro os campos da tabela?"
   ]
  },
  {
   "cell_type": "markdown",
   "metadata": {},
   "source": [
    "<div class=\"alert alert-success\">\n",
    "\n",
    "Sua resposta aqui! Dê dois cliques e edite.\n",
    "    \n",
    "    Escreva AQUI!\n",
    "\n",
    "</div>"
   ]
  },
  {
   "cell_type": "markdown",
   "metadata": {},
   "source": [
    "Podemos tambem usar nossa conexão para verificar o estado da tabela ``equipe``:"
   ]
  },
  {
   "cell_type": "code",
   "execution_count": null,
   "metadata": {},
   "outputs": [],
   "source": [
    "with connection.cursor() as cursor:\n",
    "    cursor.execute(\"SELECT * FROM equipe\")\n",
    "    for item in cursor:\n",
    "        print(item)"
   ]
  },
  {
   "cell_type": "markdown",
   "metadata": {},
   "source": [
    "Podemos usar também nosso velho conhecido `pandas`!"
   ]
  },
  {
   "cell_type": "code",
   "execution_count": null,
   "metadata": {},
   "outputs": [],
   "source": [
    "import pandas as pd\n",
    "pd.read_sql_query(\"SELECT * FROM equipe\", connection)"
   ]
  },
  {
   "cell_type": "markdown",
   "metadata": {},
   "source": [
    "**Atividade:** Tente executar novamente a inserção de dados, o que acontece?"
   ]
  },
  {
   "cell_type": "markdown",
   "metadata": {},
   "source": [
    "<div class=\"alert alert-success\">\n",
    "\n",
    "Sua resposta aqui! Dê dois cliques e edite.\n",
    "    \n",
    "    Escreva AQUI!\n",
    "\n",
    "</div>"
   ]
  },
  {
   "cell_type": "markdown",
   "metadata": {},
   "source": [
    "## Interlúdio: sanitização de entradas de dados"
   ]
  },
  {
   "cell_type": "markdown",
   "metadata": {},
   "source": [
    "Por que usamos aqueles ``%s`` no comando a ser executado? Por que não simplesmente incluir diretamente os dados na *string* do comando SQL? Por exemplo:\n",
    "\n",
    "```Python\n",
    "cursor.execute(\"INSERT INTO equipe VALUES ('\" + time + \"', '\" + grito + \"')\")\n",
    "```"
   ]
  },
  {
   "cell_type": "markdown",
   "metadata": {},
   "source": [
    "Muitas vezes o resultado é o mesmo! Contudo, e SE executássemos a query abaixo..."
   ]
  },
  {
   "cell_type": "markdown",
   "metadata": {},
   "source": [
    "time = \"Robert', ''); DROP DATABASE torneio; -- \"\n",
    "grito = \"\"\n",
    "\n",
    "with connection.cursor() as cursor:\n",
    "    for result in cursor.execute(\n",
    "            \"INSERT INTO equipe VALUES ('\" + time + \"', '\" + grito + \"')\",\n",
    "            multi=True,\n",
    "    ):\n",
    "        print(result)\n",
    "    connection.commit()\n",
    "\n",
    "with connection.cursor() as cursor:\n",
    "    cursor.execute(\"SELECT * FROM equipe\")\n",
    "    for item in cursor:\n",
    "        print(item)\n",
    "\n",
    "connection.close()"
   ]
  },
  {
   "cell_type": "markdown",
   "metadata": {},
   "source": [
    "A célula acima está desabilitada. Mas se quiser executar passe para tipo \"Code\" e rode. Depois, garanta que a conexão está fechada com `connection.close()`, volte para o começo do notebook e rode tudo de novo exceto a célula mortal!\n",
    "\n",
    "![Little Bobby Tables](imgs/exploits_of_a_mom.png)\n",
    "\n",
    "[Exploits of a mom](https://xkcd.com/327/)\n",
    "\n",
    "\n",
    "Existem jeitos de quebrar o sistema com esse tipo de ataque, onde o hacker tenta inserir código SQL mal-intencionado em formulários, na expectativa de que o programador não tenha feito a sanitização das entradas. Esse ataque chama-se ***'SQL injection'***."
   ]
  },
  {
   "cell_type": "markdown",
   "metadata": {},
   "source": [
    "Fim do interlúdio, voltamos à apresentação principal.\n",
    "\n",
    "Vamos agora inserir os jogadores. Neste caso não precisamos inserir a chave primária, pois ela é gerada automaticamente. Consequentemente temos que especificar que estamos inserindo apenas as demais colunas - temos que nomear as colunas na qual estamos inserindo os dados."
   ]
  },
  {
   "cell_type": "code",
   "execution_count": null,
   "metadata": {},
   "outputs": [],
   "source": [
    "try:\n",
    "    with connection.cursor() as cursor:\n",
    "        cursor.executemany(\n",
    "            \"INSERT INTO jogador (nome, nome_equipe, preferencia) VALUES (%s, %s, %s)\",\n",
    "            jogadores)\n",
    "    connection.commit()\n",
    "except Exception as e:\n",
    "    print(e)\n",
    "    connection.rollback()"
   ]
  },
  {
   "cell_type": "markdown",
   "metadata": {},
   "source": [
    "Vamos verificar se funcionou. Para evitar ter criar os cursores a todo momento e coletar os resultados vamos construir uma classe auxiliar, só para simplificar o código:"
   ]
  },
  {
   "cell_type": "code",
   "execution_count": null,
   "metadata": {},
   "outputs": [],
   "source": [
    "class ConnectionHelper:\n",
    "\n",
    "    def __init__(self, connection):\n",
    "        self.connection = connection\n",
    "\n",
    "    def __call__(self, query, args=None):\n",
    "        with self.connection.cursor() as cursor:\n",
    "            print(\"Executando query:\")\n",
    "            cursor.execute(query, args)\n",
    "            for result in cursor:\n",
    "                print(result)"
   ]
  },
  {
   "cell_type": "code",
   "execution_count": null,
   "metadata": {},
   "outputs": [],
   "source": [
    "db = ConnectionHelper(connection)"
   ]
  },
  {
   "cell_type": "markdown",
   "metadata": {},
   "source": [
    "Note o padrão de *'dependency injection'* aqui: ao invés de criar a conexão dentro do construtor da classe ConnectionHelper, passamos um objeto 'connection' que será armazenado dentro do ConnectionHelper. Qualquer objeto 'connection' pode ser passado, de qualquer classe, desde que obedeça a interface (implícita) de um objeto de conexão ao banco de dados. Neste nosso caso, tem que ter o método `cursor()` que retorne um objeto de interação com a base de dados."
   ]
  },
  {
   "cell_type": "markdown",
   "metadata": {},
   "source": [
    "## Explorando a estrutura da base de dados\n",
    "\n",
    "Vamos ver quais tabelas existem na base ``torneio``:"
   ]
  },
  {
   "cell_type": "code",
   "execution_count": null,
   "metadata": {},
   "outputs": [],
   "source": [
    "db(\"SHOW TABLES\")"
   ]
  },
  {
   "cell_type": "markdown",
   "metadata": {},
   "source": [
    "Para saber qual o schema da tabela `jogador`, podemos usar o comando '`DESCRIBE`'"
   ]
  },
  {
   "cell_type": "code",
   "execution_count": null,
   "metadata": {
    "scrolled": true
   },
   "outputs": [],
   "source": [
    "db(\"DESCRIBE jogador\")"
   ]
  },
  {
   "cell_type": "markdown",
   "metadata": {},
   "source": [
    "## Consultando a base de dados\n",
    "\n",
    "Vamos usar o comando `SELECT` para listar os conteudos da tabela 'Jogador'"
   ]
  },
  {
   "cell_type": "code",
   "execution_count": null,
   "metadata": {},
   "outputs": [],
   "source": [
    "db(\"SELECT * FROM jogador\")"
   ]
  },
  {
   "cell_type": "markdown",
   "metadata": {},
   "source": [
    "O comando acima lista todos os registros da tabela `jogador`, com todas as colunas presentes:\n",
    "\n",
    "![Seleção da tabela inteira](imgs/tudo.png)\n",
    "\n",
    "Vamos agora selecionar apenas algumas colunas para exibir."
   ]
  },
  {
   "cell_type": "code",
   "execution_count": null,
   "metadata": {
    "scrolled": true
   },
   "outputs": [],
   "source": [
    "db(\"SELECT nome, nome_equipe FROM jogador\")"
   ]
  },
  {
   "cell_type": "markdown",
   "metadata": {},
   "source": [
    "Agora vemos apenas as colunas escolhidas.  A operação de seleção de colunas chama-se **projeção**.\n",
    "\n",
    "![Projeção](imgs/projecao.png)\n",
    "\n",
    "Vamos agora atuar na escolha de linhas, selecionando quais desejamos. Para escolher todas as linhas cujo `nome_equipe` começa com 'Rap' podemos executar a query a seguir:"
   ]
  },
  {
   "cell_type": "code",
   "execution_count": null,
   "metadata": {},
   "outputs": [],
   "source": [
    "db(\"SELECT * FROM jogador WHERE nome_equipe LIKE 'Rap%'\")"
   ]
  },
  {
   "cell_type": "markdown",
   "metadata": {},
   "source": [
    "Vemos apenas as linhas escolhidas. A operação de filtragem de linhas apropriadas chama-se ... **seleção**!!!\n",
    "\n",
    "![Seleção](imgs/selecao.png)\n",
    "\n",
    "Seleção e projeção são termos advindos da *álgebra relacional*, tópico que discutiremos em aulas futuras.\n",
    "\n",
    "O comando `SELECT` também pode ser usado para efetuar cálculos:"
   ]
  },
  {
   "cell_type": "code",
   "execution_count": null,
   "metadata": {},
   "outputs": [],
   "source": [
    "db(\"SELECT 1 + 1\")"
   ]
  },
  {
   "cell_type": "markdown",
   "metadata": {},
   "source": [
    "## Onde foram parar os dados?\n",
    "\n",
    "MySQL mantém um grande conjunto de variáveis globais para que possamos verificar o estado do sistema. Podemos consultar essas variáveis usando SQL! Afinal, se queremos armazenar informação (neste caso, sobre o próprio sistema), nada melhor que um SGBD!"
   ]
  },
  {
   "cell_type": "code",
   "execution_count": null,
   "metadata": {
    "tags": []
   },
   "outputs": [],
   "source": [
    "# db(\"SHOW VARIABLES\")"
   ]
  },
  {
   "cell_type": "markdown",
   "metadata": {},
   "source": [
    "Para descobrir o valor de uma variável específica, use a cláusula `WHERE`:"
   ]
  },
  {
   "cell_type": "code",
   "execution_count": null,
   "metadata": {},
   "outputs": [],
   "source": [
    "db(\"SHOW VARIABLES WHERE Variable_name = 'version'\")"
   ]
  },
  {
   "cell_type": "markdown",
   "metadata": {},
   "source": [
    "Para listar todas as variáveis com \"dir\" no nome:"
   ]
  },
  {
   "cell_type": "code",
   "execution_count": null,
   "metadata": {},
   "outputs": [],
   "source": [
    "db(\"SHOW VARIABLES WHERE Variable_name LIKE '%dir%'\")"
   ]
  },
  {
   "cell_type": "markdown",
   "metadata": {},
   "source": [
    "Observe a variável `datadir`: ela contém o diretório onde o MySQL armazena nossos dados. Por exemplo no Windows: `C:\\ProgramData\\MySQL\\MySQL Server 8.0\\Data\\`\n",
    "\n",
    "<center><img src='imgs/datadir.png'/></center>\n",
    "\n",
    "Note que esse diretório também tem várias chaves criptográficas! Uma vez que o acesso físico ao seu servidor for comprometido, você pode perder completamente o controle, pois o invasor agora tem até mesmo as chaves de acesso!\n",
    "\n",
    "Dentro do diretório `torneio` temos nossa base de dados no disco:\n",
    "\n",
    "<center><img src='imgs/torneio.png'/></center>\n"
   ]
  },
  {
   "cell_type": "markdown",
   "metadata": {},
   "source": [
    "## Carregando dados em massa\n",
    "\n",
    "Se você tem um arquivo com vários itens de dados, o melhor jeito de inserí-los no banco de dados é usar os comandos de carga de dados do seu SGBD preferido. No MySQL, veja a documentação do comando `LOAD DATA` em https://dev.mysql.com/doc/refman/8.0/en/load-data.html\n",
    "\n",
    "Daqui para frente acostume-se a consultar a documentação de todo novo comando que você descobrir!\n",
    "\n",
    "# `UPDATE`\n",
    "\n",
    "Vamos alterar informações na nossa base. Para isso vamos usar o comando `UPDATE`. \n",
    "\n",
    "Suponha que desejamos alterar o grito de guerra da equipe \"Raposas Nerds\" de 'sudo vencer!' para 'sudo vencer --force!':"
   ]
  },
  {
   "cell_type": "code",
   "execution_count": null,
   "metadata": {},
   "outputs": [],
   "source": [
    "db(\"UPDATE equipe SET grito='sudo vencer --force!' WHERE nome='Raposas Nerds'\")"
   ]
  },
  {
   "cell_type": "markdown",
   "metadata": {},
   "source": [
    "Verificando o resultado:"
   ]
  },
  {
   "cell_type": "code",
   "execution_count": null,
   "metadata": {},
   "outputs": [],
   "source": [
    "db(\"SELECT * from equipe\")"
   ]
  },
  {
   "cell_type": "markdown",
   "metadata": {},
   "source": [
    "**Atividade:** Passe o \"Rafael Montaigner\" para o time \"É nois\"."
   ]
  },
  {
   "cell_type": "code",
   "execution_count": null,
   "metadata": {},
   "outputs": [],
   "source": [
    "db(\"SELECT * FROM jogador\")"
   ]
  },
  {
   "cell_type": "code",
   "execution_count": null,
   "metadata": {},
   "outputs": [],
   "source": [
    "# Responda aqui!\n",
    "db(\"-- Sua Query AQUI!\")"
   ]
  },
  {
   "cell_type": "code",
   "execution_count": null,
   "metadata": {},
   "outputs": [],
   "source": [
    "db(\"SELECT * FROM jogador\")"
   ]
  },
  {
   "cell_type": "markdown",
   "metadata": {},
   "source": [
    "**Atividade:** Tente mudar o nome de \"Andrew Ikeda\" para \"Andrew Gomes da Silva\". O que aconteceu?"
   ]
  },
  {
   "cell_type": "code",
   "execution_count": null,
   "metadata": {},
   "outputs": [],
   "source": [
    "# Responda aqui!\n",
    "db(\"-- Sua Query AQUI!\")"
   ]
  },
  {
   "cell_type": "code",
   "execution_count": null,
   "metadata": {},
   "outputs": [],
   "source": [
    "db(\"SELECT * FROM jogador\")"
   ]
  },
  {
   "cell_type": "markdown",
   "metadata": {},
   "source": [
    "**Atividade:** Tente agora mudar o nome do time \"É nois\" para \"Somos nos\". O que aconteceu?"
   ]
  },
  {
   "cell_type": "code",
   "execution_count": null,
   "metadata": {},
   "outputs": [],
   "source": [
    "# Responda aqui!\n",
    "db(\"-- Sua Query AQUI!\")"
   ]
  },
  {
   "cell_type": "code",
   "execution_count": null,
   "metadata": {},
   "outputs": [],
   "source": [
    "db(\"SELECT * FROM equipe\")"
   ]
  },
  {
   "cell_type": "markdown",
   "metadata": {},
   "source": [
    "## `COMMIT` e `ROLLBACK`\n",
    "\n",
    "Note que as ultimas atividades (de `UPDATE`) foram feitas sem executar `connection.commit()`. Neste caso todas as modificações realizadas ainda não foram registradas no banco de dados! Estas mudanças existem apenas na nossa *sessão*. Vamos verificar esse fenômeno. Primeiro vamos ver o estado das nossas tabelas:"
   ]
  },
  {
   "cell_type": "code",
   "execution_count": null,
   "metadata": {},
   "outputs": [],
   "source": [
    "db(\"SELECT * FROM jogador\")"
   ]
  },
  {
   "cell_type": "code",
   "execution_count": null,
   "metadata": {},
   "outputs": [],
   "source": [
    "db(\"SELECT * FROM equipe\")"
   ]
  },
  {
   "cell_type": "markdown",
   "metadata": {},
   "source": [
    "Agora vamos verificar o estado do banco de dados lá no MySQL Workbench:\n",
    "\n",
    "<center><img src='imgs/equipes.png'/></center>\n",
    "\n",
    "<center><img src='imgs/jogadores.png'/></center>\n",
    "\n",
    "Está diferente! Isso acontece porque as mudanças da nossa sessão ainda não foram *committed*, não foram registradas em definitivo. Para registrar as mudanças você pode executar o comando `connection.commit()`, ou equivalentemente rodar o comando SQL `COMMIT`. Se você se arrependeu das mudanças realizadas na sessão, jogue elas fora com o comando `connection.rollback()` ou equivalentemente o comando SQL `ROLLBACK`.\n",
    "\n",
    "Vamos então concretizar nossas mudanças:"
   ]
  },
  {
   "cell_type": "code",
   "execution_count": null,
   "metadata": {},
   "outputs": [],
   "source": [
    "connection.commit()\n",
    "# ou então db(\"COMMIT\"), é a mesma coisa."
   ]
  },
  {
   "cell_type": "markdown",
   "metadata": {},
   "source": [
    "Agora vamos verificar lá no MySQL Workbench:\n",
    "\n",
    "<center><img src='imgs/equipes2.png'/></center>\n",
    "\n",
    "<center><img src='imgs/jogadores2.png'/></center>"
   ]
  },
  {
   "cell_type": "markdown",
   "metadata": {},
   "source": [
    "Podemos constatar que as mudanças feitas na nossa sessão agora são visíveis na outra sessão (a do MySQL Workbench). Vamos revisitar futuramente os comandos `COMMIT` e `ROLLBACK` na aula de transações SQL."
   ]
  },
  {
   "cell_type": "markdown",
   "metadata": {},
   "source": [
    "## `DELETE`"
   ]
  },
  {
   "cell_type": "markdown",
   "metadata": {},
   "source": [
    "Vamos remover o 'Fábio Kurauchi' da tabela `jogador`"
   ]
  },
  {
   "cell_type": "code",
   "execution_count": null,
   "metadata": {},
   "outputs": [],
   "source": [
    "try:\n",
    "    db(\"DELETE FROM jogador WHERE nome='Fábio Kurauchi'\")\n",
    "    connection.commit()\n",
    "except Exception as e:\n",
    "    print(f\"{type(e)}: {e}\")\n",
    "    connection.rollback()"
   ]
  },
  {
   "cell_type": "markdown",
   "metadata": {},
   "source": [
    "Verificando o resultado:"
   ]
  },
  {
   "cell_type": "code",
   "execution_count": null,
   "metadata": {},
   "outputs": [],
   "source": [
    "db(\"SELECT * FROM jogador\")"
   ]
  },
  {
   "cell_type": "markdown",
   "metadata": {},
   "source": [
    "**Atividade:** Remova da tabela de jogadores todos aqueles que preferem jogar cowboy."
   ]
  },
  {
   "cell_type": "code",
   "execution_count": null,
   "metadata": {},
   "outputs": [],
   "source": [
    "# Responda aqui!\n",
    "db(\"-- Sua Query AQUI!\")"
   ]
  },
  {
   "cell_type": "code",
   "execution_count": null,
   "metadata": {},
   "outputs": [],
   "source": [
    "db(\"SELECT * FROM jogador\")"
   ]
  },
  {
   "cell_type": "markdown",
   "metadata": {},
   "source": [
    "Agora vamos tentar remover o time 'É nois':"
   ]
  },
  {
   "cell_type": "code",
   "execution_count": null,
   "metadata": {},
   "outputs": [],
   "source": [
    "try:\n",
    "    db(\"DELETE FROM equipe WHERE nome='É nois'\")\n",
    "    connection.commit()\n",
    "except Exception as e:\n",
    "    print(f\"{type(e)}: {e}\")\n",
    "    connection.rollback()"
   ]
  },
  {
   "cell_type": "markdown",
   "metadata": {},
   "source": [
    "Novamente o malfadado erro `IntegrityError`. Isso acontece porque o SGBD está fazendo exatamente o que você pediu: garantindo a integridade dos dados! Afinal, se removermos a equipe `'É nois'`, o que fazemos com as linhas da tabela-filha que referenciam esse registro?\n",
    "\n",
    "A restrição de chave estrangeira no nome da equipe (em `script_001.sql` ela foi chamada de `fk_equipe`) especifica, implicitamente, que a ação de apagar um registro deve ser bloqueada se impactar tabelas filhas. Podemos mudar essa restrição.\n",
    "\n",
    "## `ON UPDATE / ON DELETE`\n",
    "\n",
    "Vamos reescrever a restrição de chave estrangeira. Copie o script a seguir para `script_002.sql`.\n",
    "\n",
    "```mysql\n",
    "USE torneio;\n",
    "\n",
    "ALTER TABLE jogador\n",
    "    DROP FOREIGN KEY fk_equipe;\n",
    "\n",
    "ALTER TABLE jogador\n",
    "    ADD CONSTRAINT fk_equipe FOREIGN KEY (nome_equipe) REFERENCES equipe (nome)\n",
    "    ON DELETE CASCADE\n",
    "    ON UPDATE CASCADE;\n",
    "\n",
    "```"
   ]
  },
  {
   "cell_type": "markdown",
   "metadata": {},
   "source": [
    "Feche a conexão atual com o banco de dados: ela está bloqueando alterações no schema. Não se esqueça de efetivar as modificações passadas com `commit()`, se elas não foram *committed* até o momento:"
   ]
  },
  {
   "cell_type": "code",
   "execution_count": null,
   "metadata": {},
   "outputs": [],
   "source": [
    "connection.commit()\n",
    "connection.close()"
   ]
  },
  {
   "cell_type": "markdown",
   "metadata": {},
   "source": [
    "Agora rode `script_002.sql` no MySQL Workbench. Se tudo deu certo você deve observar a mudança de ação na restrição de chave estrageira:\n",
    "\n",
    "<center><img src='imgs/cascade.png'/></center>\n",
    "\n",
    "Reabra a conexão e recrie o *helper*"
   ]
  },
  {
   "cell_type": "code",
   "execution_count": null,
   "metadata": {},
   "outputs": [],
   "source": [
    "connection = mysql.connector.connect(**connection_options)\n",
    "db = ConnectionHelper(connection)"
   ]
  },
  {
   "cell_type": "markdown",
   "metadata": {},
   "source": [
    "Vamos agora tentar mudar o nome da equipe 'É nois' para 'Somos nós':"
   ]
  },
  {
   "cell_type": "code",
   "execution_count": null,
   "metadata": {},
   "outputs": [],
   "source": [
    "db(\"UPDATE equipe SET nome='Somos nós' WHERE nome='É nois'\")"
   ]
  },
  {
   "cell_type": "markdown",
   "metadata": {},
   "source": [
    "Verificando o resultado:"
   ]
  },
  {
   "cell_type": "code",
   "execution_count": null,
   "metadata": {},
   "outputs": [],
   "source": [
    "db(\"SELECT * from equipe\")"
   ]
  },
  {
   "cell_type": "markdown",
   "metadata": {},
   "source": [
    "Vamos verificar o que aconteceu com a tabela `jogador`"
   ]
  },
  {
   "cell_type": "code",
   "execution_count": null,
   "metadata": {},
   "outputs": [],
   "source": [
    "db(\"SELECT * FROM jogador\")"
   ]
  },
  {
   "cell_type": "markdown",
   "metadata": {},
   "source": [
    "Como você pode ver, a mudança de nome foi devidamente propagada, cortesia do `ON UPDATE CASCADE`.\n",
    "\n",
    "Já o `ON DELETE CASCADE` é mais bruto. Vamos remover o time 'Somos nós':"
   ]
  },
  {
   "cell_type": "code",
   "execution_count": null,
   "metadata": {},
   "outputs": [],
   "source": [
    "db(\"DELETE FROM equipe WHERE nome='Somos nós'\")"
   ]
  },
  {
   "cell_type": "code",
   "execution_count": null,
   "metadata": {},
   "outputs": [],
   "source": [
    "db(\"SELECT * from equipe\")"
   ]
  },
  {
   "cell_type": "markdown",
   "metadata": {},
   "source": [
    "Ok. E os jogadores?"
   ]
  },
  {
   "cell_type": "code",
   "execution_count": null,
   "metadata": {},
   "outputs": [],
   "source": [
    "db(\"SELECT * FROM jogador\")"
   ]
  },
  {
   "cell_type": "markdown",
   "metadata": {},
   "source": [
    "A ação `CASCADE` associada ao evento `ON DELETE` acabou por limpar a tabela `jogador` tambem.\n",
    "\n",
    "Vamos cancelar todas essas ações com o comando `rollback()`, que é o oposto de `commit()`"
   ]
  },
  {
   "cell_type": "code",
   "execution_count": null,
   "metadata": {},
   "outputs": [],
   "source": [
    "connection.rollback()"
   ]
  },
  {
   "cell_type": "markdown",
   "metadata": {},
   "source": [
    "Verificando se deu certo:"
   ]
  },
  {
   "cell_type": "code",
   "execution_count": null,
   "metadata": {},
   "outputs": [],
   "source": [
    "db(\"SELECT * FROM jogador\")"
   ]
  },
  {
   "cell_type": "markdown",
   "metadata": {},
   "source": [
    "**Atividade:** Alem de `CASCADE` e `RESTRICT` existem outros especificadores de ação. Ache a URL da documentação que mostra essas opções."
   ]
  },
  {
   "cell_type": "markdown",
   "metadata": {},
   "source": [
    "<div class=\"alert alert-success\">\n",
    "\n",
    "Sua resposta aqui! Dê dois cliques e edite.\n",
    "    \n",
    "    Escreva AQUI!\n",
    "\n",
    "</div>"
   ]
  },
  {
   "cell_type": "markdown",
   "metadata": {},
   "source": [
    "## `REPLACE` = `DELETE` + `INSERT`\n",
    "\n",
    "O comando `REPLACE` lembra um pouco o comando `UPDATE`, e é aí que mora o perigo! `REPLACE` é na verdade uma combinação de `DELETE` seguido de `INSERT`. Vamos exemplificar: suponha que eu quero atualizar o grito do time 'É nois' para 'Vai dar ruim!', mas ao invés de usar o `UPDATE` resolvi usar o `REPLACE`:"
   ]
  },
  {
   "cell_type": "code",
   "execution_count": null,
   "metadata": {},
   "outputs": [],
   "source": [
    "db(\"SELECT * from equipe\")\n",
    "db(\"SELECT * from jogador\")"
   ]
  },
  {
   "cell_type": "code",
   "execution_count": null,
   "metadata": {},
   "outputs": [],
   "source": [
    "db(\"REPLACE INTO equipe VALUES ('É nois', 'Vai dar ruim!')\")"
   ]
  },
  {
   "cell_type": "code",
   "execution_count": null,
   "metadata": {},
   "outputs": [],
   "source": [
    "db(\"SELECT * from equipe\")"
   ]
  },
  {
   "cell_type": "code",
   "execution_count": null,
   "metadata": {},
   "outputs": [],
   "source": [
    "db(\"SELECT * from jogador\")"
   ]
  },
  {
   "cell_type": "markdown",
   "metadata": {},
   "source": [
    "Aparentemente deu ruim!\n",
    "\n",
    "**Atividade:** Explique"
   ]
  },
  {
   "cell_type": "markdown",
   "metadata": {},
   "source": [
    "<div class=\"alert alert-success\">\n",
    "\n",
    "Sua resposta aqui! Dê dois cliques e edite.\n",
    "    \n",
    "    Escreva AQUI!\n",
    "\n",
    "</div>"
   ]
  },
  {
   "cell_type": "markdown",
   "metadata": {},
   "source": [
    "Ufa, por hoje é só! Feche a conexão e até a próxima aula!"
   ]
  },
  {
   "cell_type": "code",
   "execution_count": null,
   "metadata": {},
   "outputs": [],
   "source": [
    "connection.rollback()\n",
    "connection.close()"
   ]
  },
  {
   "cell_type": "markdown",
   "metadata": {},
   "source": [
    "## Atividade para prática de DML\n",
    "\n",
    "Faça a atividade para prática de DML.\n",
    "\n",
    "### Conferindo a API de Autograding\n",
    "\n",
    "#### Tarefas e Notas\n",
    "Vamos conferir as tarefas e notas"
   ]
  },
  {
   "cell_type": "code",
   "execution_count": 114,
   "metadata": {
    "scrolled": true
   },
   "outputs": [
    {
     "data": {
      "text/markdown": [
       "|    | Atividade    | De                  | Até                 |\n",
       "|---:|:-------------|:--------------------|:--------------------|\n",
       "|  0 | newborn      | 2025-02-01 00:00:00 | 2025-05-30 00:00:00 |\n",
       "|  1 | select01     | 2025-02-06 16:00:00 | 2025-02-15 23:59:59 |\n",
       "|  2 | ddl          | 2025-02-20 00:00:00 | 2025-02-27 23:59:59 |\n",
       "|  3 | dml          | 2025-02-24 00:00:00 | 2025-03-06 15:45:59 |\n",
       "|  4 | agg_join     | 2025-02-26 00:00:00 | 2025-03-09 23:59:59 |\n",
       "|  5 | group_having | 2025-03-06 00:00:00 | 2025-03-13 23:59:59 |"
      ],
      "text/plain": [
       "<IPython.core.display.Markdown object>"
      ]
     },
     "metadata": {},
     "output_type": "display_data"
    }
   ],
   "source": [
    "ia.tasks()"
   ]
  },
  {
   "cell_type": "code",
   "execution_count": 115,
   "metadata": {},
   "outputs": [
    {
     "data": {
      "text/markdown": [
       "|    | Atividade   | Exercício   |   Peso |   Nota |\n",
       "|---:|:------------|:------------|-------:|-------:|\n",
       "|  0 | dml         | ex01        |      1 |     10 |\n",
       "|  1 | dml         | ex02        |      1 |     10 |\n",
       "|  2 | dml         | ex03        |      1 |     10 |\n",
       "|  3 | dml         | ex04        |      1 |     10 |\n",
       "|  4 | dml         | ex05        |      1 |      0 |\n",
       "|  5 | dml         | ex06        |      1 |      0 |"
      ],
      "text/plain": [
       "<IPython.core.display.Markdown object>"
      ]
     },
     "metadata": {},
     "output_type": "display_data"
    }
   ],
   "source": [
    "ia.grades(task=\"dml\")"
   ]
  },
  {
   "cell_type": "code",
   "execution_count": 116,
   "metadata": {},
   "outputs": [
    {
     "data": {
      "text/markdown": [
       "|    | Tarefa       |   Nota |\n",
       "|---:|:-------------|-------:|\n",
       "|  0 | agg_join     |   0    |\n",
       "|  1 | ddl          |  10    |\n",
       "|  2 | dml          |   6.67 |\n",
       "|  3 | group_having |   0    |\n",
       "|  4 | newborn      |  10    |\n",
       "|  5 | select01     |  10    |"
      ],
      "text/plain": [
       "<IPython.core.display.Markdown object>"
      ]
     },
     "metadata": {},
     "output_type": "display_data"
    }
   ],
   "source": [
    "ia.grades(by=\"TASK\")"
   ]
  },
  {
   "cell_type": "markdown",
   "metadata": {},
   "source": [
    "### Criar Base de Dados\n",
    "\n",
    "Vamos começar pela criação da base de dados. Ela deverá se chamar `vendinha`.\n",
    "\n",
    "<img src=\"imgs/vendinha.png\">\n",
    "\n",
    "<div class=\"alert alert-info\">\n",
    "\n",
    "Execute no workbench o script `vendinha.sql` disponibilizado pelo professor.\n",
    "    \n",
    "</div>"
   ]
  },
  {
   "cell_type": "code",
   "execution_count": 127,
   "metadata": {},
   "outputs": [],
   "source": [
    "connection_options_atv = {\n",
    "    \"host\": os.getenv(\"MD_DB_SERVER\"),\n",
    "    \"user\": os.getenv(\"MD_DB_USERNAME\"),\n",
    "    \"password\": os.getenv(\"MD_DB_PASSWORD\"),\n",
    "    \"database\": \"vendinha\"\n",
    "}\n",
    "\n",
    "connection_atv = mysql.connector.connect(**connection_options_atv)\n",
    "\n",
    "db_atv = ConnectionHelper(connection_atv)"
   ]
  },
  {
   "cell_type": "markdown",
   "metadata": {},
   "source": [
    "**Exercício 1**: Faça uma query para inserir a região `\"N\"` com descrição `\"Norte\"` na tabela `regiao`."
   ]
  },
  {
   "cell_type": "markdown",
   "metadata": {},
   "source": [
    "<div class=\"alert alert-info\">\n",
    "\n",
    "**DICA:**\n",
    "    \n",
    "Agora que temos a função `db` para conexão com o banco, podemos testar nossas queries aqui mesmo no notebook, alternando comandos de **DML** com `SELECT` para conferir o resultado.\n",
    "</div>"
   ]
  },
  {
   "cell_type": "code",
   "execution_count": 118,
   "metadata": {},
   "outputs": [
    {
     "name": "stdout",
     "output_type": "stream",
     "text": [
      "Executando query:\n",
      "('CO', 'Centro-Oeste')\n",
      "('N', 'Norte')\n",
      "('NE', 'Nordeste')\n",
      "('S', 'Sul')\n",
      "('SE', 'Sudeste')\n"
     ]
    }
   ],
   "source": [
    "# Deixa eu ver como está\n",
    "db_atv(\"SELECT * FROM regiao\")"
   ]
  },
  {
   "cell_type": "code",
   "execution_count": 119,
   "metadata": {},
   "outputs": [
    {
     "name": "stdout",
     "output_type": "stream",
     "text": [
      "Executando query:\n"
     ]
    },
    {
     "ename": "IntegrityError",
     "evalue": "1062 (23000): Duplicate entry 'N' for key 'regiao.PRIMARY'",
     "output_type": "error",
     "traceback": [
      "\u001b[0;31m---------------------------------------------------------------------------\u001b[0m",
      "\u001b[0;31mMySQLInterfaceError\u001b[0m                       Traceback (most recent call last)",
      "File \u001b[0;32m~/Desktop/Mesa - MacBook Air de Laura/insper/quinto_semestre/megadados/md-bcc/.venv/lib/python3.12/site-packages/mysql/connector/connection_cext.py:755\u001b[0m, in \u001b[0;36mCMySQLConnection.cmd_query\u001b[0;34m(self, query, raw, buffered, raw_as_string, **kwargs)\u001b[0m\n\u001b[1;32m    754\u001b[0m         query \u001b[38;5;241m=\u001b[39m query\u001b[38;5;241m.\u001b[39mencode(\u001b[38;5;124m\"\u001b[39m\u001b[38;5;124mutf-8\u001b[39m\u001b[38;5;124m\"\u001b[39m)\n\u001b[0;32m--> 755\u001b[0m     \u001b[38;5;28;43mself\u001b[39;49m\u001b[38;5;241;43m.\u001b[39;49m\u001b[43m_cmysql\u001b[49m\u001b[38;5;241;43m.\u001b[39;49m\u001b[43mquery\u001b[49m\u001b[43m(\u001b[49m\n\u001b[1;32m    756\u001b[0m \u001b[43m        \u001b[49m\u001b[43mquery\u001b[49m\u001b[43m,\u001b[49m\n\u001b[1;32m    757\u001b[0m \u001b[43m        \u001b[49m\u001b[43mraw\u001b[49m\u001b[38;5;241;43m=\u001b[39;49m\u001b[43mraw\u001b[49m\u001b[43m,\u001b[49m\n\u001b[1;32m    758\u001b[0m \u001b[43m        \u001b[49m\u001b[43mbuffered\u001b[49m\u001b[38;5;241;43m=\u001b[39;49m\u001b[43mbuffered\u001b[49m\u001b[43m,\u001b[49m\n\u001b[1;32m    759\u001b[0m \u001b[43m        \u001b[49m\u001b[43mraw_as_string\u001b[49m\u001b[38;5;241;43m=\u001b[39;49m\u001b[43mraw_as_string\u001b[49m\u001b[43m,\u001b[49m\n\u001b[1;32m    760\u001b[0m \u001b[43m        \u001b[49m\u001b[43mquery_attrs\u001b[49m\u001b[38;5;241;43m=\u001b[39;49m\u001b[38;5;28;43mself\u001b[39;49m\u001b[38;5;241;43m.\u001b[39;49m\u001b[43mquery_attrs\u001b[49m\u001b[43m,\u001b[49m\n\u001b[1;32m    761\u001b[0m \u001b[43m    \u001b[49m\u001b[43m)\u001b[49m\n\u001b[1;32m    762\u001b[0m \u001b[38;5;28;01mexcept\u001b[39;00m MySQLInterfaceError \u001b[38;5;28;01mas\u001b[39;00m err:\n",
      "\u001b[0;31mMySQLInterfaceError\u001b[0m: Duplicate entry 'N' for key 'regiao.PRIMARY'",
      "\nThe above exception was the direct cause of the following exception:\n",
      "\u001b[0;31mIntegrityError\u001b[0m                            Traceback (most recent call last)",
      "Cell \u001b[0;32mIn[119], line 7\u001b[0m\n\u001b[1;32m      1\u001b[0m \u001b[38;5;66;03m# Agora deixa eu responder a questão\u001b[39;00m\n\u001b[1;32m      2\u001b[0m sql_ex01 \u001b[38;5;241m=\u001b[39m \u001b[38;5;124m\"\"\"\u001b[39m\n\u001b[1;32m      3\u001b[0m \u001b[38;5;124mINSERT INTO regiao (regiao, descricao) \u001b[39m\n\u001b[1;32m      4\u001b[0m \u001b[38;5;124mVALUES (\u001b[39m\u001b[38;5;124m'\u001b[39m\u001b[38;5;124mN\u001b[39m\u001b[38;5;124m'\u001b[39m\u001b[38;5;124m, \u001b[39m\u001b[38;5;124m'\u001b[39m\u001b[38;5;124mNorte\u001b[39m\u001b[38;5;124m'\u001b[39m\u001b[38;5;124m);\u001b[39m\n\u001b[1;32m      5\u001b[0m \u001b[38;5;124m\"\"\"\u001b[39m\n\u001b[0;32m----> 7\u001b[0m \u001b[43mdb_atv\u001b[49m\u001b[43m(\u001b[49m\u001b[43msql_ex01\u001b[49m\u001b[43m)\u001b[49m\n",
      "Cell \u001b[0;32mIn[55], line 9\u001b[0m, in \u001b[0;36mConnectionHelper.__call__\u001b[0;34m(self, query, args)\u001b[0m\n\u001b[1;32m      7\u001b[0m \u001b[38;5;28;01mwith\u001b[39;00m \u001b[38;5;28mself\u001b[39m\u001b[38;5;241m.\u001b[39mconnection\u001b[38;5;241m.\u001b[39mcursor() \u001b[38;5;28;01mas\u001b[39;00m cursor:\n\u001b[1;32m      8\u001b[0m     \u001b[38;5;28mprint\u001b[39m(\u001b[38;5;124m\"\u001b[39m\u001b[38;5;124mExecutando query:\u001b[39m\u001b[38;5;124m\"\u001b[39m)\n\u001b[0;32m----> 9\u001b[0m     \u001b[43mcursor\u001b[49m\u001b[38;5;241;43m.\u001b[39;49m\u001b[43mexecute\u001b[49m\u001b[43m(\u001b[49m\u001b[43mquery\u001b[49m\u001b[43m,\u001b[49m\u001b[43m \u001b[49m\u001b[43margs\u001b[49m\u001b[43m)\u001b[49m\n\u001b[1;32m     10\u001b[0m     \u001b[38;5;28;01mfor\u001b[39;00m result \u001b[38;5;129;01min\u001b[39;00m cursor:\n\u001b[1;32m     11\u001b[0m         \u001b[38;5;28mprint\u001b[39m(result)\n",
      "File \u001b[0;32m~/Desktop/Mesa - MacBook Air de Laura/insper/quinto_semestre/megadados/md-bcc/.venv/lib/python3.12/site-packages/mysql/connector/cursor_cext.py:351\u001b[0m, in \u001b[0;36mCMySQLCursor.execute\u001b[0;34m(self, operation, params, map_results)\u001b[0m\n\u001b[1;32m    343\u001b[0m \u001b[38;5;28mself\u001b[39m\u001b[38;5;241m.\u001b[39m_executed \u001b[38;5;241m=\u001b[39m (\n\u001b[1;32m    344\u001b[0m     \u001b[38;5;28mself\u001b[39m\u001b[38;5;241m.\u001b[39m_stmt_partition[\u001b[38;5;124m\"\u001b[39m\u001b[38;5;124msingle_stmts\u001b[39m\u001b[38;5;124m\"\u001b[39m]\u001b[38;5;241m.\u001b[39mpopleft()\n\u001b[1;32m    345\u001b[0m     \u001b[38;5;28;01mif\u001b[39;00m map_results\n\u001b[1;32m    346\u001b[0m     \u001b[38;5;28;01melse\u001b[39;00m \u001b[38;5;28mself\u001b[39m\u001b[38;5;241m.\u001b[39m_stmt_partition[\u001b[38;5;124m\"\u001b[39m\u001b[38;5;124mmappable_stmt\u001b[39m\u001b[38;5;124m\"\u001b[39m]\n\u001b[1;32m    347\u001b[0m )\n\u001b[1;32m    349\u001b[0m \u001b[38;5;28;01mtry\u001b[39;00m:\n\u001b[1;32m    350\u001b[0m     \u001b[38;5;28mself\u001b[39m\u001b[38;5;241m.\u001b[39m_handle_result(\n\u001b[0;32m--> 351\u001b[0m         \u001b[38;5;28;43mself\u001b[39;49m\u001b[38;5;241;43m.\u001b[39;49m\u001b[43m_connection\u001b[49m\u001b[38;5;241;43m.\u001b[39;49m\u001b[43mcmd_query\u001b[49m\u001b[43m(\u001b[49m\n\u001b[1;32m    352\u001b[0m \u001b[43m            \u001b[49m\u001b[38;5;28;43mself\u001b[39;49m\u001b[38;5;241;43m.\u001b[39;49m\u001b[43m_stmt_partition\u001b[49m\u001b[43m[\u001b[49m\u001b[38;5;124;43m\"\u001b[39;49m\u001b[38;5;124;43mmappable_stmt\u001b[39;49m\u001b[38;5;124;43m\"\u001b[39;49m\u001b[43m]\u001b[49m\u001b[43m,\u001b[49m\n\u001b[1;32m    353\u001b[0m \u001b[43m            \u001b[49m\u001b[43mraw\u001b[49m\u001b[38;5;241;43m=\u001b[39;49m\u001b[38;5;28;43mself\u001b[39;49m\u001b[38;5;241;43m.\u001b[39;49m\u001b[43m_raw\u001b[49m\u001b[43m,\u001b[49m\n\u001b[1;32m    354\u001b[0m \u001b[43m            \u001b[49m\u001b[43mbuffered\u001b[49m\u001b[38;5;241;43m=\u001b[39;49m\u001b[38;5;28;43mself\u001b[39;49m\u001b[38;5;241;43m.\u001b[39;49m\u001b[43m_buffered\u001b[49m\u001b[43m,\u001b[49m\n\u001b[1;32m    355\u001b[0m \u001b[43m            \u001b[49m\u001b[43mraw_as_string\u001b[49m\u001b[38;5;241;43m=\u001b[39;49m\u001b[38;5;28;43mself\u001b[39;49m\u001b[38;5;241;43m.\u001b[39;49m\u001b[43m_raw_as_string\u001b[49m\u001b[43m,\u001b[49m\n\u001b[1;32m    356\u001b[0m \u001b[43m        \u001b[49m\u001b[43m)\u001b[49m\n\u001b[1;32m    357\u001b[0m     )\n\u001b[1;32m    358\u001b[0m \u001b[38;5;28;01mexcept\u001b[39;00m MySQLInterfaceError \u001b[38;5;28;01mas\u001b[39;00m err:\n\u001b[1;32m    359\u001b[0m     \u001b[38;5;28;01mraise\u001b[39;00m get_mysql_exception(\n\u001b[1;32m    360\u001b[0m         msg\u001b[38;5;241m=\u001b[39merr\u001b[38;5;241m.\u001b[39mmsg, errno\u001b[38;5;241m=\u001b[39merr\u001b[38;5;241m.\u001b[39merrno, sqlstate\u001b[38;5;241m=\u001b[39merr\u001b[38;5;241m.\u001b[39msqlstate\n\u001b[1;32m    361\u001b[0m     ) \u001b[38;5;28;01mfrom\u001b[39;00m\u001b[38;5;250m \u001b[39m\u001b[38;5;21;01merr\u001b[39;00m\n",
      "File \u001b[0;32m~/Desktop/Mesa - MacBook Air de Laura/insper/quinto_semestre/megadados/md-bcc/.venv/lib/python3.12/site-packages/mysql/connector/opentelemetry/context_propagation.py:97\u001b[0m, in \u001b[0;36mwith_context_propagation.<locals>.wrapper\u001b[0;34m(cnx, *args, **kwargs)\u001b[0m\n\u001b[1;32m     95\u001b[0m \u001b[38;5;66;03m# pylint: disable=possibly-used-before-assignment\u001b[39;00m\n\u001b[1;32m     96\u001b[0m \u001b[38;5;28;01mif\u001b[39;00m \u001b[38;5;129;01mnot\u001b[39;00m OTEL_ENABLED \u001b[38;5;129;01mor\u001b[39;00m \u001b[38;5;129;01mnot\u001b[39;00m cnx\u001b[38;5;241m.\u001b[39motel_context_propagation:\n\u001b[0;32m---> 97\u001b[0m     \u001b[38;5;28;01mreturn\u001b[39;00m \u001b[43mmethod\u001b[49m\u001b[43m(\u001b[49m\u001b[43mcnx\u001b[49m\u001b[43m,\u001b[49m\u001b[43m \u001b[49m\u001b[38;5;241;43m*\u001b[39;49m\u001b[43margs\u001b[49m\u001b[43m,\u001b[49m\u001b[43m \u001b[49m\u001b[38;5;241;43m*\u001b[39;49m\u001b[38;5;241;43m*\u001b[39;49m\u001b[43mkwargs\u001b[49m\u001b[43m)\u001b[49m\n\u001b[1;32m     99\u001b[0m current_span \u001b[38;5;241m=\u001b[39m trace\u001b[38;5;241m.\u001b[39mget_current_span()\n\u001b[1;32m    100\u001b[0m tp_header \u001b[38;5;241m=\u001b[39m \u001b[38;5;28;01mNone\u001b[39;00m\n",
      "File \u001b[0;32m~/Desktop/Mesa - MacBook Air de Laura/insper/quinto_semestre/megadados/md-bcc/.venv/lib/python3.12/site-packages/mysql/connector/connection_cext.py:763\u001b[0m, in \u001b[0;36mCMySQLConnection.cmd_query\u001b[0;34m(self, query, raw, buffered, raw_as_string, **kwargs)\u001b[0m\n\u001b[1;32m    755\u001b[0m     \u001b[38;5;28mself\u001b[39m\u001b[38;5;241m.\u001b[39m_cmysql\u001b[38;5;241m.\u001b[39mquery(\n\u001b[1;32m    756\u001b[0m         query,\n\u001b[1;32m    757\u001b[0m         raw\u001b[38;5;241m=\u001b[39mraw,\n\u001b[0;32m   (...)\u001b[0m\n\u001b[1;32m    760\u001b[0m         query_attrs\u001b[38;5;241m=\u001b[39m\u001b[38;5;28mself\u001b[39m\u001b[38;5;241m.\u001b[39mquery_attrs,\n\u001b[1;32m    761\u001b[0m     )\n\u001b[1;32m    762\u001b[0m \u001b[38;5;28;01mexcept\u001b[39;00m MySQLInterfaceError \u001b[38;5;28;01mas\u001b[39;00m err:\n\u001b[0;32m--> 763\u001b[0m     \u001b[38;5;28;01mraise\u001b[39;00m get_mysql_exception(\n\u001b[1;32m    764\u001b[0m         err\u001b[38;5;241m.\u001b[39merrno, msg\u001b[38;5;241m=\u001b[39merr\u001b[38;5;241m.\u001b[39mmsg, sqlstate\u001b[38;5;241m=\u001b[39merr\u001b[38;5;241m.\u001b[39msqlstate\n\u001b[1;32m    765\u001b[0m     ) \u001b[38;5;28;01mfrom\u001b[39;00m\u001b[38;5;250m \u001b[39m\u001b[38;5;21;01merr\u001b[39;00m\n\u001b[1;32m    766\u001b[0m \u001b[38;5;28;01mexcept\u001b[39;00m \u001b[38;5;167;01mAttributeError\u001b[39;00m \u001b[38;5;28;01mas\u001b[39;00m err:\n\u001b[1;32m    767\u001b[0m     addr \u001b[38;5;241m=\u001b[39m (\n\u001b[1;32m    768\u001b[0m         \u001b[38;5;28mself\u001b[39m\u001b[38;5;241m.\u001b[39m_unix_socket \u001b[38;5;28;01mif\u001b[39;00m \u001b[38;5;28mself\u001b[39m\u001b[38;5;241m.\u001b[39m_unix_socket \u001b[38;5;28;01melse\u001b[39;00m \u001b[38;5;124mf\u001b[39m\u001b[38;5;124m\"\u001b[39m\u001b[38;5;132;01m{\u001b[39;00m\u001b[38;5;28mself\u001b[39m\u001b[38;5;241m.\u001b[39m_host\u001b[38;5;132;01m}\u001b[39;00m\u001b[38;5;124m:\u001b[39m\u001b[38;5;132;01m{\u001b[39;00m\u001b[38;5;28mself\u001b[39m\u001b[38;5;241m.\u001b[39m_port\u001b[38;5;132;01m}\u001b[39;00m\u001b[38;5;124m\"\u001b[39m\n\u001b[1;32m    769\u001b[0m     )\n",
      "\u001b[0;31mIntegrityError\u001b[0m: 1062 (23000): Duplicate entry 'N' for key 'regiao.PRIMARY'"
     ]
    }
   ],
   "source": [
    "# Agora deixa eu responder a questão\n",
    "sql_ex01 = \"\"\"\n",
    "INSERT INTO regiao (regiao, descricao) \n",
    "VALUES ('N', 'Norte');\n",
    "\"\"\"\n",
    "\n",
    "db_atv(sql_ex01)"
   ]
  },
  {
   "cell_type": "code",
   "execution_count": 120,
   "metadata": {},
   "outputs": [
    {
     "name": "stdout",
     "output_type": "stream",
     "text": [
      "Executando query:\n",
      "('CO', 'Centro-Oeste')\n",
      "('N', 'Norte')\n",
      "('NE', 'Nordeste')\n",
      "('S', 'Sul')\n",
      "('SE', 'Sudeste')\n"
     ]
    }
   ],
   "source": [
    "# Deixa eu ver o RESULTADO!\n",
    "db_atv(\"SELECT * FROM regiao\")"
   ]
  },
  {
   "cell_type": "code",
   "execution_count": null,
   "metadata": {},
   "outputs": [
    {
     "data": {
      "application/vnd.jupyter.widget-view+json": {
       "model_id": "6e378a9cb9984c30a9ad764a5cb0b840",
       "version_major": 2,
       "version_minor": 0
      },
      "text/plain": [
       "interactive(children=(Button(description='Enviar ex01', style=ButtonStyle()), Output()), _dom_classes=('widget…"
      ]
     },
     "metadata": {},
     "output_type": "display_data"
    }
   ],
   "source": [
    "ia.sender(answer=\"sql_ex01\", task=\"dml\", question=\"ex01\", answer_type=\"pyvar\")"
   ]
  },
  {
   "cell_type": "markdown",
   "metadata": {},
   "source": [
    "**Exercício 2**: Em uma única query (sem fazer vários `INSERT`), insira as regiões na tabela `regiao`:\n",
    "\n",
    "- a região `\"NE\"` com descrição `\"Nordeste\"`.\n",
    "- a região `\"SE\"` com descrição `\"Sudeste\"`.\n",
    "- a região `\"S\"` com descrição `\"Sul\"`.\n",
    "- a região `\"CO\"` com descrição `\"Centro-Oeste\"`."
   ]
  },
  {
   "cell_type": "code",
   "execution_count": null,
   "metadata": {},
   "outputs": [
    {
     "name": "stdout",
     "output_type": "stream",
     "text": [
      "Executando query:\n",
      "('N', 'Norte')\n"
     ]
    }
   ],
   "source": [
    "# Deixa eu ver como está\n",
    "db_atv(\"SELECT * FROM regiao\")"
   ]
  },
  {
   "cell_type": "code",
   "execution_count": null,
   "metadata": {},
   "outputs": [
    {
     "name": "stdout",
     "output_type": "stream",
     "text": [
      "Executando query:\n"
     ]
    }
   ],
   "source": [
    "# Agora deixa eu responder a questão\n",
    "sql_ex02 = \"\"\"\n",
    "INSERT INTO regiao (regiao, descricao) \n",
    "VALUES \n",
    "    ('NE', 'Nordeste'),\n",
    "    ('SE', 'Sudeste'),\n",
    "    ('S', 'Sul'),\n",
    "    ('CO', 'Centro-Oeste');\n",
    "\"\"\"\n",
    "\n",
    "db_atv(sql_ex02)"
   ]
  },
  {
   "cell_type": "code",
   "execution_count": null,
   "metadata": {
    "scrolled": true
   },
   "outputs": [
    {
     "name": "stdout",
     "output_type": "stream",
     "text": [
      "Executando query:\n",
      "('CO', 'Centro-Oeste')\n",
      "('N', 'Norte')\n",
      "('NE', 'Nordeste')\n",
      "('S', 'Sul')\n",
      "('SE', 'Sudeste')\n"
     ]
    }
   ],
   "source": [
    "# Deixa eu ver o RESULTADO!\n",
    "db_atv(\"SELECT * FROM regiao\")"
   ]
  },
  {
   "cell_type": "code",
   "execution_count": null,
   "metadata": {
    "scrolled": true
   },
   "outputs": [
    {
     "data": {
      "application/vnd.jupyter.widget-view+json": {
       "model_id": "9e2d5a5adb2144aca176de23bd0c66a1",
       "version_major": 2,
       "version_minor": 0
      },
      "text/plain": [
       "interactive(children=(Button(description='Enviar ex02', style=ButtonStyle()), Output()), _dom_classes=('widget…"
      ]
     },
     "metadata": {},
     "output_type": "display_data"
    }
   ],
   "source": [
    "ia.sender(answer=\"sql_ex02\", task=\"dml\", question=\"ex02\", answer_type=\"pyvar\")"
   ]
  },
  {
   "cell_type": "markdown",
   "metadata": {},
   "source": [
    "**Exercício 3**: Considere que as seguinte queries foram executadas:\n",
    "\n",
    "```mysql\n",
    "INSERT INTO vendinha.uf\n",
    "    (uf, descricao, regiao)\n",
    "VALUES\n",
    "    ('sp', 'São Paulo', 'SE'),\n",
    "    ('mg', 'Minas Gerais', 'SE'),\n",
    "    ('pr', 'Paraná', 'S'),\n",
    "    ('am', 'Amazonas', 'N'),\n",
    "    ('ba', 'Bahia', 'NE');\n",
    "```\n",
    "\n",
    "**Obs**: vamos supor que as cinco regiões do BR estão cadastradas. Cadastre-as em sua base local usando a chamada do banco (aqui do notebook mesmo)!\n",
    "\n",
    "Crie uma que altere para **maiúsculo** o `uf` apenas dos estados da região **sudeste**."
   ]
  },
  {
   "cell_type": "code",
   "execution_count": null,
   "metadata": {},
   "outputs": [],
   "source": [
    "# Deixa eu ver como está\n",
    "db_atv(\"SELECT * FROM uf\")"
   ]
  },
  {
   "cell_type": "code",
   "execution_count": null,
   "metadata": {},
   "outputs": [
    {
     "name": "stdout",
     "output_type": "stream",
     "text": [
      "Executando query:\n"
     ]
    }
   ],
   "source": [
    "# Agora deixa eu responder a questão\n",
    "sql_ex03 = \"\"\"\n",
    "UPDATE vendinha.uf\n",
    "SET uf = UPPER(uf)\n",
    "WHERE regiao = 'SE';\n",
    "\"\"\"\n",
    "\n",
    "db_atv(sql_ex03)"
   ]
  },
  {
   "cell_type": "code",
   "execution_count": null,
   "metadata": {
    "scrolled": false
   },
   "outputs": [
    {
     "name": "stdout",
     "output_type": "stream",
     "text": [
      "Executando query:\n"
     ]
    }
   ],
   "source": [
    "# Deixa eu ver o RESULTADO!\n",
    "db_atv(\"SELECT * FROM uf\")"
   ]
  },
  {
   "cell_type": "code",
   "execution_count": null,
   "metadata": {
    "scrolled": false
   },
   "outputs": [
    {
     "data": {
      "application/vnd.jupyter.widget-view+json": {
       "model_id": "3b17b227d9d146b29b4180cf15c99c0b",
       "version_major": 2,
       "version_minor": 0
      },
      "text/plain": [
       "interactive(children=(Button(description='Enviar ex03', style=ButtonStyle()), Output()), _dom_classes=('widget…"
      ]
     },
     "metadata": {},
     "output_type": "display_data"
    }
   ],
   "source": [
    "ia.sender(answer=\"sql_ex03\", task=\"dml\", question=\"ex03\", answer_type=\"pyvar\")"
   ]
  },
  {
   "cell_type": "markdown",
   "metadata": {},
   "source": [
    "**Exercício 4**: Considere que as seguinte queries foram executadas:\n",
    "\n",
    "<div class=\"alert alert-info\">\n",
    "\n",
    "Perceba que os `uf` estão em maúsculo neste exercício!\n",
    "\n",
    "</div>\n",
    "\n",
    "**Tabela `uf`**:\n",
    "```mysql\n",
    "INSERT INTO vendinha.uf\n",
    "    (uf, descricao, regiao)\n",
    "VALUES\n",
    "    ('SP', 'São Paulo', 'SE'),\n",
    "    ('MG', 'Minas Gerais', 'SE'),\n",
    "    ('PR', 'Paraná', 'S'),\n",
    "    ('AM', 'Amazonas', 'N'),\n",
    "    ('BA', 'Bahia', 'NE');\n",
    "```\n",
    "\n",
    "**Tabela `cidade`**:\n",
    "```mysql\n",
    "INSERT INTO vendinha.cidade\n",
    "    (id, descricao, uf)\n",
    "VALUES\n",
    "    (20, 'São Paulo', 'SP'),\n",
    "    (21, 'Campinas', 'SP'),\n",
    "    (22, 'Salvador', 'BA'),\n",
    "    (23, 'Manaus', 'AM'),\n",
    "    (24, 'Belo Horizonte', 'MG'),\n",
    "    (25, 'São Roque de Minas', 'MG');\n",
    "```\n",
    "\n",
    "**Tabela `vendedor`**:\n",
    "```mysql\n",
    "INSERT INTO vendinha.vendedor\n",
    "    (id, nome, data_nasc, data_cad, ativo)\n",
    "VALUES\n",
    "    (100, 'Maria Roque', '1988-01-01', '2023-06-11', 1),\n",
    "    (101, 'Ana Benedita', '1970-12-09', '2023-07-15', 1),\n",
    "    (102, 'Silvio Jardim', '1988-12-25', '2023-08-01', 1),\n",
    "    (103, 'Bruna Fontana', '1981-07-05', '2023-09-01', 1),\n",
    "    (104, 'Tulio Maravilha', '1978-09-22', '2023-08-07', 1),\n",
    "    (105, 'Gino Pereira', '1964-04-03', '2023-08-25', 0),\n",
    "    (106, 'Camila Oliveira', '1992-08-05', '2023-09-01', 1),\n",
    "    (107, 'Mariana Souza', '1985-08-29', '2023-09-01', 1);\n",
    "```\n",
    "\n",
    "\n",
    "**Obs**: vamos supor que as cinco regiões do BR estão cadastradas. Cadastre-as em sua base local usando a chamada do banco (aqui do notebook mesmo)!\n",
    "\n",
    "Foi descoberto que todos os vendedores cadastrados em **agosto de 2023** são bots e devem ser removidos da base. Construa sua query!"
   ]
  },
  {
   "cell_type": "code",
   "execution_count": null,
   "metadata": {},
   "outputs": [
    {
     "name": "stdout",
     "output_type": "stream",
     "text": [
      "Executando query:\n"
     ]
    }
   ],
   "source": [
    "# Deixa eu ver como está\n",
    "db_atv(\"SELECT * FROM vendedor\")"
   ]
  },
  {
   "cell_type": "code",
   "execution_count": null,
   "metadata": {},
   "outputs": [
    {
     "name": "stdout",
     "output_type": "stream",
     "text": [
      "Executando query:\n"
     ]
    }
   ],
   "source": [
    "# Agora deixa eu responder a questão\n",
    "sql_ex04 = \"\"\"\n",
    "DELETE FROM vendinha.vendedor\n",
    "WHERE data_cad BETWEEN '2023-08-01' AND '2023-08-31';\n",
    "\"\"\"\n",
    "\n",
    "db_atv(sql_ex04)"
   ]
  },
  {
   "cell_type": "code",
   "execution_count": null,
   "metadata": {
    "scrolled": true
   },
   "outputs": [
    {
     "name": "stdout",
     "output_type": "stream",
     "text": [
      "Executando query:\n"
     ]
    }
   ],
   "source": [
    "# Deixa eu ver o RESULTADO!\n",
    "db_atv(\"SELECT * FROM vendedor\")"
   ]
  },
  {
   "cell_type": "code",
   "execution_count": null,
   "metadata": {
    "scrolled": false
   },
   "outputs": [
    {
     "data": {
      "application/vnd.jupyter.widget-view+json": {
       "model_id": "5f903de686fa45188393fce97da562a3",
       "version_major": 2,
       "version_minor": 0
      },
      "text/plain": [
       "interactive(children=(Button(description='Enviar ex04', style=ButtonStyle()), Output()), _dom_classes=('widget…"
      ]
     },
     "metadata": {},
     "output_type": "display_data"
    }
   ],
   "source": [
    "ia.sender(answer=\"sql_ex04\", task=\"dml\", question=\"ex04\", answer_type=\"pyvar\")"
   ]
  },
  {
   "cell_type": "markdown",
   "metadata": {},
   "source": [
    "**Exercício 5**: Considere que as seguinte queries foram executadas:\n",
    "\n",
    "<div class=\"alert alert-info\">\n",
    "\n",
    "Perceba que os `uf` estão em maúsculo neste exercício!\n",
    "\n",
    "</div>\n",
    "\n",
    "**Tabela `uf`**:\n",
    "```mysql\n",
    "INSERT INTO vendinha.uf\n",
    "    (uf, descricao, regiao)\n",
    "VALUES\n",
    "    ('SP', 'São Paulo', 'SE'),\n",
    "    ('MG', 'Minas Gerais', 'SE'),\n",
    "    ('PR', 'Paraná', 'S'),\n",
    "    ('AM', 'Amazonas', 'N'),\n",
    "    ('BA', 'Bahia', 'NE');\n",
    "```\n",
    "\n",
    "**Tabela `cidade`**:\n",
    "```mysql\n",
    "INSERT INTO vendinha.cidade\n",
    "    (id, descricao, uf)\n",
    "VALUES\n",
    "    (20, 'São Paulo', 'SP'),\n",
    "    (21, 'Campinas', 'SP'),\n",
    "    (22, 'Salvador', 'BA'),\n",
    "    (23, 'Manaus', 'AM'),\n",
    "    (24, 'Belo Horizonte', 'MG'),\n",
    "    (25, 'São Roque de Minas', 'MG');\n",
    "```\n",
    "\n",
    "**Tabela `vendedor`**:\n",
    "```mysql\n",
    "INSERT INTO vendinha.vendedor\n",
    "    (id, nome, data_nasc, data_cad, ativo)\n",
    "VALUES\n",
    "    (100, 'Maria Roque', '1988-01-01', '2023-06-11', 1),\n",
    "    (101, 'Ana Benedita', '1970-12-09', '2023-07-15', 1),\n",
    "    (102, 'Silvio Jardim', '1988-12-25', '2023-08-01', 1),\n",
    "    (103, 'Bruna Fontana', '1981-07-05', '2023-09-01', 1),\n",
    "    (104, 'Tulio Maravilha', '1978-09-22', '2023-08-07', 1),\n",
    "    (105, 'Gino Pereira', '1964-04-03', '2023-08-25', 0),\n",
    "    (106, 'Camila Oliveira', '1992-08-05', '2023-09-01', 1),\n",
    "    (107, 'Mariana Souza', '1985-08-29', '2023-09-01', 1);\n",
    "```\n",
    "\n",
    "\n",
    "**Obs**: vamos supor que as cinco regiões do BR estão cadastradas. Cadastre-as em sua base local usando a chamada do banco (aqui do notebook mesmo)!\n",
    "\n",
    "Dadas as relações de **vendedores** e **cidades onde vendedor vende**:\n",
    "\n",
    "- Bruna Fontana:\n",
    "    - São Paulo SP\n",
    "    - Campinas SP\n",
    "- Silvio Jardim:\n",
    "    - São Paulo SP\n",
    "    - Belo Horizonte MG\n",
    "    - São Roque de Minas\n",
    "- Camila Oliveira:\n",
    "    - Manaus AM\n",
    "    \n",
    "Construa uma query para popular a tabela `vendedor_vende_cidade`."
   ]
  },
  {
   "cell_type": "code",
   "execution_count": null,
   "metadata": {},
   "outputs": [
    {
     "name": "stdout",
     "output_type": "stream",
     "text": [
      "Executando query:\n"
     ]
    }
   ],
   "source": [
    "# Deixa eu ver como está\n",
    "db_atv(\"SELECT * FROM vendedor_vende_cidade\")"
   ]
  },
  {
   "cell_type": "code",
   "execution_count": 136,
   "metadata": {},
   "outputs": [],
   "source": [
    "# Agora deixa eu responder a questão\n",
    "sql_ex05 = \"\"\"\n",
    "INSERT INTO vendinha.vendedor_vende_cidade (id_vendedor, id_cidade) \n",
    "VALUES\n",
    "    (103, 20), -- Bruna Fontana - São Paulo SP\n",
    "    (103, 21), -- Bruna Fontana - Campinas SP\n",
    "    (102, 20), -- Silvio Jardim - São Paulo SP\n",
    "    (102, 24), -- Silvio Jardim - Belo Horizonte MG\n",
    "    (102, 25), \n",
    "    (106, 23); \n",
    "\"\"\"\n",
    "\n",
    "# db_atv(sql_ex05)"
   ]
  },
  {
   "cell_type": "code",
   "execution_count": 126,
   "metadata": {
    "scrolled": true
   },
   "outputs": [
    {
     "ename": "OperationalError",
     "evalue": "MySQL Connection not available.",
     "output_type": "error",
     "traceback": [
      "\u001b[0;31m---------------------------------------------------------------------------\u001b[0m",
      "\u001b[0;31mOperationalError\u001b[0m                          Traceback (most recent call last)",
      "Cell \u001b[0;32mIn[126], line 2\u001b[0m\n\u001b[1;32m      1\u001b[0m \u001b[38;5;66;03m# Deixa eu ver o RESULTADO!\u001b[39;00m\n\u001b[0;32m----> 2\u001b[0m \u001b[43mdb_atv\u001b[49m\u001b[43m(\u001b[49m\u001b[38;5;124;43m\"\u001b[39;49m\u001b[38;5;124;43mSELECT * FROM vendedor_vende_cidade\u001b[39;49m\u001b[38;5;124;43m\"\u001b[39;49m\u001b[43m)\u001b[49m\n",
      "Cell \u001b[0;32mIn[55], line 7\u001b[0m, in \u001b[0;36mConnectionHelper.__call__\u001b[0;34m(self, query, args)\u001b[0m\n\u001b[1;32m      6\u001b[0m \u001b[38;5;28;01mdef\u001b[39;00m\u001b[38;5;250m \u001b[39m\u001b[38;5;21m__call__\u001b[39m(\u001b[38;5;28mself\u001b[39m, query, args\u001b[38;5;241m=\u001b[39m\u001b[38;5;28;01mNone\u001b[39;00m):\n\u001b[0;32m----> 7\u001b[0m     \u001b[38;5;28;01mwith\u001b[39;00m \u001b[38;5;28;43mself\u001b[39;49m\u001b[38;5;241;43m.\u001b[39;49m\u001b[43mconnection\u001b[49m\u001b[38;5;241;43m.\u001b[39;49m\u001b[43mcursor\u001b[49m\u001b[43m(\u001b[49m\u001b[43m)\u001b[49m \u001b[38;5;28;01mas\u001b[39;00m cursor:\n\u001b[1;32m      8\u001b[0m         \u001b[38;5;28mprint\u001b[39m(\u001b[38;5;124m\"\u001b[39m\u001b[38;5;124mExecutando query:\u001b[39m\u001b[38;5;124m\"\u001b[39m)\n\u001b[1;32m      9\u001b[0m         cursor\u001b[38;5;241m.\u001b[39mexecute(query, args)\n",
      "File \u001b[0;32m~/Desktop/Mesa - MacBook Air de Laura/insper/quinto_semestre/megadados/md-bcc/.venv/lib/python3.12/site-packages/mysql/connector/connection_cext.py:824\u001b[0m, in \u001b[0;36mCMySQLConnection.cursor\u001b[0;34m(self, buffered, raw, prepared, cursor_class, dictionary, named_tuple, read_timeout, write_timeout)\u001b[0m\n\u001b[1;32m    822\u001b[0m \u001b[38;5;28mself\u001b[39m\u001b[38;5;241m.\u001b[39mhandle_unread_result(prepared)\n\u001b[1;32m    823\u001b[0m \u001b[38;5;28;01mif\u001b[39;00m \u001b[38;5;129;01mnot\u001b[39;00m \u001b[38;5;28mself\u001b[39m\u001b[38;5;241m.\u001b[39mis_connected():\n\u001b[0;32m--> 824\u001b[0m     \u001b[38;5;28;01mraise\u001b[39;00m OperationalError(\u001b[38;5;124m\"\u001b[39m\u001b[38;5;124mMySQL Connection not available.\u001b[39m\u001b[38;5;124m\"\u001b[39m)\n\u001b[1;32m    825\u001b[0m \u001b[38;5;28;01mif\u001b[39;00m read_timeout \u001b[38;5;129;01mor\u001b[39;00m write_timeout:\n\u001b[1;32m    826\u001b[0m     warnings\u001b[38;5;241m.\u001b[39mwarn(\n\u001b[1;32m    827\u001b[0m \u001b[38;5;250m        \u001b[39m\u001b[38;5;124;03m\"\"\"The use of read_timeout after the connection has been established is unsupported\u001b[39;00m\n\u001b[1;32m    828\u001b[0m \u001b[38;5;124;03m        in the C-Extension\"\"\"\u001b[39;00m,\n\u001b[1;32m    829\u001b[0m         category\u001b[38;5;241m=\u001b[39m\u001b[38;5;167;01mWarning\u001b[39;00m,\n\u001b[1;32m    830\u001b[0m     )\n",
      "\u001b[0;31mOperationalError\u001b[0m: MySQL Connection not available."
     ]
    }
   ],
   "source": [
    "# Deixa eu ver o RESULTADO!\n",
    "db_atv(\"SELECT * FROM vendedor_vende_cidade\")"
   ]
  },
  {
   "cell_type": "code",
   "execution_count": null,
   "metadata": {},
   "outputs": [
    {
     "data": {
      "application/vnd.jupyter.widget-view+json": {
       "model_id": "badd8f88800d49de8f615eaa18e46c25",
       "version_major": 2,
       "version_minor": 0
      },
      "text/plain": [
       "interactive(children=(Button(description='Enviar ex05', style=ButtonStyle()), Output()), _dom_classes=('widget…"
      ]
     },
     "metadata": {},
     "output_type": "display_data"
    }
   ],
   "source": [
    "ia.sender(answer=\"sql_ex05\", task=\"dml\", question=\"ex05\", answer_type=\"pyvar\")"
   ]
  },
  {
   "cell_type": "markdown",
   "metadata": {},
   "source": [
    "**Exercício 6**: Considere que as seguinte queries foram executadas:\n",
    "\n",
    "**Tabela `uf`**:\n",
    "```mysql\n",
    "INSERT INTO vendinha.uf\n",
    "    (uf, descricao, regiao)\n",
    "VALUES\n",
    "    ('SP', 'São Paulo', 'SE'),\n",
    "    ('MG', 'Minas Gerais', 'SE'),\n",
    "    ('PR', 'Paraná', 'S'),\n",
    "    ('AM', 'Amazonas', 'N'),\n",
    "    ('BA', 'Bahia', 'NE');\n",
    "```\n",
    "\n",
    "**Tabela `cidade`**:\n",
    "```mysql\n",
    "INSERT INTO vendinha.cidade\n",
    "    (id, descricao, uf)\n",
    "VALUES\n",
    "    (20, 'São Paulo', 'SP'),\n",
    "    (21, 'Campinas', 'SP'),\n",
    "    (22, 'Salvador', 'BA'),\n",
    "    (23, 'Manaus', 'AM'),\n",
    "    (24, 'Belo Horizonte', 'MG'),\n",
    "    (25, 'São Roque de Minas', 'MG');\n",
    "```\n",
    "\n",
    "**Tabela `vendedor`**:\n",
    "```mysql\n",
    "INSERT INTO vendinha.vendedor\n",
    "    (id, nome, data_nasc, data_cad, ativo)\n",
    "VALUES\n",
    "    (100, 'Maria Roque', '1988-01-01', '2023-06-11', 1),\n",
    "    (101, 'Ana Benedita', '1970-12-09', '2023-07-15', 1),\n",
    "    (102, 'Silvio Jardim', '1988-12-25', '2023-08-01', 1),\n",
    "    (103, 'Bruna Fontana', '1981-07-05', '2023-09-01', 1),\n",
    "    (104, 'Tulio Maravilha', '1978-09-22', '2023-08-07', 1),\n",
    "    (105, 'Gino Pereira', '1964-04-03', '2023-08-25', 0),\n",
    "    (106, 'Camila Oliveira', '1992-08-05', '2023-09-01', 1),\n",
    "    (107, 'Mariana Souza', '1985-08-29', '2023-09-01', 1);\n",
    "```\n",
    "\n",
    "Ainda, considere uma nova tabela chamada `vendedor_ativo_dia` com o esquema:\n",
    "\n",
    "| Coluna         | Tipo         | PK (Primary Key?) | Not Null? | Autoinc?\n",
    "|----------------|--------------|-------------------|-----------|-----------|\n",
    "| id             | INT          |   True            |    True   |     True  |\n",
    "| id_vendedor    | INT          |                   |    True   |           |\n",
    "| ativo          | TYNYINT      |                   |    True   |           |\n",
    "| data_registro  | DATE         |                   |    True   |           |\n",
    "\n",
    "Considere que a tabela `vendedor_ativo_dia` é utilizada para criar um registro histórico de todos os vendedores que estão ativos em cada data.\n",
    "\n",
    "**Obs**: vamos supor que as cinco regiões do BR estão cadastradas. Cadastre-as em sua base local usando a chamada do banco (aqui do notebook mesmo)!\n",
    "\n",
    "Construa uma query que faça a inserção dos dados na tabela `vendedor_ativo_dia` a partir de um `SELECT` dos vendedores ativos da tabela de vendedor.\n",
    "\n",
    "<div class=\"alert alert-danger\">\n",
    "\n",
    "Não deixe a data **hardcoded**. Pesquise como recuperar a data atual do sistema em uma query.\n",
    "\n",
    "</div>\n",
    "  \n",
    "<div class=\"alert alert-info\">\n",
    "\n",
    "Por simplificação, não é necessário criar as constraints de chave extrangeira na tabela `vendedor_ativo_dia`.\n",
    "\n",
    "</div>\n",
    "\n",
    "Sugestão de resolução:\n",
    "- Criar DDL para `vendedor_ativo_dia`\n",
    "- Criar SELECT para pegar:\n",
    "    - Vendedores ativos\n",
    "    - com o dia de hoje\n",
    "- Inserir estes dados (usando `SELECT`) na tabela `vendedor_ativo_dia`.\n",
    "\n",
    "Não é necessário enviar a **DDL** para o servidor."
   ]
  },
  {
   "cell_type": "code",
   "execution_count": 128,
   "metadata": {},
   "outputs": [
    {
     "name": "stdout",
     "output_type": "stream",
     "text": [
      "Executando query:\n"
     ]
    }
   ],
   "source": [
    "# Deixa eu ver como está\n",
    "db_atv(\"\"\"\n",
    "CREATE TABLE IF NOT EXISTS vendinha.vendedor_ativo_dia (\n",
    "    id_vendedor INT,\n",
    "    ativo BOOLEAN,\n",
    "    data_registro DATE\n",
    ");\n",
    "\"\"\")"
   ]
  },
  {
   "cell_type": "code",
   "execution_count": 129,
   "metadata": {},
   "outputs": [
    {
     "name": "stdout",
     "output_type": "stream",
     "text": [
      "Executando query:\n"
     ]
    }
   ],
   "source": [
    "# Agora deixa eu responder a questão\n",
    "sql_ex06 = \"\"\"\n",
    "INSERT INTO vendinha.vendedor_ativo_dia (id_vendedor, ativo, data_registro)\n",
    "SELECT id, ativo, CURDATE()\n",
    "FROM vendinha.vendedor\n",
    "WHERE ativo = 1;\n",
    "\"\"\"\n",
    "\n",
    "db_atv(sql_ex06)"
   ]
  },
  {
   "cell_type": "code",
   "execution_count": 130,
   "metadata": {
    "scrolled": true
   },
   "outputs": [
    {
     "name": "stdout",
     "output_type": "stream",
     "text": [
      "Executando query:\n"
     ]
    }
   ],
   "source": [
    "# Deixa eu ver o RESULTADO!\n",
    "db_atv(\"SELECT * FROM vendedor_ativo_dia\")"
   ]
  },
  {
   "cell_type": "code",
   "execution_count": null,
   "metadata": {},
   "outputs": [
    {
     "data": {
      "application/vnd.jupyter.widget-view+json": {
       "model_id": "bbe4a0202c8942faba3c2d014bfc246f",
       "version_major": 2,
       "version_minor": 0
      },
      "text/plain": [
       "interactive(children=(Button(description='Enviar ex06', style=ButtonStyle()), Output()), _dom_classes=('widget…"
      ]
     },
     "metadata": {},
     "output_type": "display_data"
    }
   ],
   "source": [
    "ia.sender(answer=\"sql_ex06\", task=\"dml\", question=\"ex06\", answer_type=\"pyvar\")"
   ]
  },
  {
   "cell_type": "markdown",
   "metadata": {},
   "source": [
    "### Conferir Notas\n",
    "\n",
    "Confira se as notas na atividade são as esperadas!\n",
    "\n",
    "Primeiro na atividade atual!"
   ]
  },
  {
   "cell_type": "code",
   "execution_count": 131,
   "metadata": {
    "scrolled": true
   },
   "outputs": [
    {
     "data": {
      "text/markdown": [
       "|    | Tarefa   |   Nota |\n",
       "|---:|:---------|-------:|\n",
       "|  0 | dml      |   8.33 |"
      ],
      "text/plain": [
       "<IPython.core.display.Markdown object>"
      ]
     },
     "metadata": {},
     "output_type": "display_data"
    }
   ],
   "source": [
    "ia.grades(by=\"TASK\", task=\"dml\")"
   ]
  },
  {
   "cell_type": "code",
   "execution_count": 132,
   "metadata": {},
   "outputs": [
    {
     "data": {
      "text/markdown": [
       "|    | Atividade   | Exercício   |   Peso |   Nota |\n",
       "|---:|:------------|:------------|-------:|-------:|\n",
       "|  0 | dml         | ex01        |      1 |     10 |\n",
       "|  1 | dml         | ex02        |      1 |     10 |\n",
       "|  2 | dml         | ex03        |      1 |     10 |\n",
       "|  3 | dml         | ex04        |      1 |     10 |\n",
       "|  4 | dml         | ex05        |      1 |      0 |\n",
       "|  5 | dml         | ex06        |      1 |     10 |"
      ],
      "text/plain": [
       "<IPython.core.display.Markdown object>"
      ]
     },
     "metadata": {},
     "output_type": "display_data"
    }
   ],
   "source": [
    "ia.grades(task=\"dml\")"
   ]
  },
  {
   "cell_type": "markdown",
   "metadata": {},
   "source": [
    "E agora em todas as demais!"
   ]
  },
  {
   "cell_type": "code",
   "execution_count": 133,
   "metadata": {},
   "outputs": [
    {
     "data": {
      "text/markdown": [
       "|    | Tarefa       |   Nota |\n",
       "|---:|:-------------|-------:|\n",
       "|  0 | agg_join     |   0    |\n",
       "|  1 | ddl          |  10    |\n",
       "|  2 | dml          |   8.33 |\n",
       "|  3 | group_having |   0    |\n",
       "|  4 | newborn      |  10    |\n",
       "|  5 | select01     |  10    |"
      ],
      "text/plain": [
       "<IPython.core.display.Markdown object>"
      ]
     },
     "metadata": {},
     "output_type": "display_data"
    }
   ],
   "source": [
    "ia.grades(by=\"TASK\")"
   ]
  },
  {
   "cell_type": "code",
   "execution_count": 134,
   "metadata": {},
   "outputs": [
    {
     "data": {
      "text/markdown": [
       "|    | Atividade    | Exercício   |   Peso |   Nota |\n",
       "|---:|:-------------|:------------|-------:|-------:|\n",
       "|  0 | agg_join     | ex01        |      1 |      0 |\n",
       "|  1 | agg_join     | ex02        |      1 |      0 |\n",
       "|  2 | agg_join     | ex03        |      1 |      0 |\n",
       "|  3 | agg_join     | ex04        |      1 |      0 |\n",
       "|  4 | agg_join     | ex05        |      1 |      0 |\n",
       "|  5 | agg_join     | ex06        |      1 |      0 |\n",
       "|  6 | ddl          | ex02        |      1 |     10 |\n",
       "|  7 | ddl          | ex03        |      1 |     10 |\n",
       "|  8 | ddl          | ex04        |      1 |     10 |\n",
       "|  9 | ddl          | ex05        |      1 |     10 |\n",
       "| 10 | ddl          | ex06        |      1 |     10 |\n",
       "| 11 | ddl          | ex07        |      1 |     10 |\n",
       "| 12 | ddl          | ex09        |      1 |     10 |\n",
       "| 13 | ddl          | ex10        |      1 |     10 |\n",
       "| 14 | ddl          | ex11        |      1 |     10 |\n",
       "| 15 | dml          | ex01        |      1 |     10 |\n",
       "| 16 | dml          | ex02        |      1 |     10 |\n",
       "| 17 | dml          | ex03        |      1 |     10 |\n",
       "| 18 | dml          | ex04        |      1 |     10 |\n",
       "| 19 | dml          | ex05        |      1 |      0 |\n",
       "| 20 | dml          | ex06        |      1 |     10 |\n",
       "| 21 | group_having | ex01        |      1 |      0 |\n",
       "| 22 | group_having | ex02        |      4 |      0 |\n",
       "| 23 | group_having | ex03        |      4 |      0 |\n",
       "| 24 | group_having | ex04        |      4 |      0 |\n",
       "| 25 | group_having | ex05        |      4 |      0 |\n",
       "| 26 | group_having | ex06        |      8 |      0 |\n",
       "| 27 | group_having | ex07        |      6 |      0 |\n",
       "| 28 | group_having | ex08        |      6 |      0 |\n",
       "| 29 | group_having | ex09        |     12 |      0 |\n",
       "| 30 | group_having | ex10        |     10 |      0 |\n",
       "| 31 | group_having | ex11        |     10 |      0 |\n",
       "| 32 | group_having | ex12        |      6 |      0 |\n",
       "| 33 | group_having | ex13        |     12 |      0 |\n",
       "| 34 | newborn      | ex01        |      1 |     10 |\n",
       "| 35 | select01     | ex01        |      1 |     10 |\n",
       "| 36 | select01     | ex02        |      1 |     10 |\n",
       "| 37 | select01     | ex03        |      1 |     10 |\n",
       "| 38 | select01     | ex04        |      1 |     10 |\n",
       "| 39 | select01     | ex05        |      1 |     10 |"
      ],
      "text/plain": [
       "<IPython.core.display.Markdown object>"
      ]
     },
     "metadata": {},
     "output_type": "display_data"
    }
   ],
   "source": [
    "ia.grades()"
   ]
  }
 ],
 "metadata": {
  "kernelspec": {
   "display_name": ".venv",
   "language": "python",
   "name": "python3"
  },
  "language_info": {
   "codemirror_mode": {
    "name": "ipython",
    "version": 3
   },
   "file_extension": ".py",
   "mimetype": "text/x-python",
   "name": "python",
   "nbconvert_exporter": "python",
   "pygments_lexer": "ipython3",
   "version": "3.12.6"
  }
 },
 "nbformat": 4,
 "nbformat_minor": 4
}
